{
 "cells": [
  {
   "cell_type": "code",
   "execution_count": 18,
   "metadata": {
    "collapsed": true
   },
   "outputs": [],
   "source": [
    "import pandas as pd\n",
    "import networkx as nx"
   ]
  },
  {
   "cell_type": "code",
   "execution_count": 16,
   "metadata": {
    "collapsed": false
   },
   "outputs": [],
   "source": [
    "sp500 = pd.read_csv('sp500.csv', index_col=0)\n",
    "# Set up a dictionary for components for further convenient\n",
    "sp500_dic = {key:val for key, val in zip(sp500['tickers'], sp500['sectors'])}\n",
    "# Read in correlation matrix \n",
    "corr = pd.read_csv('corr_2016.csv', index_col=0)"
   ]
  },
  {
   "cell_type": "code",
   "execution_count": 24,
   "metadata": {
    "collapsed": false
   },
   "outputs": [],
   "source": [
    "# Build network by correlation filtering methods\n",
    "# - linked two stocks with an edge if their absolute correlation was greater than a threshold value (about 0.6).\n",
    "corr_filter = nx.Graph()\n",
    "for i in range(len(sp500)-1):\n",
    "    for j in range(i+1, len(sp500)):\n",
    "        if abs(corr.iloc[i,j]) > 0.6:\n",
    "            corr_filter.add_edge(sp500['tickers'][i], sp500['tickers'][j])\n",
    "\n",
    "# Add sectors info to nodes\n",
    "for n in corr_filter.nodes():\n",
    "    corr_filter.node[n]['sectors'] = sp500_dic[n]\n",
    "    \n",
    "nx.write_gexf(corr_filter,'corr_2016.gexf')"
   ]
  }
 ],
 "metadata": {
  "anaconda-cloud": {},
  "kernelspec": {
   "display_name": "Python [conda root]",
   "language": "python",
   "name": "conda-root-py"
  },
  "language_info": {
   "codemirror_mode": {
    "name": "ipython",
    "version": 2
   },
   "file_extension": ".py",
   "mimetype": "text/x-python",
   "name": "python",
   "nbconvert_exporter": "python",
   "pygments_lexer": "ipython2",
   "version": "2.7.12"
  }
 },
 "nbformat": 4,
 "nbformat_minor": 1
}
