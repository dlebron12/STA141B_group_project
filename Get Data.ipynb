{
 "cells": [
  {
   "cell_type": "markdown",
   "metadata": {},
   "source": [
    "I. Get tickers and data of component companies in S&P500\n",
    "\n",
    "1. Script list of component companies in S&P500 from https://en.wikipedia.org/wiki/List_of_S%26P_500_companies\n",
    "2. Obtain the sector information of components and store in a data frame.\n",
    "3. Get daily prices of components from Yahoo Finance and calculate their daily price changes.  \n",
    "\n",
    "Reference:   \n",
    "http://www.thealgoengineer.com/2014/download_sp500_data/  \n",
    "http://stackoverflow.com/questions/28174193/add-new-column-based-on-a-list-and-sort-date-by-newest/28210920#28210920"
   ]
  },
  {
   "cell_type": "code",
   "execution_count": 1,
   "metadata": {
    "collapsed": true
   },
   "outputs": [],
   "source": [
    "import pandas as pd\n",
    "import numpy as np\n",
    "import requests\n",
    "import requests_cache\n",
    "requests_cache.install_cache('cache')\n",
    "\n",
    "from bs4 import BeautifulSoup\n",
    "from pandas import DataFrame\n",
    "from yahoo_finance import Share"
   ]
  },
  {
   "cell_type": "code",
   "execution_count": null,
   "metadata": {
    "collapsed": true
   },
   "outputs": [],
   "source": [
    "response = requests.get('https://en.wikipedia.org/wiki/List_of_S%26P_500_companies')\n",
    "soup = BeautifulSoup(response.content, 'html.parser')\n",
    "\n",
    "# Get the names of components of S&P500\n",
    "raw1 = soup.find_all(rel=\"nofollow\")\n",
    "tickers=[string.next_element for string in raw1]\n",
    "for name in tickers:\n",
    "    if len(name)>4:\n",
    "        tickers.remove(name)\n",
    "tickers = tickers[:505]\n",
    "tickers = [str.replace('.', '-') for str in tickers] # tickers with . inside names cannot be searched in Yahoo finance\n",
    "tickers = [t.encode('utf-8') for t in tickers]\n",
    "\n",
    "# Obtain the sectors which the components belong to\n",
    "raw2 = soup.find_all('td')\n",
    "raw3 = [raw2[3+8*i] for i in range(505)]\n",
    "sectors = [string.next_element for string in raw3]\n",
    "sectors = [s.encode('utf-8') for s in sectors]\n",
    "\n",
    "# Build the data frame of components information\n",
    "sp500 = pd.DataFrame(data = zip(tickers,sectors), columns = ['tickers','sectors'])\n",
    "sp500.to_csv('sp500.csv')\n",
    "# There are 505 constituents of S&P 500 index.\n",
    "\n",
    "# Set up a dictionary for components for further convenient\n",
    "sp500_dic = {key:val for key, val in zip(tickers, sectors)}"
   ]
  },
  {
   "cell_type": "code",
   "execution_count": null,
   "metadata": {
    "collapsed": true
   },
   "outputs": [],
   "source": [
    "# Function to retrieve the daily close price for a specific stock from Yahoo Finance\n",
    "def get_stockprice(ticker, start_date, end_date):\n",
    "    \"\"\"\n",
    "    Return the daily adjusted close price of one stock in a certain period.\n",
    "    Args:\n",
    "    ticker(string): stock symbol of a company.\n",
    "    start_date, end_date(string): time interval bounds in the format of 'yyyy-mm-dd'.\n",
    "    \"\"\"\n",
    "    stock = Share(ticker)\n",
    "    df = pd.DataFrame(stock.get_historical(start_date, end_date))\n",
    "    df.index = df['Date']\n",
    "    df.rename(columns = {'Adj_Close':ticker}, inplace = True)\n",
    "    df[ticker] = pd.to_numeric(df[ticker])\n",
    "    return df[ticker]"
   ]
  },
  {
   "cell_type": "code",
   "execution_count": null,
   "metadata": {
    "collapsed": true
   },
   "outputs": [],
   "source": [
    "# Get prices for 505 constituents in year 2016\n",
    "df = pd.DataFrame()\n",
    "for ticker in sp500['tickers']:\n",
    "    df1 = get_stockprice(ticker, '2016-01-01', '2016-12-31')\n",
    "    df = pd.concat([df, df1], axis=1)\n",
    "\n",
    "df.to_csv('price_2016.csv')\n",
    "df.head()"
   ]
  },
  {
   "cell_type": "code",
   "execution_count": null,
   "metadata": {
    "collapsed": true
   },
   "outputs": [],
   "source": [
    "# Function to calculate the changes in price\n",
    "def price_change(df):\n",
    "    \"\"\"\n",
    "    Return the data frame of price change\n",
    "    Arg:\n",
    "    df(data frame): the daily price data for stocks\n",
    "    \"\"\"\n",
    "    change = pd.DataFrame()\n",
    "    for i in range(len(df)-1):\n",
    "        diff = np.subtract(np.log(df.iloc[i,:]), np.log(df.iloc[i+1,:]))\n",
    "        change = pd.concat([change, diff],axis=1)\n",
    "    return change"
   ]
  },
  {
   "cell_type": "code",
   "execution_count": null,
   "metadata": {
    "collapsed": true
   },
   "outputs": [],
   "source": [
    "# Get price changes\n",
    "change = price_change(df).transpose()\n",
    "change.to_csv('change_2016.csv')\n",
    "\n",
    "# Calculate the correlation matrix of price changes \n",
    "corr = change.corr()\n",
    "corr.to_csv('corr_2016.csv')\n"
   ]
  }
 ],
 "metadata": {
  "anaconda-cloud": {},
  "kernelspec": {
   "display_name": "Python [conda root]",
   "language": "python",
   "name": "conda-root-py"
  },
  "language_info": {
   "codemirror_mode": {
    "name": "ipython",
    "version": 2
   },
   "file_extension": ".py",
   "mimetype": "text/x-python",
   "name": "python",
   "nbconvert_exporter": "python",
   "pygments_lexer": "ipython2",
   "version": "2.7.12"
  }
 },
 "nbformat": 4,
 "nbformat_minor": 1
}
