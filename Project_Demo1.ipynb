{
 "cells": [
  {
   "cell_type": "markdown",
   "metadata": {},
   "source": [
    "I. Get tickers and data of component companies in S&P500\n",
    "\n",
    "1. Script list of component companies in S&P500 from https://en.wikipedia.org/wiki/List_of_S%26P_500_companies\n",
    "2. Obtain the sector information of components and store in a data frame.\n",
    "3. Get daily prices of components from Yahoo Finance and calculate their daily price changes.  \n",
    "\n",
    "Reference:   \n",
    "http://www.thealgoengineer.com/2014/download_sp500_data/  \n",
    "http://stackoverflow.com/questions/28174193/add-new-column-based-on-a-list-and-sort-date-by-newest/28210920#28210920"
   ]
  },
  {
   "cell_type": "code",
   "execution_count": 200,
   "metadata": {
    "collapsed": false
   },
   "outputs": [],
   "source": [
    "import pandas as pd\n",
    "import numpy as np\n",
    "import networkx as nx\n",
    "import matplotlib.pyplot as plt\n",
    "%matplotlib inline\n",
    "import requests\n",
    "import requests_cache\n",
    "requests_cache.install_cache('cache')\n",
    "\n",
    "from bs4 import BeautifulSoup\n",
    "from pandas import DataFrame\n",
    "from scipy.spatial.distance import pdist, squareform"
   ]
  },
  {
   "cell_type": "code",
   "execution_count": 275,
   "metadata": {
    "collapsed": false
   },
   "outputs": [
    {
     "name": "stdout",
     "output_type": "stream",
     "text": [
      "[u'MMM', u'ABT', u'ABBV', u'ACN', u'ATVI', u'AYI', u'ADBE', u'AAP', u'AES', u'AET']\n",
      "[u'Industrials', u'Health Care', u'Health Care', u'Information Technology', u'Information Technology', u'Industrials', u'Information Technology', u'Consumer Discretionary', u'Utilities', u'Health Care']\n"
     ]
    },
    {
     "data": {
      "text/html": [
       "<div>\n",
       "<table border=\"1\" class=\"dataframe\">\n",
       "  <thead>\n",
       "    <tr style=\"text-align: right;\">\n",
       "      <th></th>\n",
       "      <th>tickers</th>\n",
       "      <th>sectors</th>\n",
       "    </tr>\n",
       "  </thead>\n",
       "  <tbody>\n",
       "    <tr>\n",
       "      <th>0</th>\n",
       "      <td>MMM</td>\n",
       "      <td>Industrials</td>\n",
       "    </tr>\n",
       "    <tr>\n",
       "      <th>1</th>\n",
       "      <td>ABT</td>\n",
       "      <td>Health Care</td>\n",
       "    </tr>\n",
       "    <tr>\n",
       "      <th>2</th>\n",
       "      <td>ABBV</td>\n",
       "      <td>Health Care</td>\n",
       "    </tr>\n",
       "    <tr>\n",
       "      <th>3</th>\n",
       "      <td>ACN</td>\n",
       "      <td>Information Technology</td>\n",
       "    </tr>\n",
       "    <tr>\n",
       "      <th>4</th>\n",
       "      <td>ATVI</td>\n",
       "      <td>Information Technology</td>\n",
       "    </tr>\n",
       "  </tbody>\n",
       "</table>\n",
       "</div>"
      ],
      "text/plain": [
       "  tickers                 sectors\n",
       "0     MMM             Industrials\n",
       "1     ABT             Health Care\n",
       "2    ABBV             Health Care\n",
       "3     ACN  Information Technology\n",
       "4    ATVI  Information Technology"
      ]
     },
     "execution_count": 275,
     "metadata": {},
     "output_type": "execute_result"
    }
   ],
   "source": [
    "response = requests.get('https://en.wikipedia.org/wiki/List_of_S%26P_500_companies')\n",
    "soup = BeautifulSoup(response.content, 'html.parser')\n",
    "\n",
    "# Get the names of components of S&P500\n",
    "raw1 = soup.find_all(rel=\"nofollow\")\n",
    "tickers=[string.next_element for string in raw1]\n",
    "for name in tickers:\n",
    "    if len(name)>4:\n",
    "        tickers.remove(name)\n",
    "tickers = tickers[:505]\n",
    "tickers = [str.replace('.', '-') for str in tickers] # tickers with . inside names cannot be searched in Yahoo finance\n",
    "print tickers[:10]\n",
    "\n",
    "# Obtain the sectors which the components belong to\n",
    "raw2 = soup.find_all('td')\n",
    "raw3 = [raw2[3+8*i] for i in range(505)]\n",
    "sectors = [string.next_element for string in raw3]\n",
    "print sectors[:10]\n",
    "\n",
    "# Build the data frame of components information\n",
    "sp500 = pd.DataFrame(data = zip(tickers,sectors), columns = ['tickers','sectors'])\n",
    "sp500.head()\n",
    "# There are 505 constituents of S&P 500 index."
   ]
  },
  {
   "cell_type": "code",
   "execution_count": 13,
   "metadata": {
    "collapsed": true
   },
   "outputs": [],
   "source": [
    "from yahoo_finance import Share"
   ]
  },
  {
   "cell_type": "code",
   "execution_count": 282,
   "metadata": {
    "collapsed": false
   },
   "outputs": [],
   "source": [
    "# Function to retrieve the daily close price for a specific stock from Yahoo Finance\n",
    "def get_stockprice(ticker, start_date, end_date):\n",
    "    \"\"\"\n",
    "    Return the daily adjusted close price of one stock in a certain period.\n",
    "    Args:\n",
    "    ticker(string): stock symbol of a company.\n",
    "    start_date, end_date(string): time interval bounds in the format of 'yyyy-mm-dd'.\n",
    "    \"\"\"\n",
    "    stock = Share(ticker)\n",
    "    df = pd.DataFrame(stock.get_historical(start_date, end_date))\n",
    "    df.index = df['Date']\n",
    "    df.rename(columns = {'Adj_Close':ticker}, inplace = True)\n",
    "    df[ticker] = pd.to_numeric(df[ticker])\n",
    "    return df[ticker]"
   ]
  },
  {
   "cell_type": "code",
   "execution_count": 287,
   "metadata": {
    "collapsed": false
   },
   "outputs": [],
   "source": [
    "# Get prices for 505 constituents in year 2016\n",
    "df = pd.DataFrame()\n",
    "for ticker in sp500['tickers']:\n",
    "    df1 = get_stockprice(ticker, '2016-01-01', '2016-12-31')\n",
    "    df = pd.concat([df, df1], axis=1)"
   ]
  },
  {
   "cell_type": "code",
   "execution_count": 291,
   "metadata": {
    "collapsed": false
   },
   "outputs": [
    {
     "data": {
      "text/html": [
       "<div>\n",
       "<table border=\"1\" class=\"dataframe\">\n",
       "  <thead>\n",
       "    <tr style=\"text-align: right;\">\n",
       "      <th></th>\n",
       "      <th>MMM</th>\n",
       "      <th>ABT</th>\n",
       "      <th>ABBV</th>\n",
       "      <th>ACN</th>\n",
       "      <th>ATVI</th>\n",
       "      <th>AYI</th>\n",
       "      <th>ADBE</th>\n",
       "      <th>AAP</th>\n",
       "      <th>AES</th>\n",
       "      <th>AET</th>\n",
       "      <th>...</th>\n",
       "      <th>XEL</th>\n",
       "      <th>XRX</th>\n",
       "      <th>XLNX</th>\n",
       "      <th>XL</th>\n",
       "      <th>XYL</th>\n",
       "      <th>YHOO</th>\n",
       "      <th>YUM</th>\n",
       "      <th>ZBH</th>\n",
       "      <th>ZION</th>\n",
       "      <th>ZTS</th>\n",
       "    </tr>\n",
       "  </thead>\n",
       "  <tbody>\n",
       "    <tr>\n",
       "      <th>2016-01-04</th>\n",
       "      <td>142.064009</td>\n",
       "      <td>41.607202</td>\n",
       "      <td>54.911736</td>\n",
       "      <td>99.812499</td>\n",
       "      <td>37.316330</td>\n",
       "      <td>232.559162</td>\n",
       "      <td>91.970001</td>\n",
       "      <td>152.008069</td>\n",
       "      <td>8.964187</td>\n",
       "      <td>108.059193</td>\n",
       "      <td>...</td>\n",
       "      <td>34.542465</td>\n",
       "      <td>6.568387</td>\n",
       "      <td>44.325527</td>\n",
       "      <td>37.119225</td>\n",
       "      <td>35.442166</td>\n",
       "      <td>31.400000</td>\n",
       "      <td>50.480539</td>\n",
       "      <td>100.939863</td>\n",
       "      <td>26.393169</td>\n",
       "      <td>46.784278</td>\n",
       "    </tr>\n",
       "    <tr>\n",
       "      <th>2016-01-05</th>\n",
       "      <td>142.683276</td>\n",
       "      <td>41.597508</td>\n",
       "      <td>54.682976</td>\n",
       "      <td>100.331997</td>\n",
       "      <td>36.840205</td>\n",
       "      <td>235.510893</td>\n",
       "      <td>92.339996</td>\n",
       "      <td>150.969645</td>\n",
       "      <td>9.087765</td>\n",
       "      <td>109.562484</td>\n",
       "      <td>...</td>\n",
       "      <td>34.890793</td>\n",
       "      <td>6.555633</td>\n",
       "      <td>44.983635</td>\n",
       "      <td>37.196944</td>\n",
       "      <td>35.432341</td>\n",
       "      <td>32.200001</td>\n",
       "      <td>50.354706</td>\n",
       "      <td>103.041747</td>\n",
       "      <td>26.106610</td>\n",
       "      <td>47.516672</td>\n",
       "    </tr>\n",
       "    <tr>\n",
       "      <th>2016-01-06</th>\n",
       "      <td>139.809484</td>\n",
       "      <td>41.248603</td>\n",
       "      <td>54.692509</td>\n",
       "      <td>100.135962</td>\n",
       "      <td>36.493031</td>\n",
       "      <td>229.298284</td>\n",
       "      <td>91.019997</td>\n",
       "      <td>146.975739</td>\n",
       "      <td>8.774065</td>\n",
       "      <td>109.008641</td>\n",
       "      <td>...</td>\n",
       "      <td>35.258469</td>\n",
       "      <td>6.472731</td>\n",
       "      <td>44.161002</td>\n",
       "      <td>36.876362</td>\n",
       "      <td>34.990295</td>\n",
       "      <td>32.160000</td>\n",
       "      <td>49.998176</td>\n",
       "      <td>103.487898</td>\n",
       "      <td>25.345743</td>\n",
       "      <td>47.526572</td>\n",
       "    </tr>\n",
       "    <tr>\n",
       "      <th>2016-01-07</th>\n",
       "      <td>136.403504</td>\n",
       "      <td>40.260032</td>\n",
       "      <td>54.530470</td>\n",
       "      <td>97.195400</td>\n",
       "      <td>35.977228</td>\n",
       "      <td>223.215302</td>\n",
       "      <td>89.110001</td>\n",
       "      <td>148.603260</td>\n",
       "      <td>8.555427</td>\n",
       "      <td>109.058087</td>\n",
       "      <td>...</td>\n",
       "      <td>35.393933</td>\n",
       "      <td>6.294173</td>\n",
       "      <td>42.418951</td>\n",
       "      <td>36.108913</td>\n",
       "      <td>34.086561</td>\n",
       "      <td>30.160000</td>\n",
       "      <td>48.292420</td>\n",
       "      <td>101.108416</td>\n",
       "      <td>24.584876</td>\n",
       "      <td>46.081575</td>\n",
       "    </tr>\n",
       "    <tr>\n",
       "      <th>2016-01-08</th>\n",
       "      <td>135.939057</td>\n",
       "      <td>39.416837</td>\n",
       "      <td>53.043537</td>\n",
       "      <td>96.254413</td>\n",
       "      <td>35.421747</td>\n",
       "      <td>214.878632</td>\n",
       "      <td>87.849998</td>\n",
       "      <td>145.338238</td>\n",
       "      <td>8.679006</td>\n",
       "      <td>105.893260</td>\n",
       "      <td>...</td>\n",
       "      <td>35.006901</td>\n",
       "      <td>6.115615</td>\n",
       "      <td>41.547924</td>\n",
       "      <td>35.409470</td>\n",
       "      <td>33.762393</td>\n",
       "      <td>30.629999</td>\n",
       "      <td>47.635285</td>\n",
       "      <td>100.682091</td>\n",
       "      <td>24.308199</td>\n",
       "      <td>45.408562</td>\n",
       "    </tr>\n",
       "  </tbody>\n",
       "</table>\n",
       "<p>5 rows × 505 columns</p>\n",
       "</div>"
      ],
      "text/plain": [
       "                   MMM        ABT       ABBV         ACN       ATVI  \\\n",
       "2016-01-04  142.064009  41.607202  54.911736   99.812499  37.316330   \n",
       "2016-01-05  142.683276  41.597508  54.682976  100.331997  36.840205   \n",
       "2016-01-06  139.809484  41.248603  54.692509  100.135962  36.493031   \n",
       "2016-01-07  136.403504  40.260032  54.530470   97.195400  35.977228   \n",
       "2016-01-08  135.939057  39.416837  53.043537   96.254413  35.421747   \n",
       "\n",
       "                   AYI       ADBE         AAP       AES         AET  \\\n",
       "2016-01-04  232.559162  91.970001  152.008069  8.964187  108.059193   \n",
       "2016-01-05  235.510893  92.339996  150.969645  9.087765  109.562484   \n",
       "2016-01-06  229.298284  91.019997  146.975739  8.774065  109.008641   \n",
       "2016-01-07  223.215302  89.110001  148.603260  8.555427  109.058087   \n",
       "2016-01-08  214.878632  87.849998  145.338238  8.679006  105.893260   \n",
       "\n",
       "              ...            XEL       XRX       XLNX         XL        XYL  \\\n",
       "2016-01-04    ...      34.542465  6.568387  44.325527  37.119225  35.442166   \n",
       "2016-01-05    ...      34.890793  6.555633  44.983635  37.196944  35.432341   \n",
       "2016-01-06    ...      35.258469  6.472731  44.161002  36.876362  34.990295   \n",
       "2016-01-07    ...      35.393933  6.294173  42.418951  36.108913  34.086561   \n",
       "2016-01-08    ...      35.006901  6.115615  41.547924  35.409470  33.762393   \n",
       "\n",
       "                 YHOO        YUM         ZBH       ZION        ZTS  \n",
       "2016-01-04  31.400000  50.480539  100.939863  26.393169  46.784278  \n",
       "2016-01-05  32.200001  50.354706  103.041747  26.106610  47.516672  \n",
       "2016-01-06  32.160000  49.998176  103.487898  25.345743  47.526572  \n",
       "2016-01-07  30.160000  48.292420  101.108416  24.584876  46.081575  \n",
       "2016-01-08  30.629999  47.635285  100.682091  24.308199  45.408562  \n",
       "\n",
       "[5 rows x 505 columns]"
      ]
     },
     "execution_count": 291,
     "metadata": {},
     "output_type": "execute_result"
    }
   ],
   "source": [
    "df.to_csv('price_2016.csv')\n",
    "df.head()"
   ]
  },
  {
   "cell_type": "code",
   "execution_count": 294,
   "metadata": {
    "collapsed": true
   },
   "outputs": [],
   "source": [
    "# Function to calculate the changes in price\n",
    "def price_change(df):\n",
    "    \"\"\"\n",
    "    Return the data frame of price change\n",
    "    Arg:\n",
    "    df(data frame): the daily price data for stocks\n",
    "    \"\"\"\n",
    "    change = pd.DataFrame()\n",
    "    for i in range(len(df)-1):\n",
    "        diff = np.subtract(df.iloc[i,:], df.iloc[i+1,:])\n",
    "        change = pd.concat([change, diff],axis=1)\n",
    "    return change"
   ]
  },
  {
   "cell_type": "code",
   "execution_count": 297,
   "metadata": {
    "collapsed": false
   },
   "outputs": [],
   "source": [
    "# Get price changes\n",
    "change = price_change(df).transpose()\n",
    "change.to_csv('change_2016.csv')"
   ]
  },
  {
   "cell_type": "markdown",
   "metadata": {},
   "source": [
    "II. Build minimum spanning tree  \n",
    "1. Calculate the correlation matrix of price change\n",
    "2. Obtain the edge list by Prim's algorithm of minimum spanning tree\n",
    "3. Creat the Graph object by networkingx"
   ]
  },
  {
   "cell_type": "code",
   "execution_count": 300,
   "metadata": {
    "collapsed": false
   },
   "outputs": [],
   "source": [
    "# Calculate the correlation matrix of price changes \n",
    "corr = change.corr()\n",
    "corr.to_csv('change_2016.csv')\n",
    "\n",
    "# Calculate the distance between pairwise stocks\n",
    "# distance[i, j] = sqrt(2.0 * ( 1 – correlation[i, j] ) )\n",
    "dist = np.sqrt(2 * (1- corr))\n",
    "dist.to_csv('dist_2016.csv')"
   ]
  },
  {
   "cell_type": "code",
   "execution_count": 176,
   "metadata": {
    "collapsed": false
   },
   "outputs": [],
   "source": [
    "# Prim's algotithm to get edge list by minimum spanning trees\n",
    "def minimum_spanning_tree(X, copy_X=True):\n",
    "    \"\"\"X are edge weights of fully connected graph\"\"\"\n",
    "    if copy_X:\n",
    "        X = X.copy()\n",
    " \n",
    "    if X.shape[0] != X.shape[1]:\n",
    "        raise ValueError(\"X needs to be square matrix of edge weights\")\n",
    "    n_vertices = X.shape[0]\n",
    "    spanning_edges = []\n",
    "     \n",
    "    # initialize with node 0:                                                                                         \n",
    "    visited_vertices = [0]                                                                                            \n",
    "    num_visited = 1\n",
    "    # exclude self connections:\n",
    "    diag_indices = np.arange(n_vertices)\n",
    "    X[diag_indices, diag_indices] = np.inf\n",
    "     \n",
    "    while num_visited != n_vertices:\n",
    "        new_edge = np.argmin(X[visited_vertices], axis=None)\n",
    "        # 2d encoding of new_edge from flat, get correct indices                                                      \n",
    "        new_edge = divmod(new_edge, n_vertices)\n",
    "        new_edge = [visited_vertices[new_edge[0]], new_edge[1]]                                                       \n",
    "        # add edge to tree\n",
    "        spanning_edges.append(new_edge)\n",
    "        visited_vertices.append(new_edge[1])\n",
    "        # remove all edges inside current tree\n",
    "        X[visited_vertices, new_edge[1]] = np.inf\n",
    "        X[new_edge[1], visited_vertices] = np.inf                                                                     \n",
    "        num_visited += 1\n",
    "    return np.vstack(spanning_edges)"
   ]
  },
  {
   "cell_type": "code",
   "execution_count": 302,
   "metadata": {
    "collapsed": false
   },
   "outputs": [],
   "source": [
    "dist = np.array(dist)\n",
    "edge_list = minimum_spanning_tree(dist)"
   ]
  },
  {
   "cell_type": "code",
   "execution_count": 306,
   "metadata": {
    "collapsed": false
   },
   "outputs": [
    {
     "data": {
      "image/png": "[encoded data removed]",
      "text/plain": [
       "<matplotlib.figure.Figure at 0x1204a41d0>"
      ]
     },
     "metadata": {},
     "output_type": "display_data"
    }
   ],
   "source": [
    "# Create graph object by adding edges\n",
    "G = nx.cycle_graph(10)\n",
    "for i, j in edge_list:\n",
    "    G.add_edge(i,j)\n",
    "\n",
    "# Build network by minimum spanning tree methods    \n",
    "T=nx.minimum_spanning_tree(G)\n",
    "\n",
    "plt.figure()\n",
    "nx.draw_networkx(T)\n",
    "plt.show()"
   ]
  }
 ],
 "metadata": {
  "anaconda-cloud": {},
  "kernelspec": {
   "display_name": "Python [default]",
   "language": "python",
   "name": "python2"
  },
  "language_info": {
   "codemirror_mode": {
    "name": "ipython",
    "version": 2
   },
   "file_extension": ".py",
   "mimetype": "text/x-python",
   "name": "python",
   "nbconvert_exporter": "python",
   "pygments_lexer": "ipython2",
   "version": "2.7.12"
  }
 },
 "nbformat": 4,
 "nbformat_minor": 1
}
