{
 "cells": [
  {
   "cell_type": "markdown",
   "metadata": {},
   "source": [
    "II. Build minimum spanning tree  \n",
    "1. Calculate the correlation matrix of price change\n",
    "2. Obtain the edge list by Prim's algorithm of minimum spanning tree\n",
    "3. Creat the Graph object by networkingx  \n",
    "\n",
    "Schematising of Minimum Spanning Tree:\n",
    "1. rank a couple of vertices(stocks) from the nearest to the farthest  \n",
    "2. draw the first edge from this rank  \n",
    "3. continue in the rank  \n",
    "4. if the new edge does not close a cycle draw it  \n",
    "5. go to point 3  \n",
    "6. stop when all the vertices have been drawn  \n",
    "\n",
    "Reference:  \n",
    "https://mktstk.com/2015/03/04/stock-market-visualization-minimum-spanning-trees/  \n",
    "http://peekaboo-vision.blogspot.com/2012/02/simplistic-minimum-spanning-tree-in.html  "
   ]
  },
  {
   "cell_type": "code",
   "execution_count": 1,
   "metadata": {
    "collapsed": true
   },
   "outputs": [],
   "source": [
    "import numpy as np\n",
    "import pandas as pd\n",
    "import networkx as nx"
   ]
  },
  {
   "cell_type": "code",
   "execution_count": 3,
   "metadata": {
    "collapsed": false
   },
   "outputs": [],
   "source": [
    "# Read in correlation matrix\n",
    "corr = pd.read_csv('corr_2016.csv', index_col=0)"
   ]
  },
  {
   "cell_type": "code",
   "execution_count": 4,
   "metadata": {
    "collapsed": true
   },
   "outputs": [],
   "source": [
    "# Calculate the distance between pairwise stocks\n",
    "# distance[i, j] = sqrt(2.0 * ( 1 – correlation[i, j] ) )\n",
    "dist = 1- abs(corr) # adjusted \n",
    "dist.to_csv('dist_2016.csv')"
   ]
  },
  {
   "cell_type": "code",
   "execution_count": 5,
   "metadata": {
    "collapsed": true
   },
   "outputs": [],
   "source": [
    "# Prim's algotithm to get edge list by minimum spanning trees\n",
    "def minimum_spanning_tree(X, copy_X=True):\n",
    "    \"\"\"X are edge weights of fully connected graph\"\"\"\n",
    "    if copy_X:\n",
    "        X = X.copy()\n",
    " \n",
    "    if X.shape[0] != X.shape[1]:\n",
    "        raise ValueError(\"X needs to be square matrix of edge weights\")\n",
    "    n_vertices = X.shape[0]\n",
    "    spanning_edges = []\n",
    "     \n",
    "    # initialize with node 0:                                                                                         \n",
    "    visited_vertices = [0]                                                                                            \n",
    "    num_visited = 1\n",
    "    # exclude self connections:\n",
    "    diag_indices = np.arange(n_vertices)\n",
    "    X[diag_indices, diag_indices] = np.inf\n",
    "     \n",
    "    while num_visited != n_vertices:\n",
    "        new_edge = np.argmin(X[visited_vertices], axis=None)\n",
    "        # 2d encoding of new_edge from flat, get correct indices                                                      \n",
    "        new_edge = divmod(new_edge, n_vertices)\n",
    "        new_edge = [visited_vertices[new_edge[0]], new_edge[1]]                                                       \n",
    "        # add edge to tree\n",
    "        spanning_edges.append(new_edge)\n",
    "        visited_vertices.append(new_edge[1])\n",
    "        # remove all edges inside current tree\n",
    "        X[visited_vertices, new_edge[1]] = np.inf\n",
    "        X[new_edge[1], visited_vertices] = np.inf                                                                     \n",
    "        num_visited += 1\n",
    "    return np.vstack(spanning_edges)"
   ]
  },
  {
   "cell_type": "code",
   "execution_count": null,
   "metadata": {
    "collapsed": true
   },
   "outputs": [],
   "source": [
    "# Get edges\n",
    "dist = np.array(dist)\n",
    "edge_list_raw = minimum_spanning_tree(dist)\n",
    "edge_list = []\n",
    "for i, j in edge_list_raw:\n",
    "    edge = (tickers[i], tickers[j])\n",
    "    edge_list.append(edge)\n",
    "\n",
    "# Export edges\n",
    "edges = pd.DataFrame(edge_list)\n",
    "edges.to_csv('edges_2016.csv')"
   ]
  },
  {
   "cell_type": "code",
   "execution_count": null,
   "metadata": {
    "collapsed": true
   },
   "outputs": [],
   "source": [
    "# Create graph object by adding edges\n",
    "mst = nx.Graph()\n",
    "for i, j in edge_list:\n",
    "    mst.add_edge(i,j)\n",
    "    \n",
    "# Add sector information to nodes\n",
    "for node in mst.nodes():\n",
    "    mst.node[node]['attribute']=sp500_dic[node]\n",
    "    \n",
    "# Export network for further use in Gephi\n",
    "nx.write_graphml(mst, 'sp500_2016.graphml')"
   ]
  }
 ],
 "metadata": {
  "kernelspec": {
   "display_name": "Python [conda root]",
   "language": "python",
   "name": "conda-root-py"
  },
  "language_info": {
   "codemirror_mode": {
    "name": "ipython",
    "version": 2
   },
   "file_extension": ".py",
   "mimetype": "text/x-python",
   "name": "python",
   "nbconvert_exporter": "python",
   "pygments_lexer": "ipython2",
   "version": "2.7.12"
  }
 },
 "nbformat": 4,
 "nbformat_minor": 1
}
