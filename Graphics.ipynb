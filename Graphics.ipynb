{
 "cells": [
  {
   "cell_type": "markdown",
   "metadata": {},
   "source": [
    "## Graphics \n",
    "### Correlation Matrices for a year"
   ]
  },
  {
   "cell_type": "code",
   "execution_count": 2,
   "metadata": {
    "collapsed": false
   },
   "outputs": [],
   "source": [
    "import pandas as pd\n",
    "import plotly.plotly as py\n",
    "import plotly.graph_objs as go\n",
    "\n",
    "corr=pd.read_csv(\"corr_2008.csv\")\n",
    "corr=corr[corr.columns[1:]]\n",
    "labels=corr.columns.values"
   ]
  },
  {
   "cell_type": "code",
   "execution_count": 3,
   "metadata": {
    "collapsed": false,
    "scrolled": false,
    "slideshow": {
     "slide_type": "slide"
    }
   },
   "outputs": [
    {
     "data": {
      "text/html": [
       "<iframe id=\"igraph\" scrolling=\"no\" style=\"border:none;\" seamless=\"seamless\" src=\"https://plot.ly/~dayi1292/2.embed\" height=\"525px\" width=\"100%\"></iframe>"
      ],
      "text/plain": [
       "<plotly.tools.PlotlyDisplay object>"
      ]
     },
     "execution_count": 3,
     "metadata": {},
     "output_type": "execute_result"
    }
   ],
   "source": [
    "data=[go.Heatmap(z=corr.values.tolist(),colorscale='RdYlGn', x=labels, y=labels)]\n",
    "#Add title to plot\n",
    "#Save the plot. \n",
    "\n",
    "py.iplot(data, filename='pandas-heatmap')\n"
   ]
  },
  {
   "cell_type": "markdown",
   "metadata": {},
   "source": [
    "### Production of Big_Data Matrix"
   ]
  },
  {
   "cell_type": "code",
   "execution_count": 111,
   "metadata": {
    "collapsed": false,
    "slideshow": {
     "slide_type": "skip"
    }
   },
   "outputs": [],
   "source": [
    "from plotly.grid_objs import Grid, Column\n",
    "from plotly.tools import FigureFactory as FF \n",
    "from plotly.offline import init_notebook_mode, iplot\n",
    "from IPython.display import display, HTML\n",
    "import os\n",
    "import pandas as pd\n",
    "import re \n",
    "import numpy as np\n",
    "\n",
    "\n",
    "#Concatenate all years into one big data_frame:\n",
    "files= os.listdir(\".\")\n",
    "big_data=pd.DataFrame()\n",
    "for f in files:\n",
    "    if f.startswith(\"price_\"):\n",
    "        data=pd.read_csv(f)\n",
    "        # #extract year from filename using regex\n",
    "        p=re.compile('price_(\\d+).csv')\n",
    "        m=p.match(f)\n",
    "        year=m.group(1)\n",
    "        #Append data for all years with extra column of years.\n",
    "        year_vector=[year]*data.shape[0]\n",
    "        data['year']=year_vector\n",
    "        big_data=big_data.append(data)\n",
    "        big_data.to_csv(\"all_price_data\")\n",
    "        \n",
    "\n",
    "#Get information of types of company stocks\n",
    "info=pd.read_csv(\"sp500.csv\")\n",
    "\n",
    "#Get set of sectors and years for graphic\n",
    "sectors=list(set(info[\"sectors\"]))\n",
    "years=[i for i in reversed(list(set(big_data[\"year\"])))]\n",
    "\n",
    "#Read information of volumes for all years\n",
    "vol_data=pd.read_csv(\"all_vol_data\")\n",
    "\n",
    "#### Create data of mean stock value per year \n",
    "mean_data=big_data.groupby('year').mean().transpose()\n",
    "mean_vol=vol_data.groupby('year').mean().transpose()\n",
    "mean_data['sector']=info['sectors'].values\n",
    "mean_data['company']=mean_data.index.values\n",
    "\n",
    "#Reformat the data to fit the requirement to do the dynamic dataset\n",
    "SP=pd.concat([pd.melt(mean_data,var_name=\"years\",id_vars=['sector','company'], value_name=\"stock_price\"),\n",
    "           pd.melt(mean_vol,var_name=\"years\", value_name=\"mean_volume\")[\"mean_volume\"]]\n",
    "          ,axis=1)\n",
    "\n",
    "\n",
    "SP['mean_volume']=np.sqrt(SP['mean_volume'])"
   ]
  },
  {
   "cell_type": "markdown",
   "metadata": {},
   "source": [
    "### Static Visualization of Stock Information"
   ]
  },
  {
   "cell_type": "code",
   "execution_count": 5,
   "metadata": {
    "collapsed": false
   },
   "outputs": [
    {
     "data": {
      "text/html": [
       "<iframe id=\"igraph\" scrolling=\"no\" style=\"border:none;\" seamless=\"seamless\" src=\"https://plot.ly/~dayi1292/4.embed\" height=\"525px\" width=\"100%\"></iframe>"
      ],
      "text/plain": [
       "<plotly.tools.PlotlyDisplay object>"
      ]
     },
     "execution_count": 5,
     "metadata": {},
     "output_type": "execute_result"
    }
   ],
   "source": [
    "#Interest in Stock Comparison for Apple, Google, and Yahoo for all the years\n",
    "import plotly.plotly as py\n",
    "import plotly.graph_objs as go\n",
    "\n",
    "\n",
    "trace=go.Scatter(x=range(0,big_data.shape[0],1), \n",
    "                 y=big_data[\"GOOGL\"].values,\n",
    "                 mode='markers',\n",
    "                 name='Google')\n",
    "\n",
    "trace_1=go.Scatter(x=range(0,big_data.shape[0],1), \n",
    "                 y=big_data[\"AAPL\"].values,\n",
    "                 mode='markers',\n",
    "                 name='Apple')\n",
    "trace_2=go.Scatter(x=range(0,big_data.shape[0],1), \n",
    "                 y=big_data[\"YHOO\"].values,\n",
    "                 mode='markers',\n",
    "                 name='Yahoo')\n",
    "\n",
    "#Set the layout: axis labels, titles, etc.\n",
    "layout=go.Layout(title='Stock Behavior for Info and Tech Companies 2008-2016',\n",
    "                yaxis=dict(\n",
    "                title='Stock_Value',\n",
    "                titlefont=dict(\n",
    "                family='Courier New, monospace',\n",
    "                size=18,\n",
    "                color='#7f7f7f'\n",
    "        )\n",
    "    ))\n",
    "\n",
    "fig=go.Figure(data=[trace,trace_1, trace_2],layout=layout)\n",
    "py.iplot(fig, filename='google-stock_scatter')\n",
    "\n",
    "\n"
   ]
  },
  {
   "cell_type": "code",
   "execution_count": 5,
   "metadata": {
    "collapsed": false
   },
   "outputs": [
    {
     "data": {
      "text/html": [
       "<iframe id=\"igraph\" scrolling=\"no\" style=\"border:none;\" seamless=\"seamless\" src=\"https://plot.ly/~dayi1292/6.embed\" height=\"525px\" width=\"100%\"></iframe>"
      ],
      "text/plain": [
       "<plotly.tools.PlotlyDisplay object>"
      ]
     },
     "execution_count": 5,
     "metadata": {},
     "output_type": "execute_result"
    }
   ],
   "source": [
    "import plotly.plotly as py\n",
    "import plotly.graph_objs as go\n",
    "\n",
    "\n",
    "trace=go.Scatter(x=range(0,big_data.shape[0],1), \n",
    "                 y=big_data[\"CVX\"].values,\n",
    "                 mode='markers',\n",
    "                 name='Chevron')\n",
    "\n",
    "trace_1=go.Scatter(x=range(0,big_data.shape[0],1), \n",
    "                 y=big_data[\"DVN\"].values,\n",
    "                 mode='markers',\n",
    "                 name='Devon')\n",
    "trace_2=go.Scatter(x=range(0,big_data.shape[0],1), \n",
    "                 y=big_data[\"XOM\"].values,\n",
    "                 mode='markers',\n",
    "                 name='Exon')\n",
    "\n",
    "#Set the layout: axis labels, titles, etc.\n",
    "layout=go.Layout(title='Stock Behavior for Energy Companies 2008-2016',\n",
    "                yaxis=dict(\n",
    "                title='Stock_Value',\n",
    "                titlefont=dict(\n",
    "                family='Courier New, monospace',\n",
    "                size=18,\n",
    "                color='#7f7f7f'\n",
    "        )\n",
    "    ))\n",
    "\n",
    "fig=go.Figure(data=[trace,trace_1, trace_2],layout=layout)\n",
    "py.iplot(fig, filename='energy-stock_scatter')\n",
    "\n"
   ]
  },
  {
   "cell_type": "markdown",
   "metadata": {
    "collapsed": true,
    "slideshow": {
     "slide_type": "slide"
    }
   },
   "source": [
    "### Dynamic Visualization of Stock Information\n",
    "\n",
    "In this section we attempt to do a motion of dataframes to see how the stocks changed over the years. Since the dataset is too big, we will do some subsetting to only keep the companies that had a greater change from 2008 to 2016. "
   ]
  },
  {
   "cell_type": "code",
   "execution_count": 114,
   "metadata": {
    "collapsed": false
   },
   "outputs": [],
   "source": [
    "#Data Prep: Since Data is too big to plot then we ca subset the dataset to keep\n",
    "rel_mean_change=(mean_data['2016']-mean_data['2008'])/mean_data['2008']\n",
    "mean_data=mean_data[rel_mean_change > 1.5]\n",
    "\n",
    "#Subset for those with bigger relative change\n",
    "SP=SP[SP['company'].isin(mean_data.index.values)]\n",
    "#Remove those companies with missing values in mean_volume and stock-price\n",
    "SP=SP.dropna()\n",
    "\n",
    "\n",
    "\n"
   ]
  },
  {
   "cell_type": "code",
   "execution_count": 115,
   "metadata": {
    "collapsed": false
   },
   "outputs": [
    {
     "data": {
      "text/html": [
       "<script>requirejs.config({paths: { 'plotly': ['https://cdn.plot.ly/plotly-latest.min']},});if(!window.Plotly) {{require(['plotly'],function(plotly) {window.Plotly=plotly;});}}</script>"
      ],
      "text/plain": [
       "<IPython.core.display.HTML object>"
      ]
     },
     "metadata": {},
     "output_type": "display_data"
    },
    {
     "data": {
      "application/vnd.plotly.v1+json": {
       "data": [
        {
         "marker": {
          "sizemode": "area",
          "sizeref": 200000
         },
         "mode": "markers",
         "name": "Telecommunications Services",
         "text": [
          "AYI",
          "CLX",
          "GOOGL",
          "LKQ"
         ],
         "x": [
          3853.151730839257,
          2663.015468111143,
          3562.3740807092527,
          1138.788274956265
         ],
         "y": [
          38.69099851383398,
          43.84247213438733,
          232.65866976284588,
          8.860810276679832
         ]
        },
        {
         "marker": {
          "sizemode": "area",
          "sizeref": 200000
         },
         "mode": "markers",
         "name": "Industrials",
         "text": [
          "AMZN",
          "COO",
          "DHR",
          "DIS",
          "ED",
          "EXPE",
          "GIS",
          "HSIC",
          "IFF",
          "INCY",
          "LNT",
          "NKE",
          "ORLY",
          "PXD",
          "ROK",
          "ROP",
          "SPGI",
          "STZ",
          "TSO",
          "UNH",
          "URI"
         ],
         "x": [
          2135.6036996726093,
          1244.2061773909127,
          3147.323663854623,
          2593.9024730173824,
          1392.0525409192865,
          1637.640981469908,
          4332.114199641462,
          1197.9254135557387,
          1035.539614157816,
          1546.3188469020822,
          1823.970823565276,
          2605.007415798204,
          6488.555811714895,
          1581.5256305726134,
          1417.6423672502613,
          1312.2817529819906,
          1956.42298828523,
          2759.579076569812,
          2351.3361771941118,
          587.365660361867,
          2126.0743389782165
         ],
         "y": [
          69.88003967984191,
          31.38805953359683,
          26.541931913043488,
          26.307677762845856,
          27.74199802766798,
          25.351091359683796,
          23.79899894466406,
          52.47632414229245,
          32.947869778656134,
          8.399723320158108,
          11.936160090909098,
          13.265100316205531,
          26.864505916996045,
          48.52776564426876,
          37.01072553359686,
          52.44890935573123,
          30.110689723320156,
          18.507410482213437,
          19.33209582608694,
          28.899648264822126,
          15.786996027667996
         ]
        },
        {
         "marker": {
          "sizemode": "area",
          "sizeref": 200000
         },
         "mode": "markers",
         "name": "Consumer Discretionary",
         "text": [
          "ACN",
          "ALK",
          "BMY",
          "CMG",
          "CNC",
          "CTXS",
          "DISCK",
          "DVA",
          "GILD",
          "GPC",
          "GPN",
          "GWW",
          "HBI",
          "HD",
          "LEN",
          "LRCX",
          "MCHP",
          "MCO",
          "MO",
          "NFLX",
          "ROST",
          "SRE",
          "TMO",
          "TSN",
          "TWX",
          "TXN",
          "UAL",
          "UHS",
          "ULTA",
          "V",
          "VRTX",
          "WEC",
          "XEL",
          "YUM"
         ],
         "x": [
          4039.3803089870617,
          975.4506407651645,
          1448.0405187264332,
          2517.871301184408,
          1852.7417990408278,
          3283.2552775243207,
          2236.2599352543334,
          1767.5435713667264,
          3125.1095158675653,
          3553.9454220965617,
          1106.6666468244518,
          2091.4345361431547,
          3055.185056788753,
          1925.654552235539,
          1658.0163394303995,
          3921.9994699001722,
          3177.063177650487,
          1580.645537812173,
          4033.4672066982125,
          2939.7341978740524,
          890.7280408114179,
          934.5536441713724,
          1435.7073974961947,
          1751.2922388707298,
          1023.1297407480452,
          3075.646402061497,
          3303.0736673852603,
          1573.0215630895414,
          1138.453635350117,
          2623.760238009804,
          2038.94066892183,
          2311.1661413248344,
          1186.4152003695772,
          5811.508175398816
         ],
         "y": [
          29.800268501976312,
          5.114331474308304,
          15.550285169960475,
          82.2162450355731,
          9.845217391304349,
          23.544949162055335,
          6.503698630136987,
          26.037826086956503,
          23.753159415019752,
          30.40067369960475,
          20.684709415019746,
          69.15634457312254,
          5.720028260869563,
          20.382610138339935,
          12.909375818181815,
          32.308234169960485,
          20.960030482213426,
          29.079993648221368,
          12.884024193675902,
          4.094669656126481,
          7.385891798418969,
          40.114764671936776,
          50.3312142490119,
          12.414164976284585,
          27.521949011857696,
          20.58570218577076,
          15.963185909090921,
          25.56226181027668,
          12.014223928853763,
          15.814527670000002,
          25.93292491304347,
          16.77952767193676,
          14.017569853754948,
          20.747452703557304
         ]
        },
        {
         "marker": {
          "sizemode": "area",
          "sizeref": 200000
         },
         "mode": "markers",
         "name": "Utilities",
         "text": [
          "ADBE",
          "AMGN",
          "DAL",
          "ECL",
          "EL",
          "ESS",
          "FRT",
          "NI",
          "PM",
          "PSA",
          "SBUX",
          "SIG",
          "SPG",
          "WHR",
          "XLNX"
         ],
         "x": [
          1939.2801525002578,
          976.3692118991995,
          1744.9420978649077,
          6283.659591799404,
          1505.8190160477152,
          2377.847866098313,
          3545.466904812754,
          1505.4848338592578,
          1316.8464545953098,
          2409.17966127813,
          1788.742133168538,
          1432.7376431678613,
          2284.0851690093646,
          2826.218440237194,
          2445.426399767501
         ],
         "y": [
          35.326837920948634,
          45.37061718181816,
          9.066193189723315,
          39.17981459288538,
          19.19205403557313,
          77.88019919762851,
          54.52477470355732,
          4.380159877470356,
          33.795417113861404,
          62.2294202806324,
          6.860431422924899,
          18.964019826086957,
          59.74142971541502,
          56.735170596838,
          18.163376308300396
         ]
        },
        {
         "marker": {
          "sizemode": "area",
          "sizeref": 200000
         },
         "mode": "markers",
         "name": "Consumer Staples",
         "text": [
          "CB",
          "CCI",
          "CTAS",
          "CTSH",
          "DFS",
          "DISCA",
          "KMB",
          "MCK",
          "PCLN",
          "PPG",
          "RHT",
          "WBA",
          "WYN"
         ],
         "x": [
          2932.0093880107884,
          2828.0025493221065,
          4302.200512413602,
          1263.3711724460034,
          2482.066667257643,
          3850.5683067029186,
          2181.572392281952,
          1894.5238328824696,
          1609.2076954559423,
          975.0597427728644,
          1338.0689289038976,
          1148.381400884407,
          1620.412039533653
         ],
         "y": [
          46.39005453754937,
          29.01591069565217,
          23.841067118577076,
          13.494802355731231,
          12.649031671936756,
          10.11385102371542,
          42.913944616600794,
          48.68421006324112,
          99.08553335177872,
          23.660878798418956,
          18.077826110671936,
          27.291403134387355,
          14.12799574308301
         ]
        },
        {
         "marker": {
          "sizemode": "area",
          "sizeref": 200000
         },
         "mode": "markers",
         "name": "Health Care",
         "text": [
          "AAL",
          "AAP",
          "ADI",
          "ADS",
          "AET",
          "AGN",
          "AMT",
          "AN",
          "BF-B",
          "CAG",
          "CAH",
          "CELG",
          "CINF",
          "DLTR",
          "DPS",
          "FFIV",
          "HAR",
          "HON",
          "HRL",
          "IDXX",
          "ILMN",
          "IPG",
          "LB",
          "MDLZ",
          "MHK",
          "MTD",
          "REGN",
          "SWK",
          "TMK",
          "UNP",
          "WFM"
         ],
         "x": [
          2113.69073838852,
          2819.931249687557,
          2797.3123747159757,
          1920.5340372256599,
          2589.444291567292,
          1974.5721505849344,
          1742.98549017837,
          3155.5263650168104,
          2448.717499284952,
          2186.309902127851,
          2476.0158613091608,
          2490.093970955659,
          1905.0138754383518,
          1134.4131877902387,
          3105.6315671421876,
          1460.1490259098941,
          4101.409378894118,
          2496.9575162474557,
          1681.3422785701637,
          3285.823544202635,
          906.1659665278103,
          2451.6426694475945,
          1941.135725583953,
          2123.9016226668314,
          2984.264662043655,
          1308.6059021396109,
          1062.4950127760192,
          1476.451519999587,
          3716.432476950338,
          1932.9476354171684,
          7132.121349269897
         ],
         "y": [
          7.53635696837945,
          34.52649335177864,
          21.253431027667986,
          54.433008833992126,
          36.809280458498016,
          27.217241367588937,
          34.35913285375494,
          12.10130436363636,
          15.371113023715415,
          12.109179533596848,
          30.11863785375493,
          30.51956524110672,
          21.336166608695677,
          11.273083000000003,
          17.857801825301213,
          25.243596936758905,
          33.09758443478261,
          38.76984159288535,
          7.666749450592888,
          24.455711407114645,
          35.79138339920949,
          6.593683687747033,
          9.299737905138334,
          15.928418640316195,
          63.364980316205575,
          94.29640341106717,
          18.979446640316215,
          35.04112189328063,
          22.385099620553348,
          27.66766586166006,
          11.079802541501985
         ]
        },
        {
         "marker": {
          "sizemode": "area",
          "sizeref": 200000
         },
         "mode": "markers",
         "name": "Materials",
         "text": [
          "CMCSA",
          "EFX",
          "EMN",
          "EQR",
          "IR",
          "MAS",
          "MSFT",
          "NVDA",
          "SHW",
          "SJM"
         ],
         "x": [
          2019.9563647304412,
          1574.413373404752,
          2019.8189955299354,
          1065.6924487191025,
          2609.9057272511473,
          2139.3696201314774,
          5400.937629035098,
          2753.7679540338963,
          1227.5703050151305,
          391.959705922935
         ],
         "y": [
          8.114358956521741,
          29.528021802371537,
          23.254926288537554,
          23.958781869565197,
          23.592882213438745,
          11.864587648221345,
          21.264944055335953,
          14.822165272727275,
          47.84619030434782,
          36.204790205533584
         ]
        },
        {
         "marker": {
          "sizemode": "area",
          "sizeref": 200000
         },
         "mode": "markers",
         "name": "Information Technology",
         "text": [
          "AAPL",
          "AJG",
          "ANTM",
          "ATVI",
          "AVB",
          "AZO",
          "DHI",
          "ES",
          "FL",
          "HAS",
          "HUM",
          "ITW",
          "LEG",
          "LMT",
          "MCD",
          "MMC",
          "MMM",
          "NWL",
          "RCL",
          "RTN",
          "SEE",
          "SNA",
          "TSCO"
         ],
         "x": [
          1244.0976856273783,
          1279.8029739666622,
          1848.2710647666795,
          2807.9630556221946,
          3202.7681332583256,
          843.522400132736,
          1225.0994958384226,
          1258.223542226674,
          3548.6519179517463,
          991.2199534146953,
          1346.3685603857723,
          1012.1327226314461,
          2433.3313750962216,
          2532.4687606593325,
          1949.369209822894,
          882.782611031686,
          2178.4186707651816,
          4497.46749115456,
          2620.3750146479615,
          1360.2265272863917,
          3604.4199919350226,
          1243.7038270770763,
          2164.099279538627
         ],
         "y": [
          18.394736992094874,
          17.417338565217392,
          46.83392262450595,
          13.107323573122535,
          63.386444217391315,
          120.52608713833996,
          10.661876335968381,
          18.6758805770751,
          9.795670177865608,
          24.542666924901187,
          44.874237612648216,
          36.31636128458496,
          12.081488581027667,
          73.67151511462446,
          43.81770343873518,
          21.488999715415023,
          56.735571743082964,
          15.186021288537559,
          23.27104986956522,
          45.654816209486164,
          18.124552130434783,
          40.88437870750993,
          8.643384019762847
         ]
        },
        {
         "marker": {
          "sizemode": "area",
          "sizeref": 200000
         },
         "mode": "markers",
         "name": "Real Estate",
         "text": [
          "DTE",
          "EXR",
          "F",
          "FIS",
          "HSY",
          "JCI",
          "PRGO",
          "RAI"
         ],
         "x": [
          1698.5646114088315,
          1435.8048520333568,
          936.0382411700957,
          1674.878203347166,
          3140.664502583261,
          1622.7433707862835,
          1625.9531713475083,
          1122.3051165808508
         ],
         "y": [
          27.70803269169962,
          10.280861664031615,
          4.164018047430829,
          17.747090960474317,
          29.378645782608697,
          15.408136138339907,
          33.404887774703575,
          8.309296505928845
         ]
        },
        {
         "marker": {
          "sizemode": "area",
          "sizeref": 200000
         },
         "mode": "markers",
         "name": "Energy",
         "text": [
          "AON",
          "APH",
          "CMI",
          "CMS",
          "CXO",
          "DRI",
          "FISV",
          "MA",
          "MAA",
          "NEE",
          "OKE",
          "SCG",
          "TDG",
          "TSS",
          "VFC"
         ],
         "x": [
          2261.3477565136523,
          1467.3783457193874,
          856.0459242972476,
          1899.0229441195518,
          3935.98423990225,
          1859.6030474205788,
          1425.6817244555814,
          3114.413134117,
          6214.648321099168,
          1847.2918967447067,
          1250.6671737303416,
          5449.3705623394435,
          1171.5507779419731,
          2826.154526404143,
          1204.557222703346
         ],
         "y": [
          39.63751680237154,
          18.603556249011852,
          42.57841575098813,
          9.693779438735167,
          26.44003955335969,
          21.359691636363635,
          23.212747019762837,
          20.496142798418973,
          32.08972032411064,
          43.598286616600824,
          12.525779814229239,
          25.471405806324118,
          19.19113496442687,
          17.705504130434775,
          14.038338308300395
         ]
        },
        {
         "marker": {
          "sizemode": "area",
          "sizeref": 200000
         },
         "mode": "markers",
         "name": "Financials",
         "text": [
          "ADP",
          "AME",
          "AMP",
          "AWK",
          "BIIB",
          "BLL",
          "CERN",
          "COST",
          "CVS",
          "EQIX",
          "INTU",
          "JBHT",
          "KLAC",
          "LOW",
          "LUV",
          "MAR",
          "MU",
          "MYL",
          "PNW",
          "STX",
          "SWKS",
          "TJX",
          "TRV"
         ],
         "x": [
          2801.9221945281997,
          4949.539284664259,
          3298.5457928951187,
          1093.0549711521714,
          2366.302297100863,
          818.5647325311991,
          3221.4773327673124,
          4343.125183970221,
          2244.134295263513,
          2820.6219704872287,
          8467.75709835136,
          1927.2811544300805,
          2040.1337823295735,
          1209.0707894548786,
          1259.7477631960576,
          1386.089560156451,
          652.9171390872152,
          1607.5812238591081,
          952.8903399657277,
          2443.508460561973,
          925.3564637372115,
          1738.6418533070998,
          1810.71667073015
         ],
         "y": [
          28.02074515415023,
          17.911955889328073,
          33.389981225296445,
          16.045950607954556,
          55.427351837944684,
          20.393064735177845,
          10.936808300395256,
          52.094219699604736,
          32.35273071541502,
          66.59866428458503,
          25.875448648221344,
          28.1458230513834,
          22.235061719367582,
          19.301809276679865,
          12.077302932806322,
          23.411571865612647,
          5.585691699604742,
          11.710197628458499,
          22.733945363636366,
          11.734826774703565,
          7.711734719367586,
          13.443963308300402,
          36.044315660079036
         ]
        }
       ],
       "layout": {
        "hovermode": "closest",
        "slider": {
         "args": [
          "slider.value",
          {
           "duration": 400,
           "ease": "cubic-in-out"
          }
         ],
         "initialValue": "2008",
         "plotlycommand": "animate",
         "values": [
          "2012",
          "2013",
          "2010",
          "2011",
          "2009",
          "2008",
          "2014",
          "2015",
          "2016"
         ],
         "visible": true
        },
        "sliders": [
         {
          "active": 0,
          "currentvalue": {
           "font": {
            "size": 20
           },
           "prefix": "Year:",
           "visible": true,
           "xanchor": "right"
          },
          "len": 0.9,
          "pad": {
           "b": 10,
           "t": 50
          },
          "steps": [
           {
            "args": [
             [
              "2012"
             ],
             {
              "frame": {
               "duration": 500,
               "redraw": false
              },
              "mode": "immediate",
              "transition": {
               "duration": 500
              }
             }
            ],
            "label": "2012",
            "method": "animate"
           },
           {
            "args": [
             [
              "2013"
             ],
             {
              "frame": {
               "duration": 500,
               "redraw": false
              },
              "mode": "immediate",
              "transition": {
               "duration": 500
              }
             }
            ],
            "label": "2013",
            "method": "animate"
           },
           {
            "args": [
             [
              "2010"
             ],
             {
              "frame": {
               "duration": 500,
               "redraw": false
              },
              "mode": "immediate",
              "transition": {
               "duration": 500
              }
             }
            ],
            "label": "2010",
            "method": "animate"
           },
           {
            "args": [
             [
              "2011"
             ],
             {
              "frame": {
               "duration": 500,
               "redraw": false
              },
              "mode": "immediate",
              "transition": {
               "duration": 500
              }
             }
            ],
            "label": "2011",
            "method": "animate"
           },
           {
            "args": [
             [
              "2009"
             ],
             {
              "frame": {
               "duration": 500,
               "redraw": false
              },
              "mode": "immediate",
              "transition": {
               "duration": 500
              }
             }
            ],
            "label": "2009",
            "method": "animate"
           },
           {
            "args": [
             [
              "2008"
             ],
             {
              "frame": {
               "duration": 500,
               "redraw": false
              },
              "mode": "immediate",
              "transition": {
               "duration": 500
              }
             }
            ],
            "label": "2008",
            "method": "animate"
           },
           {
            "args": [
             [
              "2014"
             ],
             {
              "frame": {
               "duration": 500,
               "redraw": false
              },
              "mode": "immediate",
              "transition": {
               "duration": 500
              }
             }
            ],
            "label": "2014",
            "method": "animate"
           },
           {
            "args": [
             [
              "2015"
             ],
             {
              "frame": {
               "duration": 500,
               "redraw": false
              },
              "mode": "immediate",
              "transition": {
               "duration": 500
              }
             }
            ],
            "label": "2015",
            "method": "animate"
           },
           {
            "args": [
             [
              "2016"
             ],
             {
              "frame": {
               "duration": 500,
               "redraw": false
              },
              "mode": "immediate",
              "transition": {
               "duration": 500
              }
             }
            ],
            "label": "2016",
            "method": "animate"
           }
          ],
          "transition": {
           "duration": 300,
           "easing": "cubic-in-out"
          },
          "x": 0.1,
          "xanchor": "left",
          "y": 0,
          "yanchor": "top"
         }
        ],
        "updatemenus": [
         {
          "buttons": [
           {
            "args": [
             null,
             {
              "frame": {
               "duration": 500,
               "redraw": false
              },
              "fromcurrent": true,
              "transition": {
               "duration": 300,
               "easing": "quadratic-in-out"
              }
             }
            ],
            "label": "Play",
            "method": "animate"
           },
           {
            "args": [
             [
              null
             ],
             {
              "frame": {
               "duration": 0,
               "redraw": false
              },
              "mode": "immediate",
              "transition": {
               "duration": 0
              }
             }
            ],
            "label": "Pause",
            "method": "animate"
           }
          ],
          "direction": "left",
          "pad": {
           "r": 10,
           "t": 87
          },
          "showactive": false,
          "type": "buttons",
          "x": 0.1,
          "xanchor": "right",
          "y": 0,
          "yanchor": "top"
         }
        ],
        "xaxis": {
         "range": [
          11.20267825120404,
          11921.273118999405
         ],
         "title": "Mean Volume"
        },
        "yaxis": {
         "title": "Mean Stock Value"
        }
       }
      },
      "text/html": [
       "<div id=\"55eb6221-70e3-471b-9154-219a58030e1a\" style=\"height: 525px; width: 100%;\" class=\"plotly-graph-div\"></div><script type=\"text/javascript\">require([\"plotly\"], function(Plotly) { window.PLOTLYENV=window.PLOTLYENV || {};window.PLOTLYENV.BASE_URL=\"https://plot.ly\";\n",
       "        Plotly.plot(\n",
       "            '55eb6221-70e3-471b-9154-219a58030e1a',\n",
       "            [{\"name\": \"Telecommunications Services\", \"text\": [\"AYI\", \"CLX\", \"GOOGL\", \"LKQ\"], \"y\": [38.69099851383398, 43.84247213438733, 232.65866976284588, 8.860810276679832], \"mode\": \"markers\", \"marker\": {\"sizemode\": \"area\", \"sizeref\": 200000}, \"x\": [3853.151730839257, 2663.015468111143, 3562.3740807092527, 1138.788274956265]}, {\"name\": \"Industrials\", \"text\": [\"AMZN\", \"COO\", \"DHR\", \"DIS\", \"ED\", \"EXPE\", \"GIS\", \"HSIC\", \"IFF\", \"INCY\", \"LNT\", \"NKE\", \"ORLY\", \"PXD\", \"ROK\", \"ROP\", \"SPGI\", \"STZ\", \"TSO\", \"UNH\", \"URI\"], \"y\": [69.88003967984191, 31.38805953359683, 26.541931913043488, 26.307677762845856, 27.74199802766798, 25.351091359683796, 23.79899894466406, 52.47632414229245, 32.947869778656134, 8.399723320158108, 11.936160090909098, 13.265100316205531, 26.864505916996045, 48.52776564426876, 37.01072553359686, 52.44890935573123, 30.110689723320156, 18.507410482213437, 19.33209582608694, 28.899648264822126, 15.786996027667996], \"mode\": \"markers\", \"marker\": {\"sizemode\": \"area\", \"sizeref\": 200000}, \"x\": [2135.6036996726093, 1244.2061773909127, 3147.323663854623, 2593.9024730173824, 1392.0525409192865, 1637.640981469908, 4332.114199641462, 1197.9254135557387, 1035.539614157816, 1546.3188469020822, 1823.970823565276, 2605.007415798204, 6488.555811714895, 1581.5256305726134, 1417.6423672502613, 1312.2817529819906, 1956.42298828523, 2759.579076569812, 2351.3361771941118, 587.365660361867, 2126.0743389782165]}, {\"name\": \"Consumer Discretionary\", \"text\": [\"ACN\", \"ALK\", \"BMY\", \"CMG\", \"CNC\", \"CTXS\", \"DISCK\", \"DVA\", \"GILD\", \"GPC\", \"GPN\", \"GWW\", \"HBI\", \"HD\", \"LEN\", \"LRCX\", \"MCHP\", \"MCO\", \"MO\", \"NFLX\", \"ROST\", \"SRE\", \"TMO\", \"TSN\", \"TWX\", \"TXN\", \"UAL\", \"UHS\", \"ULTA\", \"V\", \"VRTX\", \"WEC\", \"XEL\", \"YUM\"], \"y\": [29.800268501976312, 5.114331474308304, 15.550285169960475, 82.2162450355731, 9.845217391304349, 23.544949162055335, 6.503698630136987, 26.037826086956503, 23.753159415019752, 30.40067369960475, 20.684709415019746, 69.15634457312254, 5.720028260869563, 20.382610138339935, 12.909375818181815, 32.308234169960485, 20.960030482213426, 29.079993648221368, 12.884024193675902, 4.094669656126481, 7.385891798418969, 40.114764671936776, 50.3312142490119, 12.414164976284585, 27.521949011857696, 20.58570218577076, 15.963185909090921, 25.56226181027668, 12.014223928853763, 15.814527670000002, 25.93292491304347, 16.77952767193676, 14.017569853754948, 20.747452703557304], \"mode\": \"markers\", \"marker\": {\"sizemode\": \"area\", \"sizeref\": 200000}, \"x\": [4039.3803089870617, 975.4506407651645, 1448.0405187264332, 2517.871301184408, 1852.7417990408278, 3283.2552775243207, 2236.2599352543334, 1767.5435713667264, 3125.1095158675653, 3553.9454220965617, 1106.6666468244518, 2091.4345361431547, 3055.185056788753, 1925.654552235539, 1658.0163394303995, 3921.9994699001722, 3177.063177650487, 1580.645537812173, 4033.4672066982125, 2939.7341978740524, 890.7280408114179, 934.5536441713724, 1435.7073974961947, 1751.2922388707298, 1023.1297407480452, 3075.646402061497, 3303.0736673852603, 1573.0215630895414, 1138.453635350117, 2623.760238009804, 2038.94066892183, 2311.1661413248344, 1186.4152003695772, 5811.508175398816]}, {\"name\": \"Utilities\", \"text\": [\"ADBE\", \"AMGN\", \"DAL\", \"ECL\", \"EL\", \"ESS\", \"FRT\", \"NI\", \"PM\", \"PSA\", \"SBUX\", \"SIG\", \"SPG\", \"WHR\", \"XLNX\"], \"y\": [35.326837920948634, 45.37061718181816, 9.066193189723315, 39.17981459288538, 19.19205403557313, 77.88019919762851, 54.52477470355732, 4.380159877470356, 33.795417113861404, 62.2294202806324, 6.860431422924899, 18.964019826086957, 59.74142971541502, 56.735170596838, 18.163376308300396], \"mode\": \"markers\", \"marker\": {\"sizemode\": \"area\", \"sizeref\": 200000}, \"x\": [1939.2801525002578, 976.3692118991995, 1744.9420978649077, 6283.659591799404, 1505.8190160477152, 2377.847866098313, 3545.466904812754, 1505.4848338592578, 1316.8464545953098, 2409.17966127813, 1788.742133168538, 1432.7376431678613, 2284.0851690093646, 2826.218440237194, 2445.426399767501]}, {\"name\": \"Consumer Staples\", \"text\": [\"CB\", \"CCI\", \"CTAS\", \"CTSH\", \"DFS\", \"DISCA\", \"KMB\", \"MCK\", \"PCLN\", \"PPG\", \"RHT\", \"WBA\", \"WYN\"], \"y\": [46.39005453754937, 29.01591069565217, 23.841067118577076, 13.494802355731231, 12.649031671936756, 10.11385102371542, 42.913944616600794, 48.68421006324112, 99.08553335177872, 23.660878798418956, 18.077826110671936, 27.291403134387355, 14.12799574308301], \"mode\": \"markers\", \"marker\": {\"sizemode\": \"area\", \"sizeref\": 200000}, \"x\": [2932.0093880107884, 2828.0025493221065, 4302.200512413602, 1263.3711724460034, 2482.066667257643, 3850.5683067029186, 2181.572392281952, 1894.5238328824696, 1609.2076954559423, 975.0597427728644, 1338.0689289038976, 1148.381400884407, 1620.412039533653]}, {\"name\": \"Health Care\", \"text\": [\"AAL\", \"AAP\", \"ADI\", \"ADS\", \"AET\", \"AGN\", \"AMT\", \"AN\", \"BF-B\", \"CAG\", \"CAH\", \"CELG\", \"CINF\", \"DLTR\", \"DPS\", \"FFIV\", \"HAR\", \"HON\", \"HRL\", \"IDXX\", \"ILMN\", \"IPG\", \"LB\", \"MDLZ\", \"MHK\", \"MTD\", \"REGN\", \"SWK\", \"TMK\", \"UNP\", \"WFM\"], \"y\": [7.53635696837945, 34.52649335177864, 21.253431027667986, 54.433008833992126, 36.809280458498016, 27.217241367588937, 34.35913285375494, 12.10130436363636, 15.371113023715415, 12.109179533596848, 30.11863785375493, 30.51956524110672, 21.336166608695677, 11.273083000000003, 17.857801825301213, 25.243596936758905, 33.09758443478261, 38.76984159288535, 7.666749450592888, 24.455711407114645, 35.79138339920949, 6.593683687747033, 9.299737905138334, 15.928418640316195, 63.364980316205575, 94.29640341106717, 18.979446640316215, 35.04112189328063, 22.385099620553348, 27.66766586166006, 11.079802541501985], \"mode\": \"markers\", \"marker\": {\"sizemode\": \"area\", \"sizeref\": 200000}, \"x\": [2113.69073838852, 2819.931249687557, 2797.3123747159757, 1920.5340372256599, 2589.444291567292, 1974.5721505849344, 1742.98549017837, 3155.5263650168104, 2448.717499284952, 2186.309902127851, 2476.0158613091608, 2490.093970955659, 1905.0138754383518, 1134.4131877902387, 3105.6315671421876, 1460.1490259098941, 4101.409378894118, 2496.9575162474557, 1681.3422785701637, 3285.823544202635, 906.1659665278103, 2451.6426694475945, 1941.135725583953, 2123.9016226668314, 2984.264662043655, 1308.6059021396109, 1062.4950127760192, 1476.451519999587, 3716.432476950338, 1932.9476354171684, 7132.121349269897]}, {\"name\": \"Materials\", \"text\": [\"CMCSA\", \"EFX\", \"EMN\", \"EQR\", \"IR\", \"MAS\", \"MSFT\", \"NVDA\", \"SHW\", \"SJM\"], \"y\": [8.114358956521741, 29.528021802371537, 23.254926288537554, 23.958781869565197, 23.592882213438745, 11.864587648221345, 21.264944055335953, 14.822165272727275, 47.84619030434782, 36.204790205533584], \"mode\": \"markers\", \"marker\": {\"sizemode\": \"area\", \"sizeref\": 200000}, \"x\": [2019.9563647304412, 1574.413373404752, 2019.8189955299354, 1065.6924487191025, 2609.9057272511473, 2139.3696201314774, 5400.937629035098, 2753.7679540338963, 1227.5703050151305, 391.959705922935]}, {\"name\": \"Information Technology\", \"text\": [\"AAPL\", \"AJG\", \"ANTM\", \"ATVI\", \"AVB\", \"AZO\", \"DHI\", \"ES\", \"FL\", \"HAS\", \"HUM\", \"ITW\", \"LEG\", \"LMT\", \"MCD\", \"MMC\", \"MMM\", \"NWL\", \"RCL\", \"RTN\", \"SEE\", \"SNA\", \"TSCO\"], \"y\": [18.394736992094874, 17.417338565217392, 46.83392262450595, 13.107323573122535, 63.386444217391315, 120.52608713833996, 10.661876335968381, 18.6758805770751, 9.795670177865608, 24.542666924901187, 44.874237612648216, 36.31636128458496, 12.081488581027667, 73.67151511462446, 43.81770343873518, 21.488999715415023, 56.735571743082964, 15.186021288537559, 23.27104986956522, 45.654816209486164, 18.124552130434783, 40.88437870750993, 8.643384019762847], \"mode\": \"markers\", \"marker\": {\"sizemode\": \"area\", \"sizeref\": 200000}, \"x\": [1244.0976856273783, 1279.8029739666622, 1848.2710647666795, 2807.9630556221946, 3202.7681332583256, 843.522400132736, 1225.0994958384226, 1258.223542226674, 3548.6519179517463, 991.2199534146953, 1346.3685603857723, 1012.1327226314461, 2433.3313750962216, 2532.4687606593325, 1949.369209822894, 882.782611031686, 2178.4186707651816, 4497.46749115456, 2620.3750146479615, 1360.2265272863917, 3604.4199919350226, 1243.7038270770763, 2164.099279538627]}, {\"name\": \"Real Estate\", \"text\": [\"DTE\", \"EXR\", \"F\", \"FIS\", \"HSY\", \"JCI\", \"PRGO\", \"RAI\"], \"y\": [27.70803269169962, 10.280861664031615, 4.164018047430829, 17.747090960474317, 29.378645782608697, 15.408136138339907, 33.404887774703575, 8.309296505928845], \"mode\": \"markers\", \"marker\": {\"sizemode\": \"area\", \"sizeref\": 200000}, \"x\": [1698.5646114088315, 1435.8048520333568, 936.0382411700957, 1674.878203347166, 3140.664502583261, 1622.7433707862835, 1625.9531713475083, 1122.3051165808508]}, {\"name\": \"Energy\", \"text\": [\"AON\", \"APH\", \"CMI\", \"CMS\", \"CXO\", \"DRI\", \"FISV\", \"MA\", \"MAA\", \"NEE\", \"OKE\", \"SCG\", \"TDG\", \"TSS\", \"VFC\"], \"y\": [39.63751680237154, 18.603556249011852, 42.57841575098813, 9.693779438735167, 26.44003955335969, 21.359691636363635, 23.212747019762837, 20.496142798418973, 32.08972032411064, 43.598286616600824, 12.525779814229239, 25.471405806324118, 19.19113496442687, 17.705504130434775, 14.038338308300395], \"mode\": \"markers\", \"marker\": {\"sizemode\": \"area\", \"sizeref\": 200000}, \"x\": [2261.3477565136523, 1467.3783457193874, 856.0459242972476, 1899.0229441195518, 3935.98423990225, 1859.6030474205788, 1425.6817244555814, 3114.413134117, 6214.648321099168, 1847.2918967447067, 1250.6671737303416, 5449.3705623394435, 1171.5507779419731, 2826.154526404143, 1204.557222703346]}, {\"name\": \"Financials\", \"text\": [\"ADP\", \"AME\", \"AMP\", \"AWK\", \"BIIB\", \"BLL\", \"CERN\", \"COST\", \"CVS\", \"EQIX\", \"INTU\", \"JBHT\", \"KLAC\", \"LOW\", \"LUV\", \"MAR\", \"MU\", \"MYL\", \"PNW\", \"STX\", \"SWKS\", \"TJX\", \"TRV\"], \"y\": [28.02074515415023, 17.911955889328073, 33.389981225296445, 16.045950607954556, 55.427351837944684, 20.393064735177845, 10.936808300395256, 52.094219699604736, 32.35273071541502, 66.59866428458503, 25.875448648221344, 28.1458230513834, 22.235061719367582, 19.301809276679865, 12.077302932806322, 23.411571865612647, 5.585691699604742, 11.710197628458499, 22.733945363636366, 11.734826774703565, 7.711734719367586, 13.443963308300402, 36.044315660079036], \"mode\": \"markers\", \"marker\": {\"sizemode\": \"area\", \"sizeref\": 200000}, \"x\": [2801.9221945281997, 4949.539284664259, 3298.5457928951187, 1093.0549711521714, 2366.302297100863, 818.5647325311991, 3221.4773327673124, 4343.125183970221, 2244.134295263513, 2820.6219704872287, 8467.75709835136, 1927.2811544300805, 2040.1337823295735, 1209.0707894548786, 1259.7477631960576, 1386.089560156451, 652.9171390872152, 1607.5812238591081, 952.8903399657277, 2443.508460561973, 925.3564637372115, 1738.6418533070998, 1810.71667073015]}],\n",
       "            {\"slider\": {\"visible\": true, \"initialValue\": \"2008\", \"values\": [\"2012\", \"2013\", \"2010\", \"2011\", \"2009\", \"2008\", \"2014\", \"2015\", \"2016\"], \"plotlycommand\": \"animate\", \"args\": [\"slider.value\", {\"duration\": 400, \"ease\": \"cubic-in-out\"}]}, \"yaxis\": {\"title\": \"Mean Stock Value\"}, \"updatemenus\": [{\"yanchor\": \"top\", \"direction\": \"left\", \"showactive\": false, \"xanchor\": \"right\", \"buttons\": [{\"args\": [null, {\"frame\": {\"duration\": 500, \"redraw\": false}, \"transition\": {\"duration\": 300, \"easing\": \"quadratic-in-out\"}, \"fromcurrent\": true}], \"method\": \"animate\", \"label\": \"Play\"}, {\"args\": [[null], {\"frame\": {\"duration\": 0, \"redraw\": false}, \"transition\": {\"duration\": 0}, \"mode\": \"immediate\"}], \"method\": \"animate\", \"label\": \"Pause\"}], \"pad\": {\"r\": 10, \"t\": 87}, \"y\": 0, \"x\": 0.1, \"type\": \"buttons\"}], \"sliders\": [{\"yanchor\": \"top\", \"currentvalue\": {\"visible\": true, \"prefix\": \"Year:\", \"font\": {\"size\": 20}, \"xanchor\": \"right\"}, \"transition\": {\"duration\": 300, \"easing\": \"cubic-in-out\"}, \"xanchor\": \"left\", \"pad\": {\"b\": 10, \"t\": 50}, \"len\": 0.9, \"active\": 0, \"steps\": [{\"args\": [[\"2012\"], {\"frame\": {\"duration\": 500, \"redraw\": false}, \"transition\": {\"duration\": 500}, \"mode\": \"immediate\"}], \"method\": \"animate\", \"label\": \"2012\"}, {\"args\": [[\"2013\"], {\"frame\": {\"duration\": 500, \"redraw\": false}, \"transition\": {\"duration\": 500}, \"mode\": \"immediate\"}], \"method\": \"animate\", \"label\": \"2013\"}, {\"args\": [[\"2010\"], {\"frame\": {\"duration\": 500, \"redraw\": false}, \"transition\": {\"duration\": 500}, \"mode\": \"immediate\"}], \"method\": \"animate\", \"label\": \"2010\"}, {\"args\": [[\"2011\"], {\"frame\": {\"duration\": 500, \"redraw\": false}, \"transition\": {\"duration\": 500}, \"mode\": \"immediate\"}], \"method\": \"animate\", \"label\": \"2011\"}, {\"args\": [[\"2009\"], {\"frame\": {\"duration\": 500, \"redraw\": false}, \"transition\": {\"duration\": 500}, \"mode\": \"immediate\"}], \"method\": \"animate\", \"label\": \"2009\"}, {\"args\": [[\"2008\"], {\"frame\": {\"duration\": 500, \"redraw\": false}, \"transition\": {\"duration\": 500}, \"mode\": \"immediate\"}], \"method\": \"animate\", \"label\": \"2008\"}, {\"args\": [[\"2014\"], {\"frame\": {\"duration\": 500, \"redraw\": false}, \"transition\": {\"duration\": 500}, \"mode\": \"immediate\"}], \"method\": \"animate\", \"label\": \"2014\"}, {\"args\": [[\"2015\"], {\"frame\": {\"duration\": 500, \"redraw\": false}, \"transition\": {\"duration\": 500}, \"mode\": \"immediate\"}], \"method\": \"animate\", \"label\": \"2015\"}, {\"args\": [[\"2016\"], {\"frame\": {\"duration\": 500, \"redraw\": false}, \"transition\": {\"duration\": 500}, \"mode\": \"immediate\"}], \"method\": \"animate\", \"label\": \"2016\"}], \"y\": 0, \"x\": 0.1}], \"xaxis\": {\"range\": [11.20267825120404, 11921.273118999405], \"title\": \"Mean Volume\"}, \"hovermode\": \"closest\"},\n",
       "            {\"linkText\": \"Export to plot.ly\", \"showLink\": true}\n",
       "        ).then(function () {return Plotly.addFrames('55eb6221-70e3-471b-9154-219a58030e1a',[{\"data\": [{\"name\": \"Telecommunications Services\", \"text\": [\"AYI\", \"CLX\", \"GOOGL\", \"LKQ\"], \"y\": [59.150764996000014, 62.084970292000015, 321.72997360400024, 18.020839996000007], \"mode\": \"markers\", \"marker\": {\"sizemode\": \"area\", \"sizeref\": 200000}, \"x\": [867.7080154061042, 1151.0174629431128, 3861.9759709247287, 1019.1153026031942]}, {\"name\": \"Industrials\", \"text\": [\"ABC\", \"AMZN\", \"COO\", \"DHR\", \"DIS\", \"ED\", \"EXPE\", \"IFF\", \"INCY\", \"LNT\", \"NKE\", \"PXD\", \"ROK\", \"ROP\", \"SPGI\", \"STZ\", \"TSO\", \"UNH\", \"URI\"], \"y\": [36.216552219999976, 220.30364006399998, 84.07807722400004, 39.461617991999994, 43.46333000799998, 49.04651217199999, 44.16640476799999, 54.114643504, 19.298399992000007, 18.701617036000002, 23.764013988, 101.16988647200003, 67.095845536, 98.85134053199997, 45.44432240399998, 26.57536753600001, 28.466264324, 50.94054194399999, 37.555600023999986], \"mode\": \"markers\", \"marker\": {\"sizemode\": \"area\", \"sizeref\": 200000}, \"x\": [2143.8586707150266, 1056.609672490272, 1933.6791874558717, 1925.710258579935, 2188.632266964919, 1312.456018310709, 1066.1776587417314, 1036.8731841454864, 2020.8597180408144, 813.3134697027955, 1372.4863569449424, 848.4753384748434, 4593.775876117597, 1161.1482248188643, 863.8328542027098, 657.6032238363799, 1575.089838707621, 2792.9622983491918, 2532.0335700776163]}, {\"name\": \"Consumer Discretionary\", \"text\": [\"ACN\", \"ALK\", \"BMY\", \"CHD\", \"CMG\", \"CNC\", \"DISCK\", \"DLR\", \"DVA\", \"GILD\", \"GPC\", \"GPN\", \"GWW\", \"HBI\", \"HD\", \"LEN\", \"LRCX\", \"MCHP\", \"MCO\", \"MO\", \"O\", \"PVH\", \"ROST\", \"SRE\", \"TMO\", \"TSN\", \"TWX\", \"TXN\", \"UAL\", \"UHS\", \"V\", \"VRTX\", \"WEC\", \"XEL\", \"YUM\"], \"y\": [56.13740907200002, 17.422944376000014, 29.186484780000008, 23.972802952000002, 347.6927204079999, 20.199139952000007, 24.42965994800001, 56.53924904399999, 47.33992008000003, 27.29592478800001, 54.97107850799999, 22.408761115999983, 184.22890181600002, 7.0516192200000045, 48.504387724, 29.52125250399999, 36.20566649199998, 28.969751807999984, 38.349463908, 26.30993527200003, 31.72754486400001, 88.34485927199992, 28.744582012, 56.63270627200001, 54.77235982799999, 17.065155956, 35.030129307999985, 26.513058335999983, 21.208840004000002, 41.402683944, 30.310205788000005, 47.38183998399999, 31.497735688000002, 23.1158595, 43.85073828799999], \"mode\": \"markers\", \"marker\": {\"sizemode\": \"area\", \"sizeref\": 200000}, \"x\": [1063.2828410164436, 1239.3982410831475, 2385.630734208461, 2134.4223574541193, 1992.5523330643036, 5123.33649099881, 980.0926486817458, 2033.008017692011, 3014.1110795722175, 3733.1446261831325, 2008.4509453805438, 3901.1247608862755, 1303.7217494542308, 749.7234156674047, 3462.7016042390946, 1942.3958401932393, 2673.207287136559, 963.8269554230158, 2673.1065074179146, 706.7848328876335, 1665.555883181348, 2122.8727705635115, 1420.607475694817, 2089.158299411512, 1932.7486127274803, 1482.9752526593288, 1643.6156485018023, 1303.7619414601731, 2672.97287677971, 1826.8715335239094, 1949.6253999166097, 3158.777864934475, 1298.516692230023, 2627.5165460944295, 3873.4067176066083]}, {\"name\": \"Utilities\", \"text\": [\"ADBE\", \"ALXN\", \"DAL\", \"ECL\", \"EL\", \"ESS\", \"FRT\", \"NI\", \"NOC\", \"PM\", \"PSA\", \"SBUX\", \"SIG\", \"SPG\", \"WHR\", \"XLNX\"], \"y\": [32.67007998800001, 94.29875997599996, 9.647539580000004, 61.640489324, 55.55314160800001, 130.31958214799997, 89.00573978000001, 8.355276295999998, 57.30111420000006, 71.37568154399993, 121.68308733600001, 23.955722104000003, 45.92708300799997, 121.2746959239999, 67.456147288, 30.43529524400002], \"mode\": \"markers\", \"marker\": {\"sizemode\": \"area\", \"sizeref\": 200000}, \"x\": [11487.567383915535, 1762.2207580209695, 1657.2643723920455, 2064.788221585933, 5205.397698543311, 1024.1648304838436, 1318.4809441171305, 1335.9691613207244, 6392.479018346482, 2297.181316309185, 831.1813279904693, 705.8812931364594, 3955.785535137111, 2730.5755437269995, 2872.716205962573, 1293.5962275764412]}, {\"name\": \"Consumer Staples\", \"text\": [\"CB\", \"CCI\", \"CRM\", \"CTAS\", \"CTSH\", \"DFS\", \"DISCA\", \"KMB\", \"KR\", \"MCK\", \"PCLN\", \"PPG\", \"RHT\", \"WBA\", \"WYN\"], \"y\": [69.62590081999998, 52.79089592799999, 35.727660012000015, 36.60353099200001, 33.585800052, 32.144782875999994, 26.906530632, 66.10042213199998, 11.017031711999994, 86.02947713199998, 630.4968791040003, 49.46174520400001, 53.053040072000016, 30.771519296, 44.47557144799999], \"mode\": \"markers\", \"marker\": {\"sizemode\": \"area\", \"sizeref\": 200000}, \"x\": [6392.291701729514, 2650.674782013063, 668.0943047205237, 1426.9533979776634, 6461.712064151419, 1014.8164366031918, 1939.0615255839614, 1392.889945401287, 1554.8111139299206, 1789.5871032168286, 2152.8724997082386, 1684.9275355337984, 1594.814221155555, 1626.0826547257675, 2654.521802509823]}, {\"name\": \"Health Care\", \"text\": [\"AAL\", \"AAP\", \"ADS\", \"AET\", \"AGN\", \"AMT\", \"AN\", \"BF-B\", \"CAG\", \"CAH\", \"CELG\", \"CINF\", \"DLTR\", \"DPS\", \"EW\", \"FFIV\", \"HAR\", \"HON\", \"HRL\", \"IDXX\", \"ILMN\", \"IPG\", \"LB\", \"MDLZ\", \"MHK\", \"MKC\", \"MTD\", \"SWK\", \"TMK\", \"UNP\", \"VRSN\", \"WFM\"], \"y\": [10.217183604000008, 75.34504743599999, 129.85273645600003, 40.46435256800001, 74.205728408, 63.34811351200001, 38.19216006400002, 28.20845082799999, 18.110924520000008, 37.40107901599999, 36.54003999999999, 31.273245260000014, 46.52306006000001, 36.892879511999936, 43.895539899999996, 108.20687996000002, 40.667117383999965, 53.30731503600002, 13.516435328000018, 45.126879900000006, 46.259039924, 9.761425552000007, 38.43913546400001, 23.936358932000015, 71.90123991600004, 52.889709359999976, 171.311919872, 63.54585371999999, 31.500230824000017, 52.6483492, 41.35219994400002, 41.225007680000004], \"mode\": \"markers\", \"marker\": {\"sizemode\": \"area\", \"sizeref\": 200000}, \"x\": [1422.7938924234459, 1893.8716957597735, 1842.7595610930905, 764.2413231434166, 1279.638073831816, 3660.001639343895, 634.9948031283405, 2215.721913959421, 3701.40854270371, 1673.0025702311398, 1791.6699472838184, 1259.871104518236, 2987.9097710606993, 1084.2278358352546, 528.1761069946273, 7392.438464513107, 1052.8468074701086, 3092.872903951923, 1887.2280201395909, 2762.0047067302403, 1398.785759149699, 1491.909782795193, 1747.3565177146877, 1636.0123471416712, 1288.6617865056758, 3369.5873337843614, 2620.36043322288, 1122.8235836497201, 1343.6411723373171, 1526.4507853186751, 2064.467873327168, 857.595942154579]}, {\"name\": \"Materials\", \"text\": [\"CMCSA\", \"EFX\", \"EMN\", \"EQR\", \"GOOG\", \"MAS\", \"MSFT\", \"NVDA\", \"SHW\", \"SJM\"], \"y\": [14.775780075999995, 43.504176048000026, 48.42663498, 43.617854327999986, 321.08770308000027, 11.308059199999999, 26.149729216000004, 12.564384472000008, 121.73070873200001, 72.32134993200002], \"mode\": \"markers\", \"marker\": {\"sizemode\": \"area\", \"sizeref\": 200000}, \"x\": [1662.8053403811284, 1886.5935439304355, 1227.4182661179523, 1440.8497492799172, 2021.0126174766945, 2427.3535383211074, 1998.7071821555053, 2005.301772801291, 1417.4117256464333, 782.4029652295549]}, {\"name\": \"Information Technology\", \"text\": [\"AJG\", \"ANTM\", \"ATVI\", \"AVB\", \"AZO\", \"DHI\", \"ES\", \"FL\", \"HAS\", \"HUM\", \"ITW\", \"LEG\", \"LMT\", \"MCD\", \"MMC\", \"MMM\", \"NWL\", \"RTN\", \"SEE\", \"SNA\", \"TSCO\"], \"y\": [30.214473023999982, 58.10275583199999, 11.347815247999996, 119.57470067199988, 370.00384023599975, 16.684157416, 31.831242376, 29.091423052000014, 31.333548616000005, 74.50141401600004, 51.24057188399998, 20.018538820000007, 75.29963474, 79.18889591200002, 29.813872028000013, 79.17450600400002, 17.041574156, 47.662542380000005, 15.69819876399999, 61.22924525600004, 42.93520330400001], \"mode\": \"markers\", \"marker\": {\"sizemode\": \"area\", \"sizeref\": 200000}, \"x\": [1774.3840621466368, 2144.556644157482, 1726.0174970144421, 2009.5871217740225, 1482.3741767853353, 2399.137761780261, 2005.7478405821605, 1675.8830508123174, 2262.9262471410775, 1322.4976370489287, 2113.170035751974, 3360.7497972922647, 888.8338427400253, 545.2456327197862, 3085.0513772058966, 759.7941826573825, 1688.3749583549265, 1132.1565262807082, 1542.3134571156409, 1062.9472235252322, 1080.0936996390637]}, {\"name\": \"Real Estate\", \"text\": [\"DTE\", \"F\", \"FIS\", \"HSY\", \"JCI\", \"MNST\", \"PRGO\", \"RAI\", \"UAA\"], \"y\": [48.84168526399999, 9.057679207999996, 29.797384575999992, 60.84155854399995, 24.514131468000006, 19.772659988, 104.98827291199994, 17.34060062, 12.399094999999997], \"mode\": \"markers\", \"marker\": {\"sizemode\": \"area\", \"sizeref\": 200000}, \"x\": [725.4044389166639, 1478.3818180700139, 1201.5112150953898, 1817.9603956082212, 1290.7876665044487, 746.8542026393103, 1850.893081731087, 1363.0439464668775, 1147.6443700031818]}, {\"name\": \"Energy\", \"text\": [\"AON\", \"APH\", \"CBS\", \"CMI\", \"CMS\", \"CXO\", \"DRI\", \"FISV\", \"MA\", \"MAA\", \"NEE\", \"OKE\", \"SCG\", \"TDG\", \"TSS\", \"VFC\"], \"y\": [47.682851807999995, 27.721295308000016, 31.297426172, 91.69464395599996, 19.60025920799999, 93.54847989599996, 42.56081994800003, 35.13491989600001, 41.931397836, 54.47748610399999, 56.63759431199998, 30.704989575999996, 38.64536534800002, 80.58770080400005, 21.48301001200001, 33.418760944], \"mode\": \"markers\", \"marker\": {\"sizemode\": \"area\", \"sizeref\": 200000}, \"x\": [1266.8532669571484, 1800.2199865571986, 1606.246182874842, 985.232358380499, 1600.0376245576226, 2299.685717657959, 1650.777877244543, 4229.019460820676, 1084.4628163288958, 2774.246420201349, 1538.0527949326056, 3475.2795571004067, 2081.30516743701, 2819.1715095041664, 1187.808402058177, 1694.9382289629318]}, {\"name\": \"Financials\", \"text\": [\"ADP\", \"AME\", \"AMP\", \"AWK\", \"BIIB\", \"BLL\", \"CERN\", \"COST\", \"CVS\", \"EQIX\", \"INTU\", \"JBHT\", \"KLAC\", \"LOW\", \"LUV\", \"MAR\", \"MU\", \"MYL\", \"PNW\", \"STX\", \"SWKS\", \"TJX\", \"TRV\"], \"y\": [43.572375267999995, 32.681630080000005, 48.74406353200001, 31.471075623999987, 136.51511978000002, 39.906234751999996, 37.37524012799999, 79.39938477999998, 42.212022931999996, 151.00847014800007, 55.47667236399998, 52.32075155200002, 34.240670456000004, 27.31679478400001, 8.658041048000005, 34.709113108000004, 6.646360000000002, 23.323000028000013, 41.980931367999936, 22.232600071999983, 24.147826192000007, 39.025516084, 57.42294822400001], \"mode\": \"markers\", \"marker\": {\"sizemode\": \"area\", \"sizeref\": 200000}, \"x\": [3806.8706833828755, 1275.5845718728335, 1205.1386642208438, 3078.5575193587015, 755.8042074505804, 878.3798722648419, 769.6292613979798, 2735.2999104302985, 3040.127694686524, 1379.2460259141587, 753.8869941841416, 2018.8230234470777, 1416.88757493317, 1503.9380306382309, 1943.9675923224647, 2042.5137453637858, 4904.538143393321, 1437.0986048284926, 949.1665817968941, 3418.6599128898447, 2601.5193253174193, 694.9938129221008, 2256.991271582591]}], \"name\": \"2012\"}, {\"data\": [{\"name\": \"Telecommunications Services\", \"text\": [\"AYI\", \"CLX\", \"GOOGL\", \"LKQ\"], \"y\": [82.4900569325397, 77.08394095634922, 442.5639382103176, 26.96809529761906], \"mode\": \"markers\", \"marker\": {\"sizemode\": \"area\", \"sizeref\": 200000}, \"x\": [2785.9969433317706, 3443.9016149323043, 2132.539100666859, 922.5505965390751]}, {\"name\": \"Industrials\", \"text\": [\"ABC\", \"AMZN\", \"COO\", \"DHR\", \"DIS\", \"ED\", \"EXPE\", \"GIS\", \"HSIC\", \"IFF\", \"INCY\", \"LNT\", \"NKE\", \"ORLY\", \"PXD\", \"ROK\", \"ROP\", \"SPGI\", \"STZ\", \"TSO\", \"URI\"], \"y\": [53.93125939682537, 298.0315877896826, 117.88686003174601, 48.990763452381, 59.74504703571427, 49.768381281746024, 56.95392311507936, 43.296223384920644, 99.18567455555556, 74.11989705158737, 28.976111091269846, 22.08339719444444, 30.991559238095235, 113.9156743730159, 154.58818548015878, 88.19557410714283, 122.68930826587298, 56.165843246031734, 52.12376105158733, 48.35168038095236, 56.97650778968251], \"mode\": \"markers\", \"marker\": {\"sizemode\": \"area\", \"sizeref\": 200000}, \"x\": [11.20267825120404, 3567.6919420895624, 1008.212704315343, 2348.1211672043282, 1772.4961100993876, 1725.3905700007806, 1729.175071695006, 3038.80687478198, 1094.7974009862962, 2587.5813000033418, 1302.8202010217972, 1206.6836028803564, 1177.6644899094356, 1256.5937852689192, 1605.9985520561186, 924.8652840553556, 3964.8925604451147, 2496.591724350467, 3020.668090718627, 1404.2674472806323, 1046.1803161827572]}, {\"name\": \"Consumer Discretionary\", \"text\": [\"ACN\", \"ALK\", \"BMY\", \"CHD\", \"CMG\", \"CNC\", \"CTXS\", \"DISCK\", \"DLR\", \"DVA\", \"GILD\", \"GPC\", \"GPN\", \"GWW\", \"HBI\", \"HD\", \"LEN\", \"LRCX\", \"MCHP\", \"MCO\", \"MO\", \"NFLX\", \"O\", \"PVH\", \"ROST\", \"SRE\", \"TMO\", \"TSN\", \"TWX\", \"TXN\", \"UAL\", \"UHS\", \"ULTA\", \"V\", \"VRTX\", \"WEC\", \"YUM\"], \"y\": [69.86866323015876, 28.88827267460316, 39.963368841269826, 29.146326702380954, 397.1309119285713, 26.349523833333354, 52.944243869047625, 35.94194447619049, 49.93801995634923, 59.114603079365104, 54.146852694444476, 70.05426651984124, 25.5006420873016, 230.3061836428572, 12.73624932539682, 68.80014006349204, 36.98140399206347, 45.17104948809521, 34.351758261904784, 59.61781076190474, 30.453679531746033, 35.27183092063491, 36.476477793650766, 121.54210837698406, 32.08730430158731, 75.06165252777775, 85.22402086507932, 25.86496182936508, 54.10467055952382, 34.10645460714286, 31.652539686507918, 67.62024019444442, 100.65257927777778, 43.895508150793646, 68.02952391269841, 36.36979507936508, 46.41630023412697], \"mode\": \"markers\", \"marker\": {\"sizemode\": \"area\", \"sizeref\": 200000}, \"x\": [2843.5730932240754, 3705.417259026581, 817.2111887291601, 1544.5712663472013, 805.3225716720254, 1366.0037590875327, 6254.13929596498, 1902.1158853418583, 2649.838344874693, 1110.8714225599276, 1319.0996207731278, 3154.8798181018983, 1857.3166127507716, 881.2878383185904, 2059.745804165596, 1215.0267813365595, 2749.0644873402944, 1475.8107806617556, 693.5851191168374, 1489.0958159924933, 772.0758968366973, 2182.3599247763514, 1130.3349693153543, 1633.7268719291765, 1071.1160919992205, 883.3137913381937, 1286.5172316380326, 833.77202738566, 1173.254698393144, 1405.675993961624, 1186.6603129845955, 2755.2971348998462, 1619.2936437724643, 1926.4473017316634, 1717.773799252051, 1444.3579339172964, 1758.706685706632]}, {\"name\": \"Utilities\", \"text\": [\"ADBE\", \"ALXN\", \"AMGN\", \"DAL\", \"ECL\", \"EL\", \"ESS\", \"FRT\", \"NI\", \"NOC\", \"PM\", \"PSA\", \"SBUX\", \"SIG\", \"SPG\", \"WHR\", \"XLNX\"], \"y\": [46.803412603174586, 104.9874204087302, 95.94309769444448, 19.193551091269832, 85.93613544047618, 64.86986031746032, 139.56195129365076, 95.4229106349206, 10.46872659523809, 80.36375756746027, 75.97498319047618, 140.76348939682532, 31.985056297619064, 67.05469023015877, 133.05897337301573, 118.68469941666666, 37.885090265872996], \"mode\": \"markers\", \"marker\": {\"sizemode\": \"area\", \"sizeref\": 200000}, \"x\": [884.5384860667925, 802.6543267521631, 1716.7755397745666, 2277.861883851776, 997.0719036019323, 2183.6325676441515, 1880.9776670994752, 1058.0301402974198, 1387.9914402096426, 2942.482552442507, 2941.6508835405534, 1061.5089215245393, 914.9061015225412, 1362.1721973517501, 756.8420711316995, 676.4126898455756, 2167.361518616807]}, {\"name\": \"Consumer Staples\", \"text\": [\"CB\", \"CCI\", \"CRM\", \"CTAS\", \"CTSH\", \"DFS\", \"DISCA\", \"KMB\", \"KR\", \"MCK\", \"PCLN\", \"PPG\", \"RHT\", \"WBA\", \"WYN\"], \"y\": [87.3154585753968, 65.27414413095237, 45.94423617857144, 45.07685535714285, 38.63857140079366, 44.19441849603174, 40.42628861507937, 83.77534916666669, 17.01811790873017, 120.7794340515873, 877.9541662063494, 74.45765786904765, 49.67075410317458, 46.36342014682541, 57.55884352777782], \"mode\": \"markers\", \"marker\": {\"sizemode\": \"area\", \"sizeref\": 200000}, \"x\": [989.1596962886755, 1679.225303241831, 885.3156104795228, 1184.6226041595332, 2413.912141192555, 2395.5727187446537, 1948.7674167135606, 1256.5894570193018, 1302.4317914687783, 993.8850736793162, 886.4871819770007, 991.5700233019911, 1943.5199616340042, 842.1509686322602, 1471.4166858820324]}, {\"name\": \"Health Care\", \"text\": [\"AAL\", \"AAP\", \"ADI\", \"ADS\", \"AET\", \"AGN\", \"AMT\", \"AN\", \"BF-B\", \"CAG\", \"CAH\", \"CELG\", \"CI\", \"DLTR\", \"DPS\", \"EW\", \"FFIV\", \"HAR\", \"HON\", \"HRL\", \"IDXX\", \"ILMN\", \"IPG\", \"LB\", \"MDLZ\", \"MHK\", \"MKC\", \"MTD\", \"REGN\", \"SWK\", \"TMK\", \"UNP\", \"WFM\"], \"y\": [17.70452107936509, 84.67508540873013, 42.00288172619047, 190.94116313095236, 57.17746139285715, 122.61596475793648, 71.84539359523816, 46.75920626587301, 33.21965711507936, 23.796224039682546, 47.168215587301596, 65.31287708333335, 71.69016952777781, 50.73904761111111, 41.95323134523809, 36.98966271428569, 85.95178554365073, 55.770921293650794, 73.36072178571425, 19.204982714285716, 47.80307547619048, 72.89821453174605, 13.685228880952371, 45.526587277777786, 28.904064575396827, 119.11813459920634, 64.47233965873012, 223.9566274523811, 239.8611907301588, 74.61692463492064, 42.67703556349206, 69.45384721031752, 49.532100206349185], \"mode\": \"markers\", \"marker\": {\"sizemode\": \"area\", \"sizeref\": 200000}, \"x\": [2328.886343298015, 1188.4855909938497, 10080.114086655964, 2840.027595998276, 1434.602704805383, 1715.3049384135848, 1197.9320806461733, 1079.0402113812895, 1396.3754100220633, 1927.4202472537768, 4131.797093544433, 1158.0066342985108, 2199.265750488067, 1877.7974897997954, 1436.586700901254, 2218.2933522925673, 1320.7931119007415, 2029.0316519079845, 1712.229587038537, 1851.3491434069508, 616.426272320015, 957.0067422760953, 571.1517186477563, 3797.8088398610826, 2258.5945201273303, 1385.0972689470022, 1298.9030781198444, 3881.0431628295546, 3438.563745944029, 607.0220701513197, 649.1267027248812, 2156.681662566544, 3584.056626891085]}, {\"name\": \"Materials\", \"text\": [\"CMCSA\", \"EFX\", \"EMN\", \"EQR\", \"GOOG\", \"IR\", \"MAS\", \"MSFT\", \"NVDA\", \"SHW\", \"SJM\"], \"y\": [20.35277421825396, 58.16169053174603, 68.50906112698415, 42.12631607539684, 441.680446738095, 44.56873972222222, 16.88715767063491, 29.37939223412698, 13.426403432539674, 169.37292913095234, 94.06862189285712], \"mode\": \"markers\", \"marker\": {\"sizemode\": \"area\", \"sizeref\": 200000}, \"x\": [971.464693539426, 1304.331002882077, 5057.29721874542, 1499.3757960490686, 6170.738809925231, 1099.6355817717126, 1939.8005543035063, 1629.2703352718436, 1934.359128521702, 1257.7245452586317, 3060.243272827977]}, {\"name\": \"Information Technology\", \"text\": [\"AAPL\", \"AJG\", \"ANTM\", \"ATVI\", \"AVB\", \"AZO\", \"DHI\", \"ES\", \"FL\", \"HAS\", \"HUM\", \"ITW\", \"LEG\", \"LMT\", \"MCD\", \"MMC\", \"MMM\", \"NWL\", \"RCL\", \"RTN\", \"SEE\", \"SNA\", \"TSCO\"], \"y\": [62.61798788492063, 38.10085482539683, 73.46506989285719, 14.940588023809527, 116.03386734126981, 415.1742851825395, 20.801257650793637, 37.078156313492094, 32.70997377777777, 41.40798435317459, 82.9107269642857, 65.18425556746033, 27.559170281746013, 100.51326788492062, 86.03738090476196, 37.92888589682542, 103.62373213888887, 24.918279388888905, 34.867691503968224, 63.6633169642857, 24.431839281746026, 86.99719068253975, 57.58890352380953], \"mode\": \"markers\", \"marker\": {\"sizemode\": \"area\", \"sizeref\": 200000}, \"x\": [1690.7502476711336, 1724.4007470735846, 605.7403970113176, 1335.3682388514912, 1779.4547274331333, 910.4778093231275, 3706.9733728881283, 1236.913561543473, 1546.060662273176, 1133.1414403372262, 1713.834348647259, 1479.1192145306106, 2068.8316233358105, 2281.39420614008, 2523.3551927089907, 2107.8251787392105, 2709.4189033168705, 1853.6884080895888, 1248.0435482837522, 873.1522440387137, 1250.4553139010975, 1440.5024200681587, 1875.618099179109]}, {\"name\": \"Real Estate\", \"text\": [\"DTE\", \"EXR\", \"F\", \"FIS\", \"HSY\", \"JCI\", \"MNST\", \"PRGO\", \"RAI\", \"UAA\"], \"y\": [59.258017305555555, 37.30485993650795, 13.006469111111105, 41.34493437301582, 82.43056669444441, 31.59201167063491, 18.656838658730162, 122.89762503571427, 20.5502976904762, 16.298432571428574], \"mode\": \"markers\", \"marker\": {\"sizemode\": \"area\", \"sizeref\": 200000}, \"x\": [1465.1057711424526, 1165.895663604895, 810.5121201482533, 7751.9026338341255, 6544.567873495824, 1553.1042902870163, 1312.5534002742245, 2239.5136589383483, 1054.0552830295665, 1902.0507938071007]}, {\"name\": \"Energy\", \"text\": [\"AON\", \"APH\", \"CBS\", \"CMI\", \"CMS\", \"CXO\", \"DRI\", \"FISV\", \"KMX\", \"MA\", \"MAA\", \"NEE\", \"OKE\", \"SCG\", \"TDG\", \"TSS\", \"VFC\"], \"y\": [64.73739049206351, 37.24971164285716, 48.776684742063466, 110.0328904484127, 23.92722484920635, 95.09579346825402, 43.40572781746032, 46.926230138888904, 45.79507930158731, 59.8433418452381, 57.03320838888885, 71.27024401190472, 36.34382463888888, 42.22545192460317, 108.12995542063494, 25.478456412698417, 43.689744158730164], \"mode\": \"markers\", \"marker\": {\"sizemode\": \"area\", \"sizeref\": 200000}, \"x\": [1978.1431689403569, 932.3547165431821, 2130.1805199604673, 1771.893772121382, 987.365622763864, 719.8056946810285, 1274.8512207001393, 1132.9708804170634, 3375.7546481408335, 1409.850408590633, 1201.7325455820487, 6164.027620633809, 1438.5300312449688, 663.7896253080992, 1193.5634255428786, 1391.3458426891043, 1426.7617903312405]}, {\"name\": \"Financials\", \"text\": [\"ADP\", \"AME\", \"AMP\", \"AWK\", \"BIIB\", \"BLL\", \"CERN\", \"COST\", \"EQIX\", \"INTU\", \"JBHT\", \"KLAC\", \"LOW\", \"LUV\", \"MAR\", \"MU\", \"MYL\", \"PNW\", \"STX\", \"SWKS\", \"TJX\", \"TRV\"], \"y\": [55.87178559920636, 43.09225284920634, 77.48337162698418, 37.49917380555556, 215.28103224206356, 44.63948996825396, 49.06958327777779, 103.889141107143, 174.5138041944444, 62.57648111111111, 69.65828818253968, 41.30944486111106, 40.61675275793654, 13.724547079365086, 40.04864529761905, 13.396626964285707, 33.8838493452381, 48.62405218650797, 35.075767646825376, 22.85220217460317, 49.87973684920634, 76.46241667063485], \"mode\": \"markers\", \"marker\": {\"sizemode\": \"area\", \"sizeref\": 200000}, \"x\": [1411.1920830411766, 835.0242368880536, 1309.2160504159224, 1119.868898222622, 2765.6089487024115, 1543.1093635697075, 1652.470973258023, 1958.7799895902162, 839.8171569710023, 2006.8790427087258, 2173.8091065560543, 4596.208582444157, 756.5226945053184, 1383.1336631572271, 1289.2387319408722, 2272.626880178076, 6972.479347690336, 3100.3372832389173, 1391.3837750684781, 1028.1411412589257, 1490.2804146487715, 1182.3975172880266]}], \"name\": \"2013\"}, {\"data\": [{\"name\": \"Telecommunications Services\", \"text\": [\"AYI\", \"CLX\", \"GOOGL\", \"LKQ\"], \"y\": [42.41961424603175, 52.06890226587304, 268.07963023015884, 10.148690476190481], \"mode\": \"markers\", \"marker\": {\"sizemode\": \"area\", \"sizeref\": 200000}, \"x\": [1132.090179536584, 1853.4150161855875, 3907.9707924043796, 1278.5940629370127]}, {\"name\": \"Industrials\", \"text\": [\"ABC\", \"AMZN\", \"COO\", \"DHR\", \"DIS\", \"ED\", \"EXPE\", \"GIS\", \"HSIC\", \"IFF\", \"INCY\", \"LNT\", \"NKE\", \"ORLY\", \"PXD\", \"ROK\", \"ROP\", \"SPGI\", \"STZ\", \"TSO\", \"UNH\", \"URI\"], \"y\": [27.472217849206345, 139.140396734127, 42.43486142063496, 29.701878472222205, 31.08098290873017, 34.7962389047619, 33.19555572619047, 29.308697583333345, 56.92694438492063, 41.53056513095237, 13.467182535714295, 13.33447359920635, 17.067529988095238, 48.66103176984126, 62.833669928571425, 49.29645396825397, 59.4072881468254, 29.034711468253963, 17.23630234523809, 12.096789896825392, 29.723469611111113, 13.114007940476196], \"mode\": \"markers\", \"marker\": {\"sizemode\": \"area\", \"sizeref\": 200000}, \"x\": [1102.135193216778, 2585.448673106825, 2668.5960282337155, 998.8815173554298, 1202.4186934199395, 2511.1679917002134, 1354.417815538329, 8499.332653541427, 2331.1339123826237, 2534.327734033636, 748.6432172047421, 2702.570719160461, 5317.998788182554, 1349.5313707487205, 1018.1306789234275, 1659.473644797584, 3038.700380096728, 845.213882953012, 2726.469314082761, 2133.299850927725, 1498.7909148207452, 2684.7378755322575]}, {\"name\": \"Consumer Discretionary\", \"text\": [\"ALK\", \"BMY\", \"CHD\", \"CMG\", \"CNC\", \"CTXS\", \"DISCK\", \"DLR\", \"DVA\", \"GILD\", \"GPC\", \"GPN\", \"GWW\", \"HBI\", \"LEN\", \"LRCX\", \"MCHP\", \"MCO\", \"MO\", \"NFLX\", \"O\", \"PVH\", \"ROST\", \"SRE\", \"TMO\", \"TSN\", \"TWX\", \"TXN\", \"UAL\", \"UHS\", \"ULTA\", \"V\", \"VRTX\", \"WEC\", \"XEL\", \"YUM\"], \"y\": [11.017122718253963, 20.577428123015874, 14.682371396825387, 153.76801586507935, 11.04803571428571, 42.431657071428575, 16.30333333730159, 41.492116341269835, 32.53142850000001, 18.9650087420635, 35.34764722619047, 20.86052639682541, 99.59696011904764, 6.144094936507935, 15.424371345238093, 38.784023265873024, 23.60679417857141, 22.803005464285697, 16.008397238095238, 16.824172285714297, 23.10752794841269, 54.00319911507941, 12.723513035714282, 41.2760085515873, 48.38645885714284, 15.700452150793641, 25.411760908730155, 22.38325416269841, 21.391230206349206, 35.984234626984104, 25.084203337301588, 18.82133933333333, 36.85948408333332, 21.442321837301584, 17.094687996031737, 26.543239333333332], \"mode\": \"markers\", \"marker\": {\"sizemode\": \"area\", \"sizeref\": 200000}, \"x\": [703.4534991005627, 2898.3672196052967, 1764.2170798294367, 1754.9797629186407, 846.9644676866967, 1105.466934311987, 2242.145461347517, 2167.655177433433, 1424.5169050237391, 1451.335044949447, 6133.875066655119, 2526.5694478092573, 1327.7104651862467, 1009.2695378341705, 1517.4000058579734, 2159.4739585782872, 2418.537945464324, 2581.097496359695, 2026.1596718602943, 1612.4775130707187, 2057.8067573981893, 2059.264778645871, 1084.8235172100867, 1510.081728052103, 1555.300333371059, 1422.9249720875926, 2287.8025430946777, 2327.237871621874, 2215.883409774595, 2500.085712816377, 2800.471828159937, 1348.1638012202504, 1346.558517580963, 950.0939803138274, 1622.3798167634081, 3842.148404874461]}, {\"name\": \"Utilities\", \"text\": [\"ADBE\", \"ALXN\", \"AMGN\", \"DAL\", \"ECL\", \"EL\", \"ESS\", \"FRT\", \"NI\", \"NOC\", \"PM\", \"PSA\", \"SBUX\", \"SIG\", \"SPG\", \"WHR\", \"XLNX\"], \"y\": [31.21190478968255, 29.13472220238095, 49.4606674365079, 12.068574765872999, 43.6195651547619, 29.378642853174608, 83.50573915079359, 62.53570047222223, 5.060603142857142, 46.48940694444444, 39.50311454761904, 76.517791515873, 11.86610019047619, 30.30155742857144, 67.57259672222217, 74.28559194444442, 22.27218382142857], \"mode\": \"markers\", \"marker\": {\"sizemode\": \"area\", \"sizeref\": 200000}, \"x\": [1907.6830873876202, 1467.37591076454, 4707.913887764216, 3213.193659284092, 2012.189441679473, 1362.7458275394538, 1206.079507237304, 1192.1222905203792, 2782.2719675810454, 2673.9859374444723, 2850.193672060544, 2081.88406733931, 1809.9087936329393, 3482.59362161785, 606.5063890842371, 1274.5761822835245, 1091.6899306863213]}, {\"name\": \"Consumer Staples\", \"text\": [\"CB\", \"CCI\", \"CRM\", \"CTAS\", \"CTSH\", \"DFS\", \"DISCA\", \"KR\", \"MCK\", \"PCLN\", \"PPG\", \"RHT\", \"WBA\"], \"y\": [48.290065107142844, 35.684732432539676, 24.21215276587302, 23.820151337301585, 28.21696434920636, 14.057178027777766, 19.13458825396825, 9.670011182539684, 61.15699428174603, 277.8894042499999, 30.372015023809528, 34.31206354761906, 28.79281559920634], \"mode\": \"markers\", \"marker\": {\"sizemode\": \"area\", \"sizeref\": 200000}, \"x\": [2327.307099059626, 2038.4227874308756, 1958.649012044004, 7744.669134314261, 3513.1494485175335, 3359.685123189988, 2607.070514325738, 1580.8769165867486, 2291.0529048231106, 2186.303958739498, 2290.6330136393744, 794.9388515966356, 1285.14853072777]}, {\"name\": \"Health Care\", \"text\": [\"AAP\", \"ADI\", \"ADS\", \"AET\", \"AGN\", \"AMT\", \"AN\", \"BF-B\", \"CAG\", \"CAH\", \"CELG\", \"CI\", \"CINF\", \"DLTR\", \"DPS\", \"EW\", \"FFIV\", \"HAR\", \"HON\", \"IDXX\", \"ILMN\", \"IPG\", \"LB\", \"MDLZ\", \"MHK\", \"MKC\", \"MTD\", \"REGN\", \"SWK\", \"TMK\", \"UNP\", \"VRSN\", \"WFM\"], \"y\": [51.25921067063493, 25.423540924603156, 63.62507106349205, 27.979229928571428, 43.49354656746031, 42.101329551587284, 21.770515888888887, 17.667870115079356, 14.80047790873016, 29.80222727777778, 28.7658929047619, 34.4715765873016, 21.691553753968268, 21.802043646825396, 29.1402138373016, 28.404831384920623, 83.90539684920631, 35.4349907261905, 37.888473944444456, 30.30525791666665, 45.44615072222222, 7.646807448412695, 17.15331539285714, 17.130461519841262, 52.24321426984127, 35.00234883730158, 119.19670614285707, 26.212896892857145, 49.87322605158735, 21.834764527777782, 33.20412523015871, 24.67610379365081, 17.4440720952381], \"mode\": \"markers\", \"marker\": {\"sizemode\": \"area\", \"sizeref\": 200000}, \"x\": [11.20267825120404, 4039.410563239728, 2109.3923558956762, 1411.595123840683, 2653.5779978128003, 739.5048751140592, 1577.2410360228032, 866.6341568994162, 1176.1112610687385, 7573.075008169738, 3180.8544948583103, 3814.7457736342426, 1286.0054123661068, 1295.7329236859769, 596.6819630920354, 1885.0845208620358, 5229.574248961078, 2151.7456921786843, 2821.1151825148636, 1483.6587390529717, 2122.2835111236436, 8168.527193315605, 2111.914707122125, 1677.6719981371011, 3576.2752748173402, 2832.5817630642973, 7941.483408668605, 2269.7333945949867, 2228.717689543146, 2450.7026041460545, 732.8174592430427, 1222.0539566712564, 2345.8315782789678]}, {\"name\": \"Materials\", \"text\": [\"CMCSA\", \"EFX\", \"EMN\", \"EQR\", \"GOOG\", \"IR\", \"MAS\", \"MSFT\", \"NVDA\", \"SHW\", \"SJM\"], \"y\": [8.177074543650795, 29.413790837301583, 28.79388407539683, 30.61094105555555, 267.54446181349215, 26.781630337301568, 9.994758218253962, 22.555293837301566, 12.607581722222221, 65.60403304365074, 52.11092246428573], \"mode\": \"markers\", \"marker\": {\"sizemode\": \"area\", \"sizeref\": 200000}, \"x\": [2358.3857473563, 6219.669388447211, 969.6716429998844, 2101.820072948115, 2280.488756441033, 1917.481089909032, 596.7970062480765, 3903.603951417691, 2628.610593220999, 874.7979358522907, 1058.8502674546996]}, {\"name\": \"Information Technology\", \"text\": [\"AAPL\", \"AJG\", \"ANTM\", \"ATVI\", \"AVB\", \"AZO\", \"DHI\", \"ES\", \"FL\", \"HAS\", \"HUM\", \"ITW\", \"LEG\", \"LMT\", \"MCD\", \"MMC\", \"MMM\", \"NWL\", \"RTN\", \"SEE\", \"SNA\"], \"y\": [33.665072424603196, 20.030876238095242, 50.8048728253968, 10.464132345238092, 80.35439460317464, 203.03630992063495, 10.801356630952384, 22.409644793650795, 12.595142130952384, 33.88360706746032, 46.99874614682539, 39.836255186507934, 16.643799853174603, 59.07002050793651, 57.20354430952384, 20.205242345238094, 70.57791279761908, 14.262665353174592, 41.68379528571428, 19.17460515079365, 40.602270853174595], \"mode\": \"markers\", \"marker\": {\"sizemode\": \"area\", \"sizeref\": 200000}, \"x\": [2219.7778024080453, 3054.2506809727033, 1861.4924034908036, 1299.0933957162783, 1556.4736802979733, 1065.2300593604555, 2446.2969261301155, 1076.0498749283572, 1976.1011597716333, 826.6460250879156, 779.6562632910025, 2256.446057304231, 1109.6519188251698, 967.6700457595645, 2088.9674292901077, 1309.2835493881425, 867.9367982257036, 1391.6916165428156, 2798.278382284705, 4132.141437214227, 891.9327595839541]}, {\"name\": \"Real Estate\", \"text\": [\"DTE\", \"EXR\", \"F\", \"FIS\", \"HSY\", \"JCI\", \"MNST\", \"PRGO\", \"RAI\", \"UAA\"], \"y\": [35.350797591269846, 11.926435821428573, 10.590786396825404, 23.72634019444446, 38.98717409920633, 16.452039726190478, 7.355641515873011, 56.264686793650775, 10.309097674603175, 4.732127976190479], \"mode\": \"markers\", \"marker\": {\"sizemode\": \"area\", \"sizeref\": 200000}, \"x\": [3234.471449179225, 2195.7130851686775, 1337.1087916227762, 1746.1595047054022, 1004.5268569576457, 1959.1154466578364, 1784.3892067791269, 1000.7750964381526, 4618.663097642413, 3800.737971366104]}, {\"name\": \"Energy\", \"text\": [\"AON\", \"APH\", \"CBS\", \"CMI\", \"CMS\", \"CXO\", \"DRI\", \"FISV\", \"KMX\", \"MA\", \"MAA\", \"SCG\", \"TDG\", \"TSS\", \"VFC\"], \"y\": [37.09914719444442, 21.626513289682535, 14.031183087301601, 65.52589301190477, 12.963671134920636, 60.01646821825399, 33.9325736468254, 25.61799604761904, 24.788611146825396, 22.197558257936517, 42.385241440476186, 29.078248591269862, 35.912599769841265, 13.84014076190477, 17.113708884920644], \"mode\": \"markers\", \"marker\": {\"sizemode\": \"area\", \"sizeref\": 200000}, \"x\": [2699.931289543119, 1968.248355086722, 1697.7647536482075, 6648.787274550316, 1842.685561718298, 2128.435970974857, 1377.4735327160856, 1864.3224012688943, 1925.755984311385, 4186.266899703787, 1890.1093340856469, 1660.926185491334, 5315.2170736182115, 1333.5964026193851, 2178.7878893243983]}, {\"name\": \"Financials\", \"text\": [\"ADP\", \"AMP\", \"AWK\", \"BIIB\", \"BLL\", \"CERN\", \"COST\", \"CVS\", \"EQIX\", \"INTU\", \"JBHT\", \"KLAC\", \"LOW\", \"LUV\", \"MAR\", \"MU\", \"MYL\", \"PNW\", \"STX\", \"SWKS\", \"TJX\", \"TRV\"], \"y\": [31.302776420634935, 38.68244163888892, 18.725741408730148, 56.357857111111116, 26.91173267063492, 20.89291665079366, 50.823228261904745, 29.395966658730156, 82.91318080555551, 36.79494822222222, 32.85001053174602, 21.46071751587301, 20.4216306468254, 11.959597527777776, 29.100653928571457, 8.639603174603181, 19.426587396825393, 29.40991606746032, 11.876109626984126, 17.81517188492063, 19.90352770238094, 43.82773355952387], \"mode\": \"markers\", \"marker\": {\"sizemode\": \"area\", \"sizeref\": 200000}, \"x\": [3026.935298546585, 1069.2912279443474, 1054.1597496479258, 1953.6086877268704, 1653.2369643573363, 1384.3860022315318, 1021.866678161348, 1882.978369414407, 1412.0139281654886, 1240.0336016952658, 764.414393558471, 4026.1020378335693, 1618.5483649010337, 3736.528766411711, 4076.5877226324296, 2779.160044969623, 425.8600075514793, 2800.8842849674775, 1372.9859708644062, 3908.186716713828, 2227.6740663821865, 1887.0157846262366]}], \"name\": \"2010\"}, {\"data\": [{\"name\": \"Telecommunications Services\", \"text\": [\"AYI\", \"CLX\", \"GOOGL\", \"LKQ\"], \"y\": [50.05906854365079, 56.862001519841264, 284.771859095238, 12.842202380952386], \"mode\": \"markers\", \"marker\": {\"sizemode\": \"area\", \"sizeref\": 200000}, \"x\": [1571.1775232365724, 625.2374152246692, 2124.7838358775107, 2037.4724654873369]}, {\"name\": \"Industrials\", \"text\": [\"ABC\", \"AMZN\", \"COO\", \"DHR\", \"DIS\", \"ED\", \"GIS\", \"HSIC\", \"IFF\", \"INCY\", \"LNT\", \"NKE\", \"ORLY\", \"ROK\", \"ROP\", \"SPGI\", \"STZ\", \"TSO\", \"UNH\", \"URI\"], \"y\": [35.5941633373016, 196.6720237698413, 69.54409837301587, 36.24592627380956, 34.961362384920626, 42.655989011904744, 31.723556277777764, 66.87623005952379, 52.79943132539682, 15.708968214285708, 16.128470817460315, 20.141401603174607, 64.00154748412693, 66.90496093650793, 77.66617497222218, 37.02961139682539, 19.760791825396833, 21.223842138888887, 42.42408194444447, 25.122103226190465], \"mode\": \"markers\", \"marker\": {\"sizemode\": \"area\", \"sizeref\": 200000}, \"x\": [2691.3530703358765, 729.212447542411, 2317.7220959998017, 2475.356556006645, 1416.5271639997611, 1853.6408831835588, 1478.6680246032668, 6957.466555651983, 1333.1854084610036, 1910.6058417527363, 1755.1024254468807, 2681.209304275467, 948.2799800875903, 1315.1000324074573, 1583.5532428737195, 617.0777265749597, 1156.4390128650064, 1480.5538431748041, 2643.1609113284426, 1681.4451928350018]}, {\"name\": \"Consumer Discretionary\", \"text\": [\"ACN\", \"ALK\", \"BMY\", \"CHD\", \"CMG\", \"CNC\", \"CTXS\", \"DISCK\", \"DLR\", \"DVA\", \"GPC\", \"GPN\", \"GWW\", \"HBI\", \"HD\", \"LEN\", \"LRCX\", \"MCHP\", \"MCO\", \"MO\", \"NFLX\", \"O\", \"PVH\", \"ROST\", \"SRE\", \"TMO\", \"TSN\", \"TWX\", \"TXN\", \"UAL\", \"ULTA\", \"V\", \"VRTX\", \"WEC\", \"XEL\", \"YUM\"], \"y\": [48.56566343650798, 15.064836039682538, 24.37256883730159, 18.51733126190476, 290.61599089682534, 16.18926592063492, 55.40820790079365, 18.484603178571422, 45.25038264285715, 38.81605149603176, 45.65931818253967, 23.486468325396814, 136.76821704761906, 6.306489456349209, 31.8296568531746, 17.201837678571433, 43.3097183253968, 29.502574940476183, 30.9540456468254, 20.437701579365072, 27.493718817460316, 26.026787063492065, 64.60315716269845, 18.316795750000004, 44.26981729365078, 53.6447967261905, 17.357420142857134, 29.07842714285714, 27.331263888888877, 21.595277876984145, 56.02658692063493, 19.835184428571424, 44.02476197222223, 25.55315543650793, 19.853105587301577, 33.73847794047619], \"mode\": \"markers\", \"marker\": {\"sizemode\": \"area\", \"sizeref\": 200000}, \"x\": [11093.905609237292, 1012.0874624981932, 1445.7644761976, 2713.397390141259, 1250.5538455560084, 1687.7640886828997, 3221.952232804855, 2478.5013713167577, 3438.184333036335, 1411.2869844156264, 4208.894399185143, 3800.3805678270514, 2855.6105315565196, 3906.7059257738083, 2253.2072379483557, 1080.486001760319, 1603.5544595559904, 2153.678470055582, 1942.9769745958195, 1881.8487616981238, 1799.8106161394464, 4784.716864788394, 916.1191005263488, 2365.144463522965, 1409.493182582318, 2694.9637038519395, 1340.1382720582583, 1234.2956348807666, 2016.1630618735906, 3359.33099915813, 3035.7191036376335, 1899.1568722453724, 1285.5364515461895, 4088.2569926675646, 2493.2626677024487, 1120.7606189902306]}, {\"name\": \"Utilities\", \"text\": [\"ALXN\", \"AMGN\", \"DAL\", \"ECL\", \"EL\", \"ESS\", \"FRT\", \"NI\", \"NOC\", \"PM\", \"PSA\", \"SBUX\", \"SIG\", \"SPG\", \"WHR\", \"XLNX\"], \"y\": [53.87799607142859, 49.85243646825396, 8.891842071428572, 48.53467144841269, 46.09368070634922, 110.49869834126986, 72.0255921825397, 6.664436404761902, 51.77692155952383, 53.24142960317465, 97.78624922222221, 17.44020291666667, 40.21040404365079, 89.66290054761902, 61.54950477777781, 28.06748310714287], \"mode\": \"markers\", \"marker\": {\"sizemode\": \"area\", \"sizeref\": 200000}, \"x\": [1019.4569438271831, 1208.9082376194344, 3165.4455038896563, 1405.7342881529528, 1597.227011725048, 1508.0765369402977, 1405.7670334664106, 1426.0895305717481, 1510.841245743996, 1397.8860173348603, 1651.86666897286, 2228.9858182092094, 920.5497839671165, 975.3839292933883, 2140.2058200979063, 1611.8077448471347]}, {\"name\": \"Consumer Staples\", \"text\": [\"CB\", \"CCI\", \"CRM\", \"CTAS\", \"DFS\", \"DISCA\", \"KMB\", \"KR\", \"MCK\", \"PCLN\", \"PPG\", \"RHT\", \"WBA\", \"WYN\"], \"y\": [59.19453907142853, 37.78245650793653, 32.93339287698413, 27.519605087301585, 21.485644119047624, 20.903310246031737, 53.26503357936503, 10.68730944047618, 75.91229777380957, 491.4542070198411, 38.338829865079354, 43.7965080357143, 34.21835233730161, 28.623625710317484], \"mode\": \"markers\", \"marker\": {\"sizemode\": \"area\", \"sizeref\": 200000}, \"x\": [2102.0440732092857, 1481.7072413963392, 3549.774584839804, 3381.1684370938992, 1672.0972241422228, 1313.2710886869293, 3805.241268449494, 1437.4240663174426, 2540.8723192748475, 1758.1074104464342, 2693.28758506644, 934.8745777859596, 1654.0139967930445, 3482.403213709915]}, {\"name\": \"Health Care\", \"text\": [\"AAL\", \"ADI\", \"ADS\", \"AET\", \"AGN\", \"AMT\", \"AN\", \"BF-B\", \"CAH\", \"CELG\", \"CI\", \"CINF\", \"DLTR\", \"DPS\", \"EW\", \"FFIV\", \"HAR\", \"HON\", \"HRL\", \"IDXX\", \"ILMN\", \"IPG\", \"LB\", \"MDLZ\", \"MHK\", \"MKC\", \"MTD\", \"REGN\", \"SWK\", \"TMK\", \"UNP\", \"VRSN\", \"WFM\"], \"y\": [7.261566865079366, 31.22356576190476, 89.49575715476189, 36.585714626984135, 62.14134851587301, 48.84153486507939, 34.759126924603194, 21.89209014285716, 37.71505224206347, 29.59682546428573, 44.60071368650791, 23.97033503174603, 32.81087311507936, 32.47632540476191, 39.564325464285716, 102.18944434523813, 39.28985259523806, 47.464843503968275, 12.737727027777778, 37.77732144047618, 56.36349207936508, 9.134339111111112, 28.049575226190484, 20.029857527777782, 55.4541664920635, 42.69236061507938, 158.70361118650786, 51.10666666666666, 58.94809251984124, 25.932145083333324, 42.794564976190486, 32.52677746031748, 28.706083194444446], \"mode\": \"markers\", \"marker\": {\"sizemode\": \"area\", \"sizeref\": 200000}, \"x\": [2348.481610108087, 1637.6680817649667, 2509.543293048068, 1837.8432623983083, 1940.9169817791615, 1034.8560209647446, 2632.7806080565715, 2722.9653099819466, 1106.7776407353674, 784.5309993167184, 1270.9248600920512, 3574.3287748157964, 1900.2073821659822, 1764.7739187009151, 2423.9673795542003, 1230.3685450940122, 2591.905669579817, 1977.3562396322768, 1257.7603551993166, 1150.610259059934, 2395.5863019642456, 1297.8154722455731, 3693.3684672559593, 2598.528658775229, 1670.928123424462, 2555.5526224965915, 4753.67819159084, 825.7449738901, 2585.28904466105, 2071.664368079022, 1099.6341382911128, 3496.564640574272, 2761.437758136781]}, {\"name\": \"Materials\", \"text\": [\"CMCSA\", \"EFX\", \"EMN\", \"EQR\", \"GOOG\", \"IR\", \"MAS\", \"MSFT\", \"NVDA\", \"SHW\", \"SJM\"], \"y\": [10.63638824999999, 32.51225831349207, 39.483929757936515, 40.58361899603178, 284.20336755555564, 28.98428800793651, 8.973287662698418, 22.2371266904762, 15.69772880555556, 76.52330388095237, 63.98396080158727], \"mode\": \"markers\", \"marker\": {\"sizemode\": \"area\", \"sizeref\": 200000}, \"x\": [1154.3355128343217, 2587.8653027924047, 1402.1143331321462, 1421.9553941165464, 4107.5428100639365, 7837.467753914576, 3395.687624685823, 2765.9860426037562, 1685.6010185244888, 3880.024443549252, 3680.9472987089907]}, {\"name\": \"Information Technology\", \"text\": [\"AAPL\", \"AJG\", \"ANTM\", \"ATVI\", \"AVB\", \"AZO\", \"DHI\", \"ES\", \"FL\", \"HAS\", \"HUM\", \"ITW\", \"LEG\", \"LMT\", \"MCD\", \"MMC\", \"MMM\", \"NWL\", \"RCL\", \"RTN\", \"SEE\", \"SNA\", \"TSCO\"], \"y\": [47.16023692063492, 23.950185007936504, 61.89416774206346, 11.056136619047628, 104.67266939285709, 293.6036511825395, 10.74680948015874, 27.95870194047621, 18.98261940873017, 34.51941803571427, 70.27621400000002, 44.80665232539681, 18.545939460317467, 62.67607810714287, 69.86916882539686, 25.727635373015893, 74.90459967063492, 14.397020587301581, 31.02385938492062, 39.83346123412697, 19.85917989285716, 50.100314916666655, 29.529058392857145], \"mode\": \"markers\", \"marker\": {\"sizemode\": \"area\", \"sizeref\": 200000}, \"x\": [11.20267825120404, 1147.0372463195972, 1574.7239617010835, 2055.812510752155, 1206.8054379556652, 1105.6106909758064, 2214.9517175575434, 2276.817954953799, 1717.2063414300621, 2627.24862117393, 1107.4694090869923, 2916.1643104794844, 2092.599583263128, 1160.372819125422, 1036.4901855598562, 773.2666227384121, 1270.5096777552862, 2631.022720455974, 3957.143480316265, 781.8133683029108, 1712.3598308989235, 926.8903892320783, 1785.451012338428]}, {\"name\": \"Real Estate\", \"text\": [\"DTE\", \"EXR\", \"F\", \"FIS\", \"HSY\", \"JCI\", \"MNST\", \"PRGO\", \"UAA\"], \"y\": [40.07529040079364, 17.39407763095239, 10.8056614563492, 26.351529337301606, 48.88298057936514, 20.18453290476189, 12.436746011904757, 84.55085197619047, 8.78029265873016], \"mode\": \"markers\", \"marker\": {\"sizemode\": \"area\", \"sizeref\": 200000}, \"x\": [1431.4231457616654, 1511.4116181123788, 2372.699721467925, 4521.030136159622, 1450.7964424619731, 645.1913091454545, 689.2306499923584, 830.4509675614867, 2953.45714832366]}, {\"name\": \"Energy\", \"text\": [\"AON\", \"APH\", \"CBS\", \"CMI\", \"CMS\", \"CXO\", \"DRI\", \"FISV\", \"KMX\", \"MA\", \"MAA\", \"NEE\", \"OKE\", \"SCG\", \"TDG\", \"TSS\", \"VFC\"], \"y\": [45.194042174603176, 23.89628402380953, 22.88917326190475, 87.77758688492068, 16.09550107142857, 93.22654744444444, 38.30535744444442, 29.640773785714288, 30.589603206349217, 28.97428409126982, 50.982577873015856, 45.978327420634905, 23.797403666666654, 32.136074611111106, 53.844844853174614, 16.96372719047618, 24.308000305555534], \"mode\": \"markers\", \"marker\": {\"sizemode\": \"area\", \"sizeref\": 200000}, \"x\": [1826.141413011999, 1552.920699331649, 2942.364749221333, 1889.3912263872737, 6011.19695974844, 2401.1877021491637, 618.5922317701292, 1691.4311353745047, 2083.4887561072646, 3045.3337320698597, 5104.511037945548, 2541.822711837452, 1947.2960495933598, 1611.231289989513, 2064.7621793182034, 2052.4814636751676, 3739.5679234329004]}, {\"name\": \"Financials\", \"text\": [\"ADP\", \"AME\", \"AMP\", \"AWK\", \"BIIB\", \"BLL\", \"CERN\", \"COST\", \"CVS\", \"EQIX\", \"INTU\", \"JBHT\", \"KLAC\", \"LOW\", \"LUV\", \"MAR\", \"MU\", \"MYL\", \"PNW\", \"STX\", \"SWKS\", \"TJX\", \"TRV\"], \"y\": [38.508581750000005, 26.38175723412699, 46.37156962698416, 24.998736817460316, 91.97591267063494, 34.15518389682538, 29.39186506746033, 66.77856980555555, 32.907605246031736, 85.35705731746035, 47.5443364404762, 40.63578907142856, 28.951571912698434, 21.25216485714285, 9.970341880952374, 29.509402444444422, 8.1475, 21.479365083333338, 34.91276187301589, 11.261629690476187, 23.897008579365075, 25.17821277777778, 48.991894119047615], \"mode\": \"markers\", \"marker\": {\"sizemode\": \"area\", \"sizeref\": 200000}, \"x\": [2235.135200626433, 2214.245276128447, 4210.683078091604, 3056.009367454271, 1206.382826390331, 2428.500255726462, 3146.19662046147, 1861.818960390575, 1111.7928464121962, 1620.020331050161, 915.4513588805199, 1554.99604450066, 1476.1586786129885, 2873.8625078952045, 1132.135571555347, 2958.7574478014644, 7789.971677108892, 984.1995780957283, 1869.8402019831483, 712.3970268112605, 2089.230035888136, 1784.4405774928944, 1337.9392173063577]}], \"name\": \"2011\"}, {\"data\": [{\"name\": \"Telecommunications Services\", \"text\": [\"AYI\", \"CLX\", \"LKQ\"], \"y\": [27.92364720238093, 44.06769759126981, 8.095972222222224], \"mode\": \"markers\", \"marker\": {\"sizemode\": \"area\", \"sizeref\": 200000}, \"x\": [1062.2071958822944, 1191.6142179600092, 2688.0542617822493]}, {\"name\": \"Industrials\", \"text\": [\"ABC\", \"AMZN\", \"COO\", \"DHR\", \"DIS\", \"ED\", \"EXPE\", \"GIS\", \"HSIC\", \"IFF\", \"INCY\", \"LNT\", \"NKE\", \"ORLY\", \"PXD\", \"ROK\", \"ROP\", \"SPGI\", \"STZ\", \"TSO\", \"UNH\", \"URI\"], \"y\": [17.88303610714285, 87.28182536904761, 27.09302335714288, 22.88884304365079, 22.050827896825396, 28.129618353174603, 23.598908809523795, 23.22606555952381, 46.41420619444441, 29.298905809523824, 4.765634920634919, 9.67043925793651, 12.337236515873013, 36.187460226190474, 28.16363850793651, 29.259213476190464, 44.57383046031745, 23.971622773809532, 13.885139583333334, 12.994330666666666, 23.50494698809524, 7.244880952380954], \"mode\": \"markers\", \"marker\": {\"sizemode\": \"area\", \"sizeref\": 200000}, \"x\": [11921.273118999405, 1929.1343975497207, 2430.7100993951517, 1194.257755805499, 3084.6337026242, 6345.32095452019, 2038.8281531544628, 2647.748744253958, 1572.747570538553, 3097.3301995556376, 811.474994480216, 1838.911643267841, 1465.9595156713237, 1589.6154821064058, 1732.9499347039648, 2373.8243539680993, 1257.905162095059, 2185.0907140371605, 3022.302549119247, 1519.124121077042, 1225.1865747130691, 2275.6541009787907]}, {\"name\": \"Consumer Discretionary\", \"text\": [\"ACN\", \"ALK\", \"BMY\", \"CHD\", \"CMG\", \"CNC\", \"CTXS\", \"DISCK\", \"DLR\", \"DVA\", \"GILD\", \"GPC\", \"GPN\", \"GWW\", \"HBI\", \"HD\", \"LEN\", \"LRCX\", \"MCHP\", \"MCO\", \"NFLX\", \"PVH\", \"ROST\", \"SRE\", \"TMO\", \"TSN\", \"TWX\", \"TXN\", \"UHS\", \"ULTA\", \"V\", \"VRTX\", \"WEC\", \"XEL\"], \"y\": [28.800130964285703, 5.634364301587301, 16.555912825396828, 12.14815509920635, 77.63825362301588, 9.377976190476195, 25.262496492063498, 10.410238095238093, 27.726833749999997, 25.405615047619047, 22.270490087301596, 27.091013666666665, 19.932682853174608, 72.9373880515873, 3.9829207619047633, 20.70613983333333, 10.366732499999992, 27.523540623015865, 17.75232411507937, 21.764685198412703, 6.322035158730163, 30.727711833333345, 9.249307674603175, 38.17711347222222, 39.95145084920639, 10.519668416666669, 19.93891423412699, 17.271345940476188, 24.729022111111114, 11.10612572619048, 15.571006198412702, 33.677658793650764, 16.531575813492065, 13.97941042063493], \"mode\": \"markers\", \"marker\": {\"sizemode\": \"area\", \"sizeref\": 200000}, \"x\": [1899.969715715206, 2290.7736788297198, 796.4586797640092, 3229.077341314462, 6887.508073339549, 1754.08921331099, 1634.186851821623, 3719.263239892956, 911.716504252821, 1078.4759234495305, 10847.168857458715, 2654.1518837892872, 2647.8765076944205, 3986.3868053545384, 1551.6407086980184, 1608.0607960551504, 2245.3333439373373, 1266.6801377729782, 1956.5763141303416, 1975.950042746165, 1631.9565382868327, 1687.584448210302, 1337.127488549585, 2960.3783676018647, 3357.982080177566, 2455.6206986977886, 2539.3102269260894, 1224.231213248569, 3135.749005484467, 1955.2766418161257, 5142.950291264023, 1561.816783962404, 2798.898805567919, 1963.8306832262685]}, {\"name\": \"Utilities\", \"text\": [\"ADBE\", \"ALXN\", \"AMGN\", \"DAL\", \"ECL\", \"EL\", \"ESS\", \"FRT\", \"NI\", \"NOC\", \"PM\", \"PSA\", \"SBUX\", \"SIG\", \"SPG\", \"WHR\", \"XLNX\"], \"y\": [28.626071293650806, 20.18188497619047, 48.71868700396827, 7.213359515873016, 36.165092047619005, 15.801223146825393, 54.27385889285713, 44.46732920634923, 3.524310555555554, 35.48431082936508, 31.573747821428572, 53.79045127380957, 7.091747837301584, 18.088088710317468, 41.49900534126984, 43.733524980158734, 17.226612615079365], \"mode\": \"markers\", \"marker\": {\"sizemode\": \"area\", \"sizeref\": 200000}, \"x\": [4362.584060226196, 2434.4705431359866, 1305.4973813449083, 895.0190651511995, 2831.259254864162, 1198.6604626673497, 1317.2239628301515, 2321.208121400824, 3394.6739329589686, 3802.9958950513974, 1204.2719924278035, 1019.562425593715, 1663.898296075376, 1223.4512399388611, 906.1069263087894, 9797.037048038295, 1760.9427714847648]}, {\"name\": \"Consumer Staples\", \"text\": [\"CB\", \"CTSH\", \"DFS\", \"DISCA\", \"KMB\", \"KR\", \"MCK\", \"PCLN\", \"PPG\", \"RHT\", \"WBA\", \"WYN\"], \"y\": [40.62142470634924, 15.146924630952391, 9.961499789682543, 11.70057024206349, 40.47196592857145, 9.68465116666667, 45.97418466269842, 129.41154773015873, 20.717033071428563, 21.304404785714286, 26.950075591269847, 10.585533932539683], \"mode\": \"markers\", \"marker\": {\"sizemode\": \"area\", \"sizeref\": 200000}, \"x\": [1832.6628644142857, 1232.0364803401274, 2942.9071982952128, 2481.871893397823, 3159.498214630603, 4724.8539911932985, 3088.889973735107, 2066.9345064535196, 860.5675960095101, 5891.445675117198, 4294.946550658794, 2537.2799771684013]}, {\"name\": \"Health Care\", \"text\": [\"AAL\", \"AAP\", \"ADI\", \"ADS\", \"AET\", \"AGN\", \"AMT\", \"AN\", \"BF-B\", \"CAG\", \"CAH\", \"CELG\", \"CI\", \"DPS\", \"EW\", \"FFIV\", \"HAR\", \"HON\", \"HRL\", \"IDXX\", \"ILMN\", \"IPG\", \"LB\", \"MDLZ\", \"MHK\", \"MKC\", \"MTD\", \"REGN\", \"SWK\", \"TMK\", \"UNP\", \"VRSN\", \"WFM\"], \"y\": [3.7278551349206346, 39.20816403571428, 19.72826896825395, 48.27367112698412, 25.295726579365077, 32.379969464285715, 30.607935293650794, 16.09234124206349, 13.318192373015874, 11.771609575396827, 22.12381567857142, 24.738591297619045, 24.507948726190474, 18.363991472222228, 16.65743055555555, 33.88432551190478, 22.202268559523798, 28.44159138095236, 7.500581186507936, 21.97222225396826, 34.59638895238096, 4.787590944444444, 8.125046265873015, 14.260825178571427, 40.328134932539676, 27.48535960714286, 77.84083344047625, 17.717182547619043, 31.988812496031777, 15.151357698412692, 22.68025811904763, 17.878336769841276, 10.03497881349206], \"mode\": \"markers\", \"marker\": {\"sizemode\": \"area\", \"sizeref\": 200000}, \"x\": [11.20267825120404, 2233.088650420068, 2208.5582994127103, 2446.096907190122, 2116.3239317569, 2626.7013383015055, 2884.2499919169654, 1921.1480735838454, 1381.2454122598522, 7175.745827062381, 2407.018672318287, 1425.3282829880682, 1386.775264749352, 1449.3931406593852, 1218.3067875422137, 1891.7631609540497, 1016.0923436349921, 2289.552617975003, 6213.745834968413, 2875.89213211406, 916.1470388673408, 1949.3769863524692, 1310.7699482147343, 1693.6104244604985, 2719.9152356073323, 1157.4129608332378, 2572.0252504376563, 2162.970381909071, 3497.972371858548, 1678.2078971425876, 3523.145971952133, 2235.3934173113084, 1399.8052585644768]}, {\"name\": \"Materials\", \"text\": [\"CMCSA\", \"EFX\", \"EMN\", \"EQR\", \"GOOG\", \"IR\", \"MAS\", \"MSFT\", \"NVDA\", \"SHW\", \"SJM\"], \"y\": [6.485406440476191, 24.315374063492058, 17.962145503968255, 16.94913018650793, 219.62491887301584, 17.683761896825413, 8.194426023809523, 18.795685674603167, 11.015920257936509, 50.192498265873006, 39.5000528373016], \"mode\": \"markers\", \"marker\": {\"sizemode\": \"area\", \"sizeref\": 200000}, \"x\": [1299.6283046158737, 1405.0329036422813, 1669.699145982664, 2629.3402516087867, 3982.49642533145, 2828.7685918137145, 1789.30908009963, 3438.146245169714, 1786.3179297179283, 3749.7942800715273, 1306.5808706041014]}, {\"name\": \"Information Technology\", \"text\": [\"AAPL\", \"AJG\", \"ANTM\", \"ATVI\", \"AVB\", \"AZO\", \"DHI\", \"ES\", \"FL\", \"HAS\", \"HUM\", \"ITW\", \"LEG\", \"LMT\", \"MCD\", \"MMC\", \"MMM\", \"NWL\", \"RCL\", \"RTN\", \"SEE\", \"SNA\", \"TSCO\"], \"y\": [19.0211723452381, 15.962402230158741, 42.33530167460317, 10.258994317460328, 47.74744228174601, 150.3861110039683, 9.48449488492063, 17.444052059523816, 8.474808019841268, 21.19901673015872, 32.4557923015873, 32.168871246031735, 11.99150461111112, 57.61749341269839, 44.77571969444441, 17.559111841269843, 52.55996646825394, 9.865265916666669, 14.406894777777778, 36.969345365079334, 15.44327331746032, 28.456040428571423, 9.934222107142862], \"mode\": \"markers\", \"marker\": {\"sizemode\": \"area\", \"sizeref\": 200000}, \"x\": [3002.8776542425444, 1950.6481421833037, 2918.0910127564835, 1759.440071465739, 3996.8858413233957, 4379.5840836809775, 1164.7044104133734, 2452.1245242727136, 1883.7673330534653, 3946.7247321179, 3930.2853404228626, 1333.3711304166486, 1717.1350493708344, 2252.68534639023, 2521.9474712251736, 898.4927855660754, 776.9979367094829, 2463.9267279354963, 1056.338953237541, 1653.29397034555, 955.3921741092536, 3242.126849451839, 1845.3411952763984]}, {\"name\": \"Real Estate\", \"text\": [\"DTE\", \"EXR\", \"F\", \"FIS\", \"HSY\", \"JCI\", \"MNST\", \"PRGO\", \"UAA\"], \"y\": [24.727946412698394, 6.881737873015872, 4.722506777777778, 18.59136824603175, 30.42568772222222, 11.992391928571438, 5.818611103174605, 28.69627690873016, 2.8805059523809553], \"mode\": \"markers\", \"marker\": {\"sizemode\": \"area\", \"sizeref\": 200000}, \"x\": [1444.697749462353, 1640.4675340154495, 1463.0946762756098, 1589.0329743749164, 932.9250807804485, 2235.6072290408447, 2168.3196075843894, 1887.8372189040467, 2601.0227689208036]}, {\"name\": \"Energy\", \"text\": [\"AON\", \"APH\", \"CBS\", \"CMI\", \"CMS\", \"CXO\", \"DRI\", \"FISV\", \"KMX\", \"MAA\", \"NEE\", \"SCG\", \"TDG\", \"TSS\", \"VFC\"], \"y\": [35.863213861111156, 16.207222678571434, 8.032277095238097, 31.35260152380953, 9.490691337301586, 31.442142896825395, 24.901396194444434, 21.39392852777778, 15.06035704761905, 27.686901626984135, 40.740390313492085, 23.71762893253967, 21.892032749999995, 13.145726246031732, 13.22460194444444], \"mode\": \"markers\", \"marker\": {\"sizemode\": \"area\", \"sizeref\": 200000}, \"x\": [1717.09310468557, 2537.112469430491, 2470.790953623543, 2432.0928018530453, 761.7739843120157, 3560.0882256768828, 4256.731270718309, 1365.5878436520145, 1677.0176192390154, 3563.652820993009, 2015.6317690916237, 1891.4195349374124, 1246.0238347741977, 2164.284221278756, 5627.106307581668]}, {\"name\": \"Financials\", \"text\": [\"ADP\", \"AME\", \"AMP\", \"AWK\", \"BIIB\", \"BLL\", \"CERN\", \"COST\", \"CVS\", \"EQIX\", \"INTU\", \"JBHT\", \"LOW\", \"LUV\", \"MAR\", \"MU\", \"MYL\", \"PNW\", \"STX\", \"SWKS\", \"TJX\"], \"y\": [27.22939273809524, 14.127146686507933, 23.478428440476197, 15.667411357142853, 48.94313492063491, 21.255162138888874, 14.844831337301581, 41.80246335317459, 28.142554861111133, 68.35266981349208, 25.605700329365096, 26.135260567460307, 17.6493355, 7.634080380952378, 18.884664349206354, 5.860277777777778, 14.25273812301587, 22.248345678571415, 7.939903837301587, 9.638054353174612, 14.233536345238093], \"mode\": \"markers\", \"marker\": {\"sizemode\": \"area\", \"sizeref\": 200000}, \"x\": [2260.6608985897683, 1381.368943740288, 929.537135199173, 979.3632764120094, 1211.2652443059249, 3670.1370481742165, 2379.5294319382388, 811.8993506313178, 3164.5836507413865, 2327.376494941536, 1378.0022058636478, 1976.3226433141401, 2907.033206465324, 1717.1224545178843, 781.8039781923985, 1225.91964184198, 4827.198282023254, 2908.321053323781, 3664.484523830988, 1586.2568248192706, 3199.17114761715]}], \"name\": \"2009\"}, {\"data\": [{\"name\": \"Telecommunications Services\", \"text\": [\"AYI\", \"CLX\", \"GOOGL\", \"LKQ\"], \"y\": [38.69099851383398, 43.84247213438733, 232.65866976284588, 8.860810276679832], \"mode\": \"markers\", \"marker\": {\"sizemode\": \"area\", \"sizeref\": 200000}, \"x\": [3853.151730839257, 2663.015468111143, 3562.3740807092527, 1138.788274956265]}, {\"name\": \"Industrials\", \"text\": [\"AMZN\", \"COO\", \"DHR\", \"DIS\", \"ED\", \"EXPE\", \"GIS\", \"HSIC\", \"IFF\", \"INCY\", \"LNT\", \"NKE\", \"ORLY\", \"PXD\", \"ROK\", \"ROP\", \"SPGI\", \"STZ\", \"TSO\", \"UNH\", \"URI\"], \"y\": [69.88003967984191, 31.38805953359683, 26.541931913043488, 26.307677762845856, 27.74199802766798, 25.351091359683796, 23.79899894466406, 52.47632414229245, 32.947869778656134, 8.399723320158108, 11.936160090909098, 13.265100316205531, 26.864505916996045, 48.52776564426876, 37.01072553359686, 52.44890935573123, 30.110689723320156, 18.507410482213437, 19.33209582608694, 28.899648264822126, 15.786996027667996], \"mode\": \"markers\", \"marker\": {\"sizemode\": \"area\", \"sizeref\": 200000}, \"x\": [2135.6036996726093, 1244.2061773909127, 3147.323663854623, 2593.9024730173824, 1392.0525409192865, 1637.640981469908, 4332.114199641462, 1197.9254135557387, 1035.539614157816, 1546.3188469020822, 1823.970823565276, 2605.007415798204, 6488.555811714895, 1581.5256305726134, 1417.6423672502613, 1312.2817529819906, 1956.42298828523, 2759.579076569812, 2351.3361771941118, 587.365660361867, 2126.0743389782165]}, {\"name\": \"Consumer Discretionary\", \"text\": [\"ACN\", \"ALK\", \"BMY\", \"CMG\", \"CNC\", \"CTXS\", \"DISCK\", \"DVA\", \"GILD\", \"GPC\", \"GPN\", \"GWW\", \"HBI\", \"HD\", \"LEN\", \"LRCX\", \"MCHP\", \"MCO\", \"MO\", \"NFLX\", \"ROST\", \"SRE\", \"TMO\", \"TSN\", \"TWX\", \"TXN\", \"UAL\", \"UHS\", \"ULTA\", \"V\", \"VRTX\", \"WEC\", \"XEL\", \"YUM\"], \"y\": [29.800268501976312, 5.114331474308304, 15.550285169960475, 82.2162450355731, 9.845217391304349, 23.544949162055335, 6.503698630136987, 26.037826086956503, 23.753159415019752, 30.40067369960475, 20.684709415019746, 69.15634457312254, 5.720028260869563, 20.382610138339935, 12.909375818181815, 32.308234169960485, 20.960030482213426, 29.079993648221368, 12.884024193675902, 4.094669656126481, 7.385891798418969, 40.114764671936776, 50.3312142490119, 12.414164976284585, 27.521949011857696, 20.58570218577076, 15.963185909090921, 25.56226181027668, 12.014223928853763, 15.814527670000002, 25.93292491304347, 16.77952767193676, 14.017569853754948, 20.747452703557304], \"mode\": \"markers\", \"marker\": {\"sizemode\": \"area\", \"sizeref\": 200000}, \"x\": [4039.3803089870617, 975.4506407651645, 1448.0405187264332, 2517.871301184408, 1852.7417990408278, 3283.2552775243207, 2236.2599352543334, 1767.5435713667264, 3125.1095158675653, 3553.9454220965617, 1106.6666468244518, 2091.4345361431547, 3055.185056788753, 1925.654552235539, 1658.0163394303995, 3921.9994699001722, 3177.063177650487, 1580.645537812173, 4033.4672066982125, 2939.7341978740524, 890.7280408114179, 934.5536441713724, 1435.7073974961947, 1751.2922388707298, 1023.1297407480452, 3075.646402061497, 3303.0736673852603, 1573.0215630895414, 1138.453635350117, 2623.760238009804, 2038.94066892183, 2311.1661413248344, 1186.4152003695772, 5811.508175398816]}, {\"name\": \"Utilities\", \"text\": [\"ADBE\", \"AMGN\", \"DAL\", \"ECL\", \"EL\", \"ESS\", \"FRT\", \"NI\", \"PM\", \"PSA\", \"SBUX\", \"SIG\", \"SPG\", \"WHR\", \"XLNX\"], \"y\": [35.326837920948634, 45.37061718181816, 9.066193189723315, 39.17981459288538, 19.19205403557313, 77.88019919762851, 54.52477470355732, 4.380159877470356, 33.795417113861404, 62.2294202806324, 6.860431422924899, 18.964019826086957, 59.74142971541502, 56.735170596838, 18.163376308300396], \"mode\": \"markers\", \"marker\": {\"sizemode\": \"area\", \"sizeref\": 200000}, \"x\": [1939.2801525002578, 976.3692118991995, 1744.9420978649077, 6283.659591799404, 1505.8190160477152, 2377.847866098313, 3545.466904812754, 1505.4848338592578, 1316.8464545953098, 2409.17966127813, 1788.742133168538, 1432.7376431678613, 2284.0851690093646, 2826.218440237194, 2445.426399767501]}, {\"name\": \"Consumer Staples\", \"text\": [\"CB\", \"CCI\", \"CTAS\", \"CTSH\", \"DFS\", \"DISCA\", \"KMB\", \"MCK\", \"PCLN\", \"PPG\", \"RHT\", \"WBA\", \"WYN\"], \"y\": [46.39005453754937, 29.01591069565217, 23.841067118577076, 13.494802355731231, 12.649031671936756, 10.11385102371542, 42.913944616600794, 48.68421006324112, 99.08553335177872, 23.660878798418956, 18.077826110671936, 27.291403134387355, 14.12799574308301], \"mode\": \"markers\", \"marker\": {\"sizemode\": \"area\", \"sizeref\": 200000}, \"x\": [2932.0093880107884, 2828.0025493221065, 4302.200512413602, 1263.3711724460034, 2482.066667257643, 3850.5683067029186, 2181.572392281952, 1894.5238328824696, 1609.2076954559423, 975.0597427728644, 1338.0689289038976, 1148.381400884407, 1620.412039533653]}, {\"name\": \"Health Care\", \"text\": [\"AAL\", \"AAP\", \"ADI\", \"ADS\", \"AET\", \"AGN\", \"AMT\", \"AN\", \"BF-B\", \"CAG\", \"CAH\", \"CELG\", \"CINF\", \"DLTR\", \"DPS\", \"FFIV\", \"HAR\", \"HON\", \"HRL\", \"IDXX\", \"ILMN\", \"IPG\", \"LB\", \"MDLZ\", \"MHK\", \"MTD\", \"REGN\", \"SWK\", \"TMK\", \"UNP\", \"WFM\"], \"y\": [7.53635696837945, 34.52649335177864, 21.253431027667986, 54.433008833992126, 36.809280458498016, 27.217241367588937, 34.35913285375494, 12.10130436363636, 15.371113023715415, 12.109179533596848, 30.11863785375493, 30.51956524110672, 21.336166608695677, 11.273083000000003, 17.857801825301213, 25.243596936758905, 33.09758443478261, 38.76984159288535, 7.666749450592888, 24.455711407114645, 35.79138339920949, 6.593683687747033, 9.299737905138334, 15.928418640316195, 63.364980316205575, 94.29640341106717, 18.979446640316215, 35.04112189328063, 22.385099620553348, 27.66766586166006, 11.079802541501985], \"mode\": \"markers\", \"marker\": {\"sizemode\": \"area\", \"sizeref\": 200000}, \"x\": [2113.69073838852, 2819.931249687557, 2797.3123747159757, 1920.5340372256599, 2589.444291567292, 1974.5721505849344, 1742.98549017837, 3155.5263650168104, 2448.717499284952, 2186.309902127851, 2476.0158613091608, 2490.093970955659, 1905.0138754383518, 1134.4131877902387, 3105.6315671421876, 1460.1490259098941, 4101.409378894118, 2496.9575162474557, 1681.3422785701637, 3285.823544202635, 906.1659665278103, 2451.6426694475945, 1941.135725583953, 2123.9016226668314, 2984.264662043655, 1308.6059021396109, 1062.4950127760192, 1476.451519999587, 3716.432476950338, 1932.9476354171684, 7132.121349269897]}, {\"name\": \"Materials\", \"text\": [\"CMCSA\", \"EFX\", \"EMN\", \"EQR\", \"IR\", \"MAS\", \"MSFT\", \"NVDA\", \"SHW\", \"SJM\"], \"y\": [8.114358956521741, 29.528021802371537, 23.254926288537554, 23.958781869565197, 23.592882213438745, 11.864587648221345, 21.264944055335953, 14.822165272727275, 47.84619030434782, 36.204790205533584], \"mode\": \"markers\", \"marker\": {\"sizemode\": \"area\", \"sizeref\": 200000}, \"x\": [2019.9563647304412, 1574.413373404752, 2019.8189955299354, 1065.6924487191025, 2609.9057272511473, 2139.3696201314774, 5400.937629035098, 2753.7679540338963, 1227.5703050151305, 391.959705922935]}, {\"name\": \"Information Technology\", \"text\": [\"AAPL\", \"AJG\", \"ANTM\", \"ATVI\", \"AVB\", \"AZO\", \"DHI\", \"ES\", \"FL\", \"HAS\", \"HUM\", \"ITW\", \"LEG\", \"LMT\", \"MCD\", \"MMC\", \"MMM\", \"NWL\", \"RCL\", \"RTN\", \"SEE\", \"SNA\", \"TSCO\"], \"y\": [18.394736992094874, 17.417338565217392, 46.83392262450595, 13.107323573122535, 63.386444217391315, 120.52608713833996, 10.661876335968381, 18.6758805770751, 9.795670177865608, 24.542666924901187, 44.874237612648216, 36.31636128458496, 12.081488581027667, 73.67151511462446, 43.81770343873518, 21.488999715415023, 56.735571743082964, 15.186021288537559, 23.27104986956522, 45.654816209486164, 18.124552130434783, 40.88437870750993, 8.643384019762847], \"mode\": \"markers\", \"marker\": {\"sizemode\": \"area\", \"sizeref\": 200000}, \"x\": [1244.0976856273783, 1279.8029739666622, 1848.2710647666795, 2807.9630556221946, 3202.7681332583256, 843.522400132736, 1225.0994958384226, 1258.223542226674, 3548.6519179517463, 991.2199534146953, 1346.3685603857723, 1012.1327226314461, 2433.3313750962216, 2532.4687606593325, 1949.369209822894, 882.782611031686, 2178.4186707651816, 4497.46749115456, 2620.3750146479615, 1360.2265272863917, 3604.4199919350226, 1243.7038270770763, 2164.099279538627]}, {\"name\": \"Real Estate\", \"text\": [\"DTE\", \"EXR\", \"F\", \"FIS\", \"HSY\", \"JCI\", \"PRGO\", \"RAI\"], \"y\": [27.70803269169962, 10.280861664031615, 4.164018047430829, 17.747090960474317, 29.378645782608697, 15.408136138339907, 33.404887774703575, 8.309296505928845], \"mode\": \"markers\", \"marker\": {\"sizemode\": \"area\", \"sizeref\": 200000}, \"x\": [1698.5646114088315, 1435.8048520333568, 936.0382411700957, 1674.878203347166, 3140.664502583261, 1622.7433707862835, 1625.9531713475083, 1122.3051165808508]}, {\"name\": \"Energy\", \"text\": [\"AON\", \"APH\", \"CMI\", \"CMS\", \"CXO\", \"DRI\", \"FISV\", \"MA\", \"MAA\", \"NEE\", \"OKE\", \"SCG\", \"TDG\", \"TSS\", \"VFC\"], \"y\": [39.63751680237154, 18.603556249011852, 42.57841575098813, 9.693779438735167, 26.44003955335969, 21.359691636363635, 23.212747019762837, 20.496142798418973, 32.08972032411064, 43.598286616600824, 12.525779814229239, 25.471405806324118, 19.19113496442687, 17.705504130434775, 14.038338308300395], \"mode\": \"markers\", \"marker\": {\"sizemode\": \"area\", \"sizeref\": 200000}, \"x\": [2261.3477565136523, 1467.3783457193874, 856.0459242972476, 1899.0229441195518, 3935.98423990225, 1859.6030474205788, 1425.6817244555814, 3114.413134117, 6214.648321099168, 1847.2918967447067, 1250.6671737303416, 5449.3705623394435, 1171.5507779419731, 2826.154526404143, 1204.557222703346]}, {\"name\": \"Financials\", \"text\": [\"ADP\", \"AME\", \"AMP\", \"AWK\", \"BIIB\", \"BLL\", \"CERN\", \"COST\", \"CVS\", \"EQIX\", \"INTU\", \"JBHT\", \"KLAC\", \"LOW\", \"LUV\", \"MAR\", \"MU\", \"MYL\", \"PNW\", \"STX\", \"SWKS\", \"TJX\", \"TRV\"], \"y\": [28.02074515415023, 17.911955889328073, 33.389981225296445, 16.045950607954556, 55.427351837944684, 20.393064735177845, 10.936808300395256, 52.094219699604736, 32.35273071541502, 66.59866428458503, 25.875448648221344, 28.1458230513834, 22.235061719367582, 19.301809276679865, 12.077302932806322, 23.411571865612647, 5.585691699604742, 11.710197628458499, 22.733945363636366, 11.734826774703565, 7.711734719367586, 13.443963308300402, 36.044315660079036], \"mode\": \"markers\", \"marker\": {\"sizemode\": \"area\", \"sizeref\": 200000}, \"x\": [2801.9221945281997, 4949.539284664259, 3298.5457928951187, 1093.0549711521714, 2366.302297100863, 818.5647325311991, 3221.4773327673124, 4343.125183970221, 2244.134295263513, 2820.6219704872287, 8467.75709835136, 1927.2811544300805, 2040.1337823295735, 1209.0707894548786, 1259.7477631960576, 1386.089560156451, 652.9171390872152, 1607.5812238591081, 952.8903399657277, 2443.508460561973, 925.3564637372115, 1738.6418533070998, 1810.71667073015]}], \"name\": \"2008\"}, {\"data\": [{\"name\": \"Telecommunications Services\", \"text\": [\"AYI\", \"CLX\", \"GOOGL\", \"LKQ\"], \"y\": [127.2459827539682, 85.68083875793647, 568.1223680158729, 27.602023753968243], \"mode\": \"markers\", \"marker\": {\"sizemode\": \"area\", \"sizeref\": 200000}, \"x\": [3017.115659825109, 1186.8753160602068, 5622.880905953787, 1660.1651763298773]}, {\"name\": \"Industrials\", \"text\": [\"ABC\", \"AMZN\", \"COO\", \"DHR\", \"DIS\", \"ED\", \"EXPE\", \"GIS\", \"HSIC\", \"IFF\", \"INCY\", \"LNT\", \"NKE\", \"ORLY\", \"PXD\", \"ROK\", \"ROP\", \"SPGI\", \"STZ\", \"TSO\", \"UNH\", \"URI\"], \"y\": [71.82206292460317, 332.55103267857135, 144.686546297619, 57.737704126984106, 81.25072810317462, 51.64115641666666, 76.7910467579366, 47.76473491269835, 119.60980156349213, 92.60050590873011, 57.11432544841269, 26.30484111904761, 39.169653095238075, 155.17317454761908, 191.217573968254, 109.83610438888894, 141.71142615873012, 78.88468294841265, 83.55660592460313, 56.40890904365078, 79.68632184523808, 100.74011903571432], \"mode\": \"markers\", \"marker\": {\"sizemode\": \"area\", \"sizeref\": 200000}, \"x\": [2218.003567814945, 1167.5438878940397, 1529.1635850494447, 3596.872925371404, 2108.106424830753, 1032.8474279988354, 1972.6945555568934, 1387.420668402742, 1680.6538079635027, 670.585505834208, 1046.1023653209847, 986.0430783596386, 1597.4738242135984, 1430.572645914249, 1059.5049757555619, 690.8055454230963, 955.5389902587764, 799.993303543402, 1168.4343750886865, 805.4647184690417, 1386.2953085615209, 948.7546139336122]}, {\"name\": \"Consumer Discretionary\", \"text\": [\"ACN\", \"ALK\", \"BMY\", \"CHD\", \"CMG\", \"CNC\", \"CTXS\", \"DISCK\", \"DLR\", \"DVA\", \"GILD\", \"GPC\", \"GPN\", \"GWW\", \"HBI\", \"HD\", \"LEN\", \"LRCX\", \"MCHP\", \"MCO\", \"MO\", \"NFLX\", \"O\", \"PVH\", \"ROST\", \"SRE\", \"TMO\", \"TSN\", \"TWX\", \"TXN\", \"UAL\", \"UHS\", \"ULTA\", \"V\", \"VRTX\", \"WEC\", \"XEL\", \"YUM\"], \"y\": [77.04580076587304, 45.47743361904761, 48.953396829365076, 33.18171694841269, 601.3682950992063, 37.7280159206349, 50.369650301587285, 37.34251978174602, 53.081532424603175, 71.18317466269843, 86.52099996825396, 82.39418948809522, 36.09556828571431, 235.70476707142865, 21.957868928571454, 80.64140334126989, 40.248308674603166, 63.17493226587303, 42.67533198412699, 84.19893469841273, 38.040849884920625, 57.495119043650796, 38.646088638888884, 120.64638100000005, 35.782390234126986, 94.1935278214285, 118.58969886507931, 38.096032845238085, 67.96122028571433, 44.169434738095276, 47.51484118253968, 93.89507381349206, 100.68297620634927, 54.35411036904761, 89.48496034126987, 41.69154163095237, 28.53549246428572, 50.35761095634921], \"mode\": \"markers\", \"marker\": {\"sizemode\": \"area\", \"sizeref\": 200000}, \"x\": [1735.344872178676, 1596.3721271226107, 1413.0893208043958, 2941.7196137147885, 1307.9033263628894, 1058.5400997870336, 2344.3660936279516, 1625.1947380261654, 1360.4310416362966, 643.792397278541, 1829.1939199618494, 1965.0868351910738, 3837.9509455329753, 1632.9100520528489, 1710.1572145310788, 885.0022419485548, 1849.115082222193, 962.0068309825782, 2330.195338906229, 919.0466938065908, 1203.4736430532284, 1248.3376247621575, 1963.6890291424972, 957.8628244567124, 3825.8482823244676, 575.5187446094396, 637.1442362430801, 2015.2966617648715, 1473.801234687052, 1179.0127360406382, 1704.9021291092547, 2477.3800485113106, 2479.079290176925, 1244.0514012245994, 1331.967753077414, 1179.4855281482307, 2552.569744705774, 1389.258252472697]}, {\"name\": \"Utilities\", \"text\": [\"ADBE\", \"ALXN\", \"AMGN\", \"DAL\", \"ECL\", \"EL\", \"ESS\", \"FRT\", \"NI\", \"NOC\", \"PM\", \"PSA\", \"SBUX\", \"SIG\", \"SPG\", \"WHR\", \"XLNX\"], \"y\": [67.45305560317458, 166.73130987698417, 123.29764204365085, 36.362623837301605, 105.29953962301596, 70.4389528412698, 169.290389718254, 111.4832849246032, 13.812742984126979, 119.75884742857143, 74.91196768253965, 159.37771717460308, 36.324046904761914, 103.63781093650799, 150.6525897182539, 144.33045141666676, 42.96043248809527], \"mode\": \"markers\", \"marker\": {\"sizemode\": \"area\", \"sizeref\": 200000}, \"x\": [3520.3887997758575, 742.5527077652628, 1216.2272526788447, 2102.115336723675, 1253.7602173221492, 1873.7159624490869, 1808.0815053970134, 1348.7888453002379, 1639.364572362511, 1426.9378358224255, 1113.5943877002346, 1478.496125680008, 967.6405193062011, 1290.745600941257, 1018.1544539329443, 4692.584956229197, 2420.675082935101]}, {\"name\": \"Consumer Staples\", \"text\": [\"CB\", \"CCI\", \"CRM\", \"CTAS\", \"CTSH\", \"DFS\", \"DISCA\", \"KMB\", \"KR\", \"MCK\", \"PCLN\", \"PPG\", \"RHT\", \"WBA\"], \"y\": [101.59738167857138, 69.36716663888886, 57.253611166666666, 61.550047158730166, 48.919126892857136, 57.30106937301587, 39.41893046031744, 97.63672963492057, 23.60077127380953, 184.26346906349204, 1197.960951039681, 96.18944132539686, 56.84365077380953, 63.1201630912699], \"mode\": \"markers\", \"marker\": {\"sizemode\": \"area\", \"sizeref\": 200000}, \"x\": [1235.9650172272368, 2111.9287055066175, 2238.220665178424, 1443.694555040632, 1139.5144816843067, 2158.678130208686, 1781.6862665410408, 3975.3456473460287, 1689.3764699269543, 667.4123805521484, 3894.649820230597, 2478.543158889147, 746.7904871823366, 964.414247753444]}, {\"name\": \"Health Care\", \"text\": [\"AAL\", \"AAP\", \"ADI\", \"ADS\", \"AET\", \"AGN\", \"AMT\", \"AN\", \"BF-B\", \"CAG\", \"CAH\", \"CELG\", \"CI\", \"CINF\", \"DLTR\", \"DPS\", \"EW\", \"FFIV\", \"HAR\", \"HON\", \"HRL\", \"IDXX\", \"ILMN\", \"IPG\", \"LB\", \"MDLZ\", \"MHK\", \"MKC\", \"MTD\", \"SWK\", \"TMK\", \"UNP\", \"VRSN\", \"WFM\"], \"y\": [37.95176500000001, 130.41852393650785, 47.69300973412698, 264.1333140158728, 76.10241092857146, 219.4044909166666, 86.20225021428574, 54.271269845238095, 42.81418272619049, 23.455002444444453, 68.78999197619042, 87.88378972222226, 90.05347622222226, 44.50155234523808, 56.03448399206345, 55.481101281746064, 45.87896833333336, 114.00888919047611, 101.20655873015872, 88.61300173809524, 23.45593612698413, 64.1817658333333, 164.56559540079354, 17.30329755555555, 55.53129238492062, 34.413694634920645, 139.87210315873008, 66.31176722222224, 255.77150753968246, 81.9922712857143, 51.712060742063514, 95.00692552777781, 54.54634922619049, 42.948612837301575], \"mode\": \"markers\", \"marker\": {\"sizemode\": \"area\", \"sizeref\": 200000}, \"x\": [4261.661265989092, 2249.555423450288, 891.6059169336592, 1304.6782428860831, 1889.2255068871518, 841.9770761875865, 879.6276719554935, 3661.238189378708, 2274.243987413337, 2772.4319591748267, 1864.8833956483927, 2233.9055770072573, 1322.1352679157555, 2001.4558193538514, 2463.3901179098434, 1289.3766181733185, 1279.4927070138333, 5586.01758503475, 1178.6459812879987, 1451.133109534512, 1243.934968697804, 779.4900653021576, 2460.8859225509673, 870.3529661661903, 1359.233998799347, 1541.307680211633, 2342.099265243463, 1130.2036619389964, 2580.5468843294093, 3325.0034013588047, 1422.9546725036605, 2422.0999677899863, 823.7339973636505, 1422.5792582600614]}, {\"name\": \"Materials\", \"text\": [\"CMCSA\", \"EFX\", \"EMN\", \"EQR\", \"GOOG\", \"IR\", \"MAS\", \"MSFT\", \"NVDA\", \"SHW\", \"SJM\"], \"y\": [25.49421389682539, 71.14829415079362, 78.00666813492056, 49.56406653174599, 561.3423918730161, 57.01113658730161, 19.050954412698427, 39.49951519841268, 17.893877805555558, 204.92021720634912, 94.43744635317455], \"mode\": \"markers\", \"marker\": {\"sizemode\": \"area\", \"sizeref\": 200000}, \"x\": [1281.1553875249197, 1765.8112259565817, 2056.796515156982, 740.006703101344, 1370.908197405751, 653.2938520626511, 1503.6897740251932, 2703.216705252384, 1093.948723443567, 1417.2864190596033, 1329.7963503233618]}, {\"name\": \"Information Technology\", \"text\": [\"AAPL\", \"AJG\", \"ANTM\", \"ATVI\", \"AVB\", \"AZO\", \"DHI\", \"ES\", \"FL\", \"HAS\", \"HUM\", \"ITW\", \"LEG\", \"LMT\", \"MCD\", \"MMC\", \"MMM\", \"NWL\", \"RCL\", \"RTN\", \"SEE\", \"SNA\", \"TSCO\"], \"y\": [87.63583323809523, 42.36094721428571, 103.0663562142857, 20.225266662698417, 131.94868453174595, 534.7135711825396, 22.06457244047619, 42.04135376190479, 47.38029302777774, 50.366684011904816, 119.69912658730158, 81.399100563492, 32.09988094047619, 155.89729838888877, 88.10786380952376, 48.40164053571425, 133.10126114682527, 30.791525730158725, 56.32466308730157, 91.98835210714279, 33.31650891666668, 114.76402291269847, 65.69399601587301], \"mode\": \"markers\", \"marker\": {\"sizemode\": \"area\", \"sizeref\": 200000}, \"x\": [1027.3517349484484, 2259.315899411442, 999.6719700076859, 1457.9404913063072, 1202.2855219083679, 2681.631743831321, 1567.291921836506, 1385.1280669688135, 3301.972895103774, 2119.0154759466923, 5050.490232373644, 5622.1304850097695, 3912.963193333276, 975.9998942883107, 2044.6491335593691, 2862.237719321154, 2665.632835312923, 2024.2776489404807, 1066.2571758630115, 2801.089782255108, 1863.5654510846111, 2657.8915889126665, 1042.744204582541]}, {\"name\": \"Real Estate\", \"text\": [\"DTE\", \"EXR\", \"F\", \"FIS\", \"JCI\", \"MNST\", \"PRGO\", \"RAI\", \"UAA\"], \"y\": [69.41568136507934, 47.76863994841268, 13.84880273809524, 53.439869503968254, 40.641201591269834, 26.787354511904773, 149.33836080158724, 25.954620055555576, 29.922380960317476], \"mode\": \"markers\", \"marker\": {\"sizemode\": \"area\", \"sizeref\": 200000}, \"x\": [1153.4556431154692, 1729.3087434459844, 1307.7285529703663, 1402.9453145278171, 2228.3334223741836, 924.4118679394492, 1537.5741045504528, 1315.0831345560064, 2070.748177802655]}, {\"name\": \"Energy\", \"text\": [\"AON\", \"APH\", \"CBS\", \"CMI\", \"CMS\", \"CXO\", \"DRI\", \"FISV\", \"KMX\", \"MA\", \"MAA\", \"NEE\", \"OKE\", \"SCG\", \"TDG\", \"TSS\", \"VFC\"], \"y\": [83.89610772222224, 47.28606405555559, 56.794895543650846, 132.95236846825398, 27.55136819444445, 121.22650801190481, 45.82893213492064, 62.110317503968254, 49.75063489285716, 76.05659157142861, 63.17645413888892, 88.80503561111111, 52.12190168650794, 46.64199330158729, 156.0103057460317, 30.587138404761916, 60.096300392857174], \"mode\": \"markers\", \"marker\": {\"sizemode\": \"area\", \"sizeref\": 200000}, \"x\": [692.9179731110439, 2020.791433046225, 1667.7821267246577, 766.2799231579284, 1775.755931141475, 2576.645490580143, 1406.971023268589, 6894.2404936386565, 1383.9351817558463, 2379.3988503167957, 1409.7893290775585, 385.12830267822375, 1066.5252882497398, 916.4820160342949, 1459.5054212870725, 1418.1183038835384, 1754.2515249240664]}, {\"name\": \"Financials\", \"text\": [\"ADP\", \"AME\", \"AMP\", \"AWK\", \"BIIB\", \"BLL\", \"CERN\", \"COST\", \"CVS\", \"EQIX\", \"INTU\", \"JBHT\", \"KLAC\", \"LOW\", \"LUV\", \"MAR\", \"MU\", \"MYL\", \"PNW\", \"STX\", \"SWKS\", \"TJX\", \"TRV\"], \"y\": [67.81146455952383, 50.82665720634921, 109.94033823809524, 44.95065369047617, 317.98309484126975, 59.1656308452381, 57.186547583333315, 114.26015715079362, 75.08748604365074, 184.93558228968257, 79.06108764285713, 74.1424708571429, 53.12598378968256, 49.19675969444447, 28.240194730158738, 60.96504166666667, 29.199880924603168, 50.02369053174601, 51.402591694444425, 49.65182641269843, 46.27580826190476, 57.445870674603185, 86.81740850793646], \"mode\": \"markers\", \"marker\": {\"sizemode\": \"area\", \"sizeref\": 200000}, \"x\": [3022.6359646181636, 1423.780737087557, 1553.0238042309386, 1217.8992451876186, 1915.920765833593, 996.6839861530676, 1177.9887689118855, 2007.5181115631233, 5730.341412028842, 1502.389102687122, 2126.5283952661002, 1862.7415151815758, 2689.081096370495, 1440.8386006128073, 2151.457608522613, 2748.0820873347575, 3240.0055726975397, 3263.079116028344, 1072.213812780576, 1176.6211376595704, 621.654219203866, 1165.0797029756009, 2324.5277724904395]}], \"name\": \"2014\"}, {\"data\": [{\"name\": \"Telecommunications Services\", \"text\": [\"AYI\", \"CLX\", \"GOOGL\", \"LKQ\"], \"y\": [185.62377434523827, 108.60451336904761, 619.9882132103176, 28.328888984126987], \"mode\": \"markers\", \"marker\": {\"sizemode\": \"area\", \"sizeref\": 200000}, \"x\": [1066.6822915522273, 2218.8485502370118, 1205.4686897239437, 2815.5452120805735]}, {\"name\": \"Industrials\", \"text\": [\"ABC\", \"AMZN\", \"COO\", \"DHR\", \"DIS\", \"ED\", \"EXPE\", \"GIS\", \"HSIC\", \"IFF\", \"INCY\", \"LNT\", \"NKE\", \"ORLY\", \"PXD\", \"ROK\", \"ROP\", \"SPGI\", \"STZ\", \"TSO\", \"UNH\", \"URI\"], \"y\": [101.3423782738095, 478.1382951269842, 164.3281065992064, 66.0012118730158, 105.30920030158731, 59.151719249999985, 107.15641644841271, 53.40601196825403, 143.53095231746036, 110.22838435317456, 102.68781756349205, 28.843675583333326, 54.029571035714305, 231.97900806349207, 143.23427925396848, 107.938887765873, 169.17142199206344, 96.670999218254, 121.05184151190471, 90.17002905555559, 113.06758165079363, 81.67829366666673], \"mode\": \"markers\", \"marker\": {\"sizemode\": \"area\", \"sizeref\": 200000}, \"x\": [1572.8515202529147, 808.8849369779618, 1399.5771753787892, 1609.1839596121433, 3281.358240845078, 1255.8629171476746, 592.5094601079887, 1542.8902480281342, 1532.4526456341516, 993.6075444464743, 2873.9702089452426, 1759.2165464043526, 1834.160635848245, 2785.053004539633, 2177.3509461860167, 1470.588911297697, 760.5997007374541, 919.2895376149203, 1173.308475115465, 1785.0289002151126, 2533.9870710385394, 1320.4338813135003]}, {\"name\": \"Consumer Discretionary\", \"text\": [\"ACN\", \"ALK\", \"BMY\", \"CHD\", \"CMG\", \"CNC\", \"CTXS\", \"DISCK\", \"DLR\", \"DVA\", \"GILD\", \"GPC\", \"GPN\", \"GWW\", \"HBI\", \"HD\", \"LEN\", \"LRCX\", \"MCHP\", \"MCO\", \"MO\", \"NFLX\", \"O\", \"PVH\", \"ROST\", \"SRE\", \"TMO\", \"TSN\", \"TWX\", \"TXN\", \"UAL\", \"UHS\", \"ULTA\", \"V\", \"VRTX\", \"WEC\", \"XEL\", \"YUM\"], \"y\": [94.55733534523813, 69.63397771031748, 62.06610428571424, 41.21054495634921, 659.1328968928572, 64.55825401587296, 55.26022780952381, 29.040357063492056, 63.55323388492063, 77.40369044444442, 103.24990309920635, 86.0179265515873, 54.78495049206351, 219.15074907142858, 30.058549202380952, 112.12627396825398, 49.1857273928571, 74.39779877777777, 44.46480861904761, 100.17933493650793, 50.7670912261905, 91.89567440873026, 45.31765959920637, 104.36816716666665, 49.66976291666667, 98.55476380555555, 129.88037878968254, 42.159659059523804, 76.3963903888889, 51.61443226984127, 59.864285456349215, 123.77838898809509, 157.61626988888892, 69.85714813095242, 123.78531753174607, 47.09160575793652, 32.91659944444444, 55.589068071428564], \"mode\": \"markers\", \"marker\": {\"sizemode\": \"area\", \"sizeref\": 200000}, \"x\": [11.20267825120404, 1463.972091849529, 1053.4131976956455, 796.767776010607, 1194.2938074078331, 1801.3571823524335, 1261.3741247305188, 1765.4728670938118, 1914.1563270653849, 1735.3807733668796, 602.64562226216, 7247.326463808283, 2094.994601652324, 1438.4823075750182, 1220.4164329610078, 3718.68261576938, 3790.8174873267403, 1317.1914264708278, 2349.1869583069297, 713.90219862832, 827.6314454658, 5208.830871473852, 1499.8552840243865, 1213.9988690144048, 898.3344376704936, 835.7771309975002, 1394.4836047116237, 1217.0685898423935, 1322.8947036047114, 1420.1123362674684, 2083.661878855786, 1070.779274158897, 2196.972303327309, 2054.250239775828, 888.0107517581616, 1095.4903953705875, 3012.308085173228, 1817.380047787264]}, {\"name\": \"Utilities\", \"text\": [\"ADBE\", \"ALXN\", \"AMGN\", \"DAL\", \"ECL\", \"EL\", \"ESS\", \"FRT\", \"NI\", \"NOC\", \"PM\", \"PSA\", \"SBUX\", \"SIG\", \"SPG\", \"WHR\", \"XLNX\"], \"y\": [80.96781749603173, 177.64789692063485, 151.56201382142876, 44.9645349246032, 111.4386270039683, 81.48009262301579, 214.90203156349187, 132.7123031190476, 16.91959139682539, 163.003342531746, 77.46034572619048, 198.53269907936516, 51.95640478571429, 128.35610798412705, 177.77995312698422, 171.43782913888896, 41.93918025000001], \"mode\": \"markers\", \"marker\": {\"sizemode\": \"area\", \"sizeref\": 200000}, \"x\": [1600.1309470224764, 1119.7588671829844, 1204.6678393543189, 797.179800873451, 1124.2814283615692, 1089.3313807757752, 1215.9102345209117, 2823.960266593988, 2715.7678179973045, 1032.5736454768412, 5364.546682722699, 2130.345750312145, 3511.1683489407305, 2006.6143601789036, 880.6128367528878, 1641.4273453792373, 1266.2275983515237]}, {\"name\": \"Consumer Staples\", \"text\": [\"CB\", \"CCI\", \"CRM\", \"CTAS\", \"CTSH\", \"DFS\", \"DISCA\", \"KMB\", \"KR\", \"MCK\", \"PCLN\", \"PPG\", \"RHT\", \"WBA\", \"WYN\"], \"y\": [108.81588448412708, 78.47737051984127, 70.65543634523807, 83.6755570992064, 62.27857137698407, 55.04109995634923, 30.68571425793653, 106.60864380952381, 36.17871332142856, 210.81146500396818, 1219.880948706349, 104.99541707142849, 74.88623034920631, 82.75868367857144, 79.42016869047619], \"mode\": \"markers\", \"marker\": {\"sizemode\": \"area\", \"sizeref\": 200000}, \"x\": [3184.5546148932813, 1707.2899252584164, 2513.4612194317424, 2893.4399667644466, 1190.8093819444757, 1523.2546608839777, 2462.4125961444383, 2330.679528268969, 1939.2851734922804, 2078.04891703427, 1218.9154039164334, 1192.1121378487635, 1463.011408346627, 1061.0817331593473, 991.0664450039152]}, {\"name\": \"Health Care\", \"text\": [\"AAL\", \"AAP\", \"ADI\", \"ADS\", \"AET\", \"AGN\", \"AMT\", \"AN\", \"BF-B\", \"CAG\", \"CAH\", \"CELG\", \"CI\", \"CINF\", \"DLTR\", \"DPS\", \"EW\", \"FFIV\", \"HAR\", \"HON\", \"HRL\", \"IDXX\", \"ILMN\", \"IPG\", \"LB\", \"MDLZ\", \"MHK\", \"MKC\", \"MTD\", \"REGN\", \"SWK\", \"TMK\", \"VRSN\", \"WFM\"], \"y\": [44.337617710317474, 163.2577154722223, 56.89049323809526, 283.59714481746045, 107.47624785714288, 296.36044740873007, 92.82527773412696, 61.87976191666665, 47.72047760317458, 29.661632500000003, 82.85876997619047, 118.40507934523808, 134.35528423015867, 51.47862825396822, 74.97226209523812, 76.90048149603172, 71.39051591269846, 117.77107134126989, 111.65914447222218, 98.44500270634917, 29.557136031746026, 72.44994048412701, 191.97404752380965, 20.171111043650793, 82.79376636111114, 39.80396006746027, 187.18027790873023, 77.11387566666666, 318.95206352777785, 498.733095079365, 98.0116355436509, 56.255313563492095, 69.30448411507933, 40.048415670634945], \"mode\": \"markers\", \"marker\": {\"sizemode\": \"area\", \"sizeref\": 200000}, \"x\": [1006.6798721934223, 4915.1598578857465, 3399.0511047494433, 3236.0740715912852, 1587.6112634425103, 1374.1499536943177, 1644.0464983962252, 1287.3611806807792, 9187.633704890399, 1054.4019594364818, 2562.081789334231, 1466.2232825479598, 2266.604691029476, 1434.4230353854628, 1159.2813866069503, 1962.6621862008901, 1245.2555994399333, 966.6808291244972, 871.1564107917086, 2004.4198186816577, 1766.7210234225365, 1384.4126598303026, 707.7734481938793, 1891.2496918242703, 4258.42857036359, 1162.9764768533737, 2355.253499651162, 1556.2425495454984, 2060.9274187600167, 1479.7275596519958, 1150.7716527727805, 1408.215407855146, 2982.4281680834792, 1308.794277309257]}, {\"name\": \"Materials\", \"text\": [\"CMCSA\", \"EFX\", \"EMN\", \"EQR\", \"IR\", \"MAS\", \"MSFT\", \"NVDA\", \"SHW\", \"SJM\"], \"y\": [28.692252150793678, 96.63326641666664, 70.39036659126988, 61.86176339682537, 60.28282438492067, 24.63748616666665, 44.62100298809525, 23.286781658730163, 266.19603000396825, 109.85009138888888], \"mode\": \"markers\", \"marker\": {\"sizemode\": \"area\", \"sizeref\": 200000}, \"x\": [4611.224616120696, 1043.36585222409, 2116.5549276843167, 1486.1128319230506, 871.0862585538069, 2789.7135314045395, 1913.7043360232756, 1547.1926702030871, 1647.5978184704456, 1237.6747912472358]}, {\"name\": \"Information Technology\", \"text\": [\"AAPL\", \"AJG\", \"ANTM\", \"ATVI\", \"AVB\", \"AZO\", \"DHI\", \"ES\", \"FL\", \"HAS\", \"HUM\", \"ITW\", \"LEG\", \"LMT\", \"MCD\", \"MMC\", \"MMM\", \"NWL\", \"RCL\", \"RTN\", \"SEE\", \"SNA\", \"TSCO\"], \"y\": [115.96740080555561, 43.2063725952381, 142.74572625793647, 27.351820190476182, 163.95337482142853, 696.8779754642861, 27.886950805555564, 47.115482468253994, 62.58032874603172, 67.3958635357143, 174.5659167380952, 89.1090049484126, 43.663892154761925, 192.796787595238, 94.95879603571434, 54.319070396825396, 149.30463059523814, 39.92903069841271, 81.72327847619056, 105.3751769722222, 46.58019880555557, 151.47517942857147, 85.86587578968248], \"mode\": \"markers\", \"marker\": {\"sizemode\": \"area\", \"sizeref\": 200000}, \"x\": [2098.2456769012824, 1677.5750166558682, 4135.643699537451, 916.1427073974122, 1407.0147391518244, 3373.253045816621, 1292.2355122219863, 1507.8439090198476, 1183.8479766194778, 1154.9159936467036, 3561.3402295721803, 1165.5363572192846, 1343.6195488543221, 1303.8575245955535, 1992.6783642856324, 1019.0458110798381, 3090.909675006311, 1113.5453889866067, 1698.8037340976523, 1180.588029431984, 648.7298334633584, 963.8048771768284, 2242.4126922891965]}, {\"name\": \"Real Estate\", \"text\": [\"DTE\", \"EXR\", \"F\", \"FIS\", \"HSY\", \"JCI\", \"MNST\", \"PRGO\", \"RAI\", \"UAA\"], \"y\": [76.32601141269842, 68.54882034523808, 13.554181833333349, 64.01739684523811, 90.6892594404762, 37.249708388888884, 45.46216928968254, 170.26694611904762, 37.79107705555556, 42.672063519841274], \"mode\": \"markers\", \"marker\": {\"sizemode\": \"area\", \"sizeref\": 200000}, \"x\": [1463.073520703634, 1802.8235130060898, 1763.8274579978909, 5267.096765138584, 1546.6756465256558, 1741.9549772761472, 2553.2286594235125, 881.8808813489999, 1069.7405485770096, 968.977533443093]}, {\"name\": \"Energy\", \"text\": [\"AON\", \"APH\", \"CBS\", \"CMI\", \"CMS\", \"CXO\", \"DRI\", \"FISV\", \"KMX\", \"MA\", \"MAA\", \"NEE\", \"OKE\", \"SCG\", \"TDG\", \"TSS\", \"VFC\"], \"y\": [94.66132794047627, 54.30853611904761, 52.33267604365077, 118.15972540476196, 32.82258683730159, 110.47607137698407, 61.824018563492075, 84.38571421825397, 64.01115077380952, 91.49683267063492, 75.0845176984127, 97.17869384126976, 34.88762707539683, 52.476359460317475, 203.37231262301594, 43.21727206349209, 67.97871759523814], \"mode\": \"markers\", \"marker\": {\"sizemode\": \"area\", \"sizeref\": 200000}, \"x\": [1116.5781770197846, 1541.0529022778703, 4292.82198966142, 1417.3365363042249, 777.4462161767971, 1534.7180115578235, 1474.2434163982725, 1642.8065899744536, 1347.2623623540712, 1135.1089032433065, 2230.6447925378416, 975.2651247184344, 1913.3317778324522, 1029.7865397548744, 3403.4389704234195, 829.0920641241543, 2307.242307060978]}, {\"name\": \"Financials\", \"text\": [\"ADP\", \"AME\", \"AMP\", \"AWK\", \"BIIB\", \"BLL\", \"CERN\", \"COST\", \"CVS\", \"EQIX\", \"INTU\", \"JBHT\", \"KLAC\", \"LOW\", \"LUV\", \"MAR\", \"MU\", \"MYL\", \"PNW\", \"STX\", \"SWKS\", \"TJX\", \"TRV\"], \"y\": [80.79070082936508, 52.82525369047621, 116.19459219841266, 52.2745902738095, 352.58555531349197, 68.48534290079368, 66.47003966666666, 144.641116265873, 98.68610656746027, 251.07224030952378, 95.36201962301587, 79.72549774603175, 56.32055198809526, 69.52563190873015, 40.38743720634919, 73.78067693253972, 22.325952353174607, 57.839166611111146, 59.17417396825397, 44.88789661507938, 87.34555167063492, 67.47384259523808, 101.40128209523814], \"mode\": \"markers\", \"marker\": {\"sizemode\": \"area\", \"sizeref\": 200000}, \"x\": [7199.853255779724, 1000.7772772850903, 1174.3829855823853, 2235.2576997131637, 1507.61361413454, 741.8579207659473, 2497.463713450107, 1258.4389738059017, 2037.8070418178802, 1136.7172869610943, 1237.6547522287003, 1337.522585479089, 2871.2736375321842, 1058.3112108673984, 1588.1540647346949, 1335.991101101434, 2335.3785254521067, 3152.6241903712985, 1894.5228071117715, 2283.916070928969, 2969.526176730172, 5318.142988042898, 1376.6009438941114]}], \"name\": \"2015\"}, {\"data\": [{\"name\": \"Telecommunications Services\", \"text\": [\"AYI\", \"CLX\", \"GOOGL\", \"LKQ\"], \"y\": [241.29229324603173, 124.24413576190466, 763.213214210318, 31.961507857142863], \"mode\": \"markers\", \"marker\": {\"sizemode\": \"area\", \"sizeref\": 200000}, \"x\": [1250.9386951596066, 2273.740711997924, 1375.269381981535, 1815.5159090112695]}, {\"name\": \"Industrials\", \"text\": [\"ABC\", \"AMZN\", \"COO\", \"DHR\", \"DIS\", \"ED\", \"EXPE\", \"GIS\", \"HSIC\", \"IFF\", \"INCY\", \"LNT\", \"NKE\", \"ORLY\", \"PXD\", \"ROK\", \"ROP\", \"SPGI\", \"STZ\", \"TSO\", \"UNH\", \"URI\"], \"y\": [82.14449014285725, 699.5231348611112, 163.95514003571427, 74.62562462301585, 96.40984699603173, 72.09312985714293, 111.86120237698412, 62.225909599206325, 163.7841270238096, 122.82995147222219, 83.54432543650793, 35.97175732936509, 55.683686523809534, 269.2490479246033, 158.83891595238092, 113.41594840873017, 174.44047557142846, 107.84513459126985, 155.18913181349203, 80.07474160317459, 133.69391768650792, 72.25408730158728], \"mode\": \"markers\", \"marker\": {\"sizemode\": \"area\", \"sizeref\": 200000}, \"x\": [1109.13594283232, 1477.304898084604, 1123.7889425072606, 1334.0767272858463, 1686.3620795938407, 1166.3715613163838, 2084.806526747327, 690.6693900479493, 1671.9396349321773, 1721.3603194004297, 758.2660880703161, 941.8299479171656, 2430.423815023816, 1699.8074120603303, 1271.4887849126826, 2320.6771555555633, 1626.8533997035456, 917.3352540123858, 2330.171071449953, 1412.3965055496594, 2328.976374371572, 2313.3631808147215]}, {\"name\": \"Consumer Discretionary\", \"text\": [\"ACN\", \"ALK\", \"BMY\", \"CHD\", \"CMG\", \"CNC\", \"CTXS\", \"DISCK\", \"DLR\", \"DVA\", \"GILD\", \"GPC\", \"GPN\", \"GWW\", \"HBI\", \"HD\", \"LEN\", \"LRCX\", \"MCHP\", \"MCO\", \"MO\", \"NFLX\", \"O\", \"PVH\", \"ROST\", \"SRE\", \"TMO\", \"TSN\", \"TWX\", \"TXN\", \"UAL\", \"UHS\", \"ULTA\", \"V\", \"VRTX\", \"WEC\", \"XEL\", \"YUM\"], \"y\": [111.72404536904759, 71.05091375793648, 62.18023047222224, 46.2248807142857, 428.56464291269833, 62.799682611111095, 64.98090204761904, 25.870793734126977, 90.9428085555556, 68.98964283333332, 82.40392989285715, 93.6405299246032, 70.15722585317455, 218.07795186111113, 26.08483209523808, 127.60654842460315, 44.44729977380954, 85.48443871428567, 53.04389726587301, 97.17876006349199, 62.58346729365075, 102.03035719841262, 59.924296932539676, 95.37140946428572, 59.1045466587302, 101.57687830158734, 145.5841085833333, 65.46005614682535, 76.47627611111115, 62.027925420634936, 53.019523821428535, 122.18216994841266, 224.0811117182539, 77.4673866984127, 88.18281736507939, 57.58393528174604, 40.04350973412696, 58.796372214285725], \"mode\": \"markers\", \"marker\": {\"sizemode\": \"area\", \"sizeref\": 200000}, \"x\": [1857.5604841783625, 1645.5535325754154, 707.89201938651, 1702.013163733997, 1229.087447003244, 803.6027507123038, 2211.1277019398303, 1838.5588947661724, 1767.4180791953743, 1307.4573955849733, 3307.5663618581016, 1266.8525866060645, 5960.492582446255, 3705.209331532591, 2591.8666283294015, 800.0002480158346, 1640.231545791485, 922.0525757140709, 1853.0147036824862, 2042.0971363492272, 2704.2551713449734, 460.1160136658428, 2416.2296813456855, 1658.8504816995776, 852.2623953197692, 2677.977574381251, 1393.3296308905012, 2370.7549363554995, 782.4617745113358, 1306.9357108828851, 1189.6032752060464, 1521.5480055960552, 1205.7869721564512, 1017.1632276808043, 3082.117778411461, 963.1279645978909, 1484.3865976990535, 1042.6334561146232]}, {\"name\": \"Utilities\", \"text\": [\"ADBE\", \"ALXN\", \"AMGN\", \"DAL\", \"ECL\", \"EL\", \"ESS\", \"FRT\", \"NI\", \"NOC\", \"PM\", \"PSA\", \"SBUX\", \"SIG\", \"SPG\", \"WHR\", \"XLNX\"], \"y\": [97.32503951587303, 134.85746038888888, 153.03522850396823, 42.5698907222222, 114.458530202381, 87.69074397222231, 217.82033651190477, 148.81011478174602, 22.741577801587304, 209.84822378968246, 93.7205346746032, 234.15183001984127, 55.91284247222228, 95.92257390476189, 194.66519129365074, 164.43510206349208, 48.559938309523815], \"mode\": \"markers\", \"marker\": {\"sizemode\": \"area\", \"sizeref\": 200000}, \"x\": [11.20267825120404, 2671.456561265812, 1524.0772644247759, 2865.149792477408, 2638.1683310314265, 1814.4880995730073, 1299.2723848980745, 1055.7563301119385, 2009.0626022308363, 2050.6326936934474, 2123.0260673245825, 1739.2699389786856, 1261.6114663649391, 1692.7209944581432, 1341.1310673019768, 1404.2613716826365, 3061.314299136114]}, {\"name\": \"Consumer Staples\", \"text\": [\"CB\", \"CCI\", \"CRM\", \"CTAS\", \"CTSH\", \"DFS\", \"DISCA\", \"KMB\", \"KR\", \"MCK\", \"PCLN\", \"PPG\", \"RHT\", \"WBA\", \"WYN\"], \"y\": [123.0825790396825, 87.83861856349202, 74.55396832142854, 99.02643900396822, 57.24761894444447, 55.17964138888886, 26.717936440476205, 123.57672524603169, 34.70975345238096, 166.84336939285723, 1346.7126995357144, 100.86995851587304, 74.29809516269836, 80.11870671428565, 69.74858978571432], \"mode\": \"markers\", \"marker\": {\"sizemode\": \"area\", \"sizeref\": 200000}, \"x\": [1921.383223634341, 4702.006579431368, 1902.5192154297326, 699.6220635071709, 1550.9172912971358, 2254.5593135716563, 3210.8707343983615, 2747.7035866337546, 3934.8979434537846, 2550.9409250656126, 1640.9045850209748, 1807.2170133476868, 3193.27486525657, 2461.759114232734, 2370.948005428302]}, {\"name\": \"Health Care\", \"text\": [\"AAL\", \"AAP\", \"ADI\", \"ADS\", \"AET\", \"AGN\", \"AMT\", \"AN\", \"BF-B\", \"CAG\", \"CAH\", \"CELG\", \"CI\", \"CINF\", \"DLTR\", \"DPS\", \"EW\", \"FFIV\", \"HAR\", \"HON\", \"HRL\", \"IDXX\", \"ILMN\", \"IPG\", \"LB\", \"MDLZ\", \"MHK\", \"MKC\", \"MTD\", \"REGN\", \"SWK\", \"TMK\", \"UNP\", \"VRSN\", \"WFM\"], \"y\": [37.91105794444443, 155.3529158928571, 59.14388304761904, 213.62476586111117, 114.14156516666674, 241.01367908333347, 104.5758044920634, 47.99503967063492, 47.151410849206385, 34.864769865079374, 77.38342794841265, 106.52238090476195, 132.6004345753968, 68.76417998015874, 83.54301575000004, 89.60638284523809, 99.09865080555561, 115.20519835714288, 83.11806269841266, 110.17433449206355, 37.61288139682541, 94.5356349404762, 151.53579335317463, 22.352283269841273, 73.59572323809523, 42.39397708730158, 192.83579378968255, 94.51437253174608, 375.5649206785717, 394.4999603134919, 110.56220444444449, 60.52418904761908, 86.9632158611111, 81.81349190079364, 30.45715908730157], \"mode\": \"markers\", \"marker\": {\"sizemode\": \"area\", \"sizeref\": 200000}, \"x\": [3247.669432998338, 1066.766736377391, 1443.2765577747816, 6198.012770363361, 1680.2727953123167, 1891.042481454784, 1239.3453853252468, 853.4670189181023, 2094.0415279155573, 830.5816474109412, 1254.8926470242607, 1935.6784832394533, 2202.356872455233, 2223.45585797896, 1806.4403082586448, 2850.1726486274697, 1501.5394217004875, 1541.029984360594, 1402.7231169611282, 2081.1849875445846, 2206.4460039289356, 1818.0003841653602, 963.4832639957998, 2009.4556239842434, 1352.8464993463415, 916.4716242717165, 2013.816167269385, 2345.7742316838053, 1900.672500032805, 1155.9224654066318, 1162.292480197566, 4857.610049893404, 1357.7953945029174, 2085.024456481742, 982.381500588449]}, {\"name\": \"Materials\", \"text\": [\"CMCSA\", \"EFX\", \"EMN\", \"EQR\", \"GOOG\", \"IR\", \"MAS\", \"MSFT\", \"NVDA\", \"SHW\", \"SJM\"], \"y\": [31.320896242063487, 119.46198476190474, 68.57873682936507, 63.16135478968254, 743.4867066984126, 63.5023473452381, 31.243578392857152, 54.23615385714285, 53.53205770634919, 275.50575504365094, 131.9129470674603], \"mode\": \"markers\", \"marker\": {\"sizemode\": \"area\", \"sizeref\": 200000}, \"x\": [1333.4907645153073, 1376.832545062346, 1228.364023652262, 1058.6295048653371, 4356.014588501524, 1913.2715271251848, 1405.164934113961, 1465.6534649653988, 3137.4623250757677, 765.4229041662016, 2185.970780675774]}, {\"name\": \"Information Technology\", \"text\": [\"AAPL\", \"AJG\", \"ANTM\", \"ATVI\", \"AVB\", \"AZO\", \"DHI\", \"ES\", \"FL\", \"HAS\", \"HUM\", \"ITW\", \"LEG\", \"LMT\", \"MCD\", \"MMC\", \"MMM\", \"NWL\", \"RCL\", \"RTN\", \"SEE\", \"SNA\", \"TSCO\"], \"y\": [103.15032854761901, 45.51302861111108, 131.4291114801587, 37.840989242063486, 173.080278138889, 768.8588489166661, 29.430103071428565, 53.832441329365025, 63.37539340079366, 79.40913556746032, 178.18232621428575, 107.32794154761903, 47.2185307261905, 233.0588684444445, 117.331353547619, 62.82915904365079, 165.37558119841265, 46.04643713095238, 74.53801098015882, 132.02087727777777, 45.67328135714282, 155.40674444444443, 82.39455766269849], \"mode\": \"markers\", \"marker\": {\"sizemode\": \"area\", \"sizeref\": 200000}, \"x\": [3961.7338275854577, 1329.4177625192117, 1429.454746753416, 2029.3537363657395, 1154.758959250048, 1180.5754246693996, 2837.216316844986, 868.8858949325271, 5045.175677719025, 851.5098634889954, 1423.657401492858, 1183.9637824254753, 4380.06337382579, 1013.1723713012776, 1669.8400740837048, 1400.8329438258997, 1081.9351783534585, 1544.5017689487163, 1062.3330867960328, 1157.7555941877438, 975.7398495338058, 3049.527285771791, 1370.2703649338232]}, {\"name\": \"Real Estate\", \"text\": [\"DTE\", \"EXR\", \"F\", \"FIS\", \"HSY\", \"JCI\", \"MNST\", \"PRGO\", \"RAI\", \"UAA\"], \"y\": [89.85420851190479, 81.91243575396821, 12.162407849206348, 70.75068041666663, 95.202514484127, 40.19130846825395, 47.66328038888888, 103.90878741666671, 49.30381834920636, 38.15894845634925], \"mode\": \"markers\", \"marker\": {\"sizemode\": \"area\", \"sizeref\": 200000}, \"x\": [1353.8274666750594, 661.5515073109552, 1888.8628266175863, 1069.3346470126119, 1830.0416336663986, 1219.7226786029735, 2329.781906136008, 2347.29149893071, 1730.6224222094108, 1299.3099511688306]}, {\"name\": \"Energy\", \"text\": [\"AON\", \"APH\", \"CBS\", \"CMI\", \"CMS\", \"CXO\", \"DRI\", \"FISV\", \"KMX\", \"MA\", \"MAA\", \"NEE\", \"OKE\", \"SCG\", \"TDG\", \"TSS\", \"VFC\"], \"y\": [104.55850208730163, 58.97661038095239, 53.385506250000056, 113.98109035317464, 40.59243953571428, 117.89369062301583, 63.7008000436508, 101.4203969246032, 52.886904825396826, 95.40458906746032, 94.12824553571431, 116.87231169047617, 39.881718595238134, 68.03203890079365, 234.7027282023812, 48.57535486111113, 58.85974611904764], \"mode\": \"markers\", \"marker\": {\"sizemode\": \"area\", \"sizeref\": 200000}, \"x\": [3591.3781786693285, 1124.9902997818135, 889.6777997126754, 1560.9611152026187, 1198.3652886659247, 4981.306125333567, 1814.9828369471427, 5974.745196134322, 4129.898486396065, 1509.5122990397863, 1240.2969434520542, 1195.752569033078, 1310.4464282334632, 3971.941870448537, 1776.6510318261403, 1825.0067405833336, 1370.9381563627983]}, {\"name\": \"Financials\", \"text\": [\"ADP\", \"AME\", \"AMP\", \"AWK\", \"BIIB\", \"BLL\", \"CERN\", \"COST\", \"CVS\", \"EQIX\", \"INTU\", \"JBHT\", \"KLAC\", \"LOW\", \"LUV\", \"MAR\", \"MU\", \"MYL\", \"PNW\", \"STX\", \"SWKS\", \"TJX\", \"TRV\"], \"y\": [87.42015571428566, 47.48593938492064, 95.21994614285711, 71.55820428968255, 280.1989683134921, 73.23826445634921, 56.63162715079364, 153.11474299206347, 91.74718651984118, 338.43484199206387, 105.56393791269846, 81.68856796031741, 70.4322305, 73.25988275793652, 41.30847257936514, 68.76810784523809, 14.161865134920632, 43.4990079563492, 72.29656785317464, 30.322716666666658, 69.90306479365078, 74.98840879761906, 111.40335496031749], \"mode\": \"markers\", \"marker\": {\"sizemode\": \"area\", \"sizeref\": 200000}, \"x\": [1017.0532052071918, 740.2895186537302, 1162.9653873024304, 2083.2664751176712, 2422.0254215959712, 2327.7005139277867, 1573.5334568043158, 1482.3105087816266, 1424.5319476379846, 3381.0456140733218, 1194.164049776151, 4781.926622421367, 967.3505380636657, 1583.7988037606451, 767.693670306439, 1597.0309754378393, 2369.9871910443494, 3191.045942375197, 3465.746043050563, 1088.8128820249567, 1116.6297079882413, 2005.7666863321865, 1371.6020062292355]}], \"name\": \"2016\"}]);}).then(function(){Plotly.animate('55eb6221-70e3-471b-9154-219a58030e1a');})\n",
       "        });</script>"
      ]
     },
     "metadata": {},
     "output_type": "display_data"
    }
   ],
   "source": [
    "from plotly.offline import init_notebook_mode, iplot\n",
    "from IPython.display import display, HTML\n",
    "init_notebook_mode(connected=True)\n",
    "from plotly.grid_objs import Grid, Column\n",
    "from plotly.tools import FigureFactory as FF \n",
    "\n",
    "\n",
    "#make figure \n",
    "figure = {\n",
    "    'data': [],\n",
    "    'layout': {},\n",
    "    'frames': [],\n",
    "    'config': {'scrollzoom': True}\n",
    "}\n",
    "\n",
    "#fill layout\n",
    "figure['layout']['xaxis']={'title':'Sqrt(Mean Volume)','range':[min(SP['mean_volume']),max(SP['mean_volume'])] }\n",
    "figure['layout']['yaxis'] = {'title': 'Mean Stock Value'}\n",
    "figure['layout']['hovermode'] = 'closest'\n",
    "\n",
    "#Slider information\n",
    "figure['layout']['slider'] = {\n",
    "    'args': [\n",
    "        'slider.value', {\n",
    "            'duration': 400,\n",
    "            'ease': 'cubic-in-out'\n",
    "        }\n",
    "    ],\n",
    "    'initialValue': '2008',\n",
    "    'plotlycommand': 'animate',\n",
    "    'values': years,\n",
    "    'visible': True\n",
    "}\n",
    "figure['layout']['updatemenus'] = [\n",
    "    {\n",
    "        'buttons': [\n",
    "            {\n",
    "                'args': [None, {'frame': {'duration': 500, 'redraw': False},\n",
    "                         'fromcurrent': True, 'transition': {'duration': 300, 'easing': 'quadratic-in-out'}}],\n",
    "                'label': 'Play',\n",
    "                'method': 'animate'\n",
    "            },\n",
    "            {\n",
    "                'args': [[None], {'frame': {'duration': 0, 'redraw': False}, 'mode': 'immediate',\n",
    "                'transition': {'duration': 0}}],\n",
    "                'label': 'Pause',\n",
    "                'method': 'animate'\n",
    "            }\n",
    "        ],\n",
    "        'direction': 'left',\n",
    "        'pad': {'r': 10, 't': 87},\n",
    "        'showactive': False,\n",
    "        'type': 'buttons',\n",
    "        'x': 0.1,\n",
    "        'xanchor': 'right',\n",
    "        'y': 0,\n",
    "        'yanchor': 'top'\n",
    "    }\n",
    "]\n",
    "\n",
    "# determine where on the plot the slider will appear.\n",
    "sliders_dict = {\n",
    "    'active': 0,\n",
    "    'yanchor': 'top',\n",
    "    'xanchor': 'left',\n",
    "    'currentvalue': {\n",
    "        'font': {'size': 20},\n",
    "        'prefix': 'Year:',\n",
    "        'visible': True,\n",
    "        'xanchor': 'right'\n",
    "    },\n",
    "    'transition': {'duration': 300, 'easing': 'cubic-in-out'},\n",
    "    'pad': {'b': 10, 't': 50},\n",
    "    'len': 0.9,\n",
    "    'x': 0.1,\n",
    "    'y': 0,\n",
    "    'steps': []\n",
    "}\n",
    "\n",
    "#make data\n",
    "year = '2008'\n",
    "for sector in sectors:\n",
    "    dataset_by_year = SP[SP[\"years\"]==year]\n",
    "    dataset_by_year_and_sector = dataset_by_year[dataset_by_year['sector']==sector]\n",
    "        \n",
    "    data_dict = {\n",
    "            'x':list(dataset_by_year_and_sector['mean_volume']),\n",
    "            'y': list(dataset_by_year_and_sector['stock_price']),\n",
    "            'text': list(dataset_by_year_and_sector['company']), #this should be stock name \n",
    "            'mode':'markers',\n",
    "            'marker': {\n",
    "                'sizemode': 'area',\n",
    "                'sizeref': 200000,\n",
    "            },\n",
    "            'name': sector\n",
    "        }\n",
    "        \n",
    "    figure['data'].append(data_dict)\n",
    "\n",
    "    \n",
    "# make frames\n",
    "\n",
    "for year in years:\n",
    "    frame = {'data': [], 'name': str(year)}\n",
    "    for sector in sectors:\n",
    "        dataset_by_year = SP[SP['years']==year]\n",
    "        dataset_by_year_and_sector = dataset_by_year[dataset_by_year['sector']==sector]\n",
    "        \n",
    "        data_dict = {\n",
    "            'x':list(dataset_by_year_and_sector['mean_volume']),\n",
    "            'y': list(dataset_by_year_and_sector['stock_price']),\n",
    "            'mode': 'markers',\n",
    "            'text': list(dataset_by_year_and_sector['company']),  \n",
    "            'marker': {\n",
    "                'sizemode': 'area',\n",
    "                'sizeref': 200000,\n",
    "            },\n",
    "            'name': sector\n",
    "        }\n",
    "        frame['data'].append(data_dict)\n",
    "        \n",
    "    figure['frames'].append(frame)\n",
    "    slider_step = {'args': [\n",
    "        [year],\n",
    "        {'frame': {'duration': 500, 'redraw': False},\n",
    "         'mode': 'immediate',\n",
    "       'transition': {'duration': 500}}\n",
    "     ],\n",
    "     'label': year,\n",
    "     'method': 'animate'}\n",
    "    sliders_dict['steps'].append(slider_step)\n",
    "\n",
    "    \n",
    "figure['layout']['sliders'] = [sliders_dict]\n",
    "iplot(figure, validate=False)\n",
    "                                                   "
   ]
  },
  {
   "cell_type": "code",
   "execution_count": null,
   "metadata": {
    "collapsed": true
   },
   "outputs": [],
   "source": []
  }
 ],
 "metadata": {
  "anaconda-cloud": {},
  "kernelspec": {
   "display_name": "Python [conda root]",
   "language": "python",
   "name": "conda-root-py"
  },
  "language_info": {
   "codemirror_mode": {
    "name": "ipython",
    "version": 2
   },
   "file_extension": ".py",
   "mimetype": "text/x-python",
   "name": "python",
   "nbconvert_exporter": "python",
   "pygments_lexer": "ipython2",
   "version": "2.7.12"
  }
 },
 "nbformat": 4,
 "nbformat_minor": 1
}
